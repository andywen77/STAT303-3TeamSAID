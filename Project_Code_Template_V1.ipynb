{
  "cells": [
    {
      "cell_type": "raw",
      "id": "33dd6c4c",
      "metadata": {
        "id": "33dd6c4c"
      },
      "source": [
        "---\n",
        "title: \"Project Code\"\n",
        "subtitle: Team name\n",
        "author: Author 1, Author 2, Author 3, and Author 4 \n",
        "date: 05/23/2023\n",
        "number-sections: true\n",
        "abstract: _This file contains the code for the project on <>, as part of the STAT303-3 course in Spring 2023_.\n",
        "format: \n",
        "  html:\n",
        "    toc: true\n",
        "    toc-title: Contents\n",
        "    self-contained: true\n",
        "    font-size: 100%\n",
        "    toc-depth: 4\n",
        "    mainfont: serif\n",
        "jupyter: python3\n",
        "---"
      ]
    },
    {
      "cell_type": "code",
      "execution_count": 2,
      "id": "qebBSbKYREkz",
      "metadata": {
        "id": "qebBSbKYREkz"
      },
      "outputs": [],
      "source": [
        "import pandas as pd\n",
        "import numpy as np\n",
        "import seaborn as sns\n",
        "import matplotlib.pyplot as plt\n",
        "from sklearn.metrics import mean_squared_error\n",
        "from sklearn.model_selection import cross_val_score,train_test_split, KFold, cross_val_predict\n",
        "from sklearn.metrics import mean_squared_error,r2_score,roc_curve,auc,precision_recall_curve, accuracy_score, \\\n",
        "recall_score, precision_score, confusion_matrix, make_scorer, roc_auc_score\n",
        "from sklearn.tree import DecisionTreeRegressor,DecisionTreeClassifier\n",
        "from sklearn.model_selection import GridSearchCV, ParameterGrid, StratifiedKFold, RandomizedSearchCV\n",
        "from sklearn.ensemble import VotingRegressor, VotingClassifier, StackingRegressor, StackingClassifier, GradientBoostingRegressor,GradientBoostingClassifier, BaggingRegressor,BaggingClassifier,RandomForestRegressor,RandomForestClassifier,AdaBoostRegressor,AdaBoostClassifier\n",
        "from sklearn.linear_model import LinearRegression,LogisticRegression, LassoCV, RidgeCV, ElasticNetCV\n",
        "from sklearn.neighbors import KNeighborsRegressor\n",
        "import itertools as it\n",
        "import time as time\n",
        "import xgboost as xgb"
      ]
    },
    {
      "cell_type": "markdown",
      "id": "fe7ea9bb",
      "metadata": {
        "id": "fe7ea9bb"
      },
      "source": [
        "## Data quality check / cleaning / preparation "
      ]
    },
    {
      "cell_type": "code",
      "execution_count": 3,
      "id": "3rkF2TnmWx6N",
      "metadata": {
        "id": "3rkF2TnmWx6N"
      },
      "outputs": [],
      "source": [
        "# reading in the data\n",
        "nba_2017 = pd.read_csv('https://raw.githubusercontent.com/Dmjohnson4/Stat-303-3-Datasets/main/NBA%20Players%20Stats%20201718.csv',\n",
        "                            encoding='latin-1')\n",
        "nba_2018 = pd.read_csv('https://raw.githubusercontent.com/Dmjohnson4/Stat-303-3-Datasets/main/NBA%20Players%20Stats%20201819.csv',\n",
        "                            encoding = 'latin-1')"
      ]
    },
    {
      "cell_type": "markdown",
      "id": "ff6b5e83",
      "metadata": {
        "id": "ff6b5e83"
      },
      "source": [
        "### Data cleaning\n",
        "*By Davis Johnson*"
      ]
    },
    {
      "cell_type": "code",
      "execution_count": 4,
      "id": "25ddf4d3",
      "metadata": {
        "id": "25ddf4d3"
      },
      "outputs": [],
      "source": [
        "#Train Dataset#\n",
        "\n",
        "## getting rid of '//' characters in player names\n",
        "nba_2017['Player'] = nba_2017['Player'].str.split('\\\\').str[0]\n",
        "\n",
        "## If players played for more than one team, we want to only keep the row that has their total stats for the year\n",
        "## applying boolean mask to get of rid of extra rows belonging to players and only keeping their 'TOT' rows\n",
        "duplicated_players = nba_2017['Player'].duplicated(keep=False)\n",
        "mask = duplicated_players & (nba_2017['Tm'] == 'TOT')\n",
        "filtered_df = nba_2017[mask]\n",
        "\n",
        "## creating seperate subset of players that don't have more than one row\n",
        "single_team_df = nba_2017[~duplicated_players]\n",
        "\n",
        "## combining previously created subset with players that played for more than one team and now only have one row assigned to them\n",
        "nba_2017_2018 = pd.concat([filtered_df, single_team_df])\n",
        "nba_2017_2018 = nba_2017_2018.reset_index(drop=True)\n",
        "\n",
        "## filling all N/A values with 0, since we are assuming players have no stats for these data points\n",
        "nba_2017_2018.fillna(0, inplace=True)\n"
      ]
    },
    {
      "cell_type": "code",
      "execution_count": 5,
      "id": "HWTIclj2dRmz",
      "metadata": {
        "id": "HWTIclj2dRmz"
      },
      "outputs": [],
      "source": [
        "## repeating the process for test dataset\n",
        "nba_2018['Player'] = nba_2018['Player'].str.split('\\\\').str[0]\n",
        "duplicated_players = nba_2018['Player'].duplicated(keep=False)\n",
        "mask = duplicated_players & (nba_2018['Tm'] == 'TOT')\n",
        "filtered_df = nba_2018[mask]\n",
        "single_team_df = nba_2018[~duplicated_players]\n",
        "nba_2018_2019 = pd.concat([filtered_df, single_team_df])\n",
        "nba_2018_2019 = nba_2018_2019.reset_index(drop=True)\n",
        "nba_2018_2019.fillna(0, inplace=True)\n"
      ]
    },
    {
      "cell_type": "markdown",
      "id": "424479b5",
      "metadata": {
        "id": "424479b5"
      },
      "source": [
        "### Data preparation\n",
        "*By Davis Johnson*\n",
        "\n",
        "The following data preparation steps helped us to prepare our data for implementing various modeling / validation techniques:\n",
        "\n",
        "1. We want to predict All-Star appearances. Thus, we manually created a response column using binary classification. A `1` in the column signifies that the player was an All-Star in the following year.\n",
        "\n",
        "2. We also performed some basic data preparation techniques (dropping non-relevant predictors, removing players from the analysis who appeared in a limited number of games)"
      ]
    },
    {
      "cell_type": "code",
      "execution_count": 6,
      "id": "bde6859d",
      "metadata": {
        "id": "bde6859d"
      },
      "outputs": [],
      "source": [
        "## Train dataset\n",
        "\n",
        "## dropping predictors that won't factor into our analysis, we our focusing on stats\n",
        "nba_2017_2018 = nba_2017_2018.drop(columns=['Rk','Tm', 'Pos'], axis=1)\n",
        "\n",
        "## removing players who played less than 20 games\n",
        "nba_2017_2018 = nba_2017_2018[nba_2017_2018['G'] >= 20]\n",
        "nba_2017_2018 = nba_2017_2018.reset_index(drop=True)\n",
        "\n",
        "## converting stats into percentage form\n",
        "percentage_columns = ['FG%', '3P%', '2P%', 'eFG%', 'FT%']\n",
        "for col in percentage_columns:\n",
        "    nba_2017_2018[col] = nba_2017_2018[col] * 100\n",
        "\n",
        "## creating response variable\n",
        "## manually creating list of the following year's NBA All-Stars\n",
        "all_star_list = ['Kemba Walker', 'Kyrie Irving', 'Kawhi Leonard', 'Giannis Antetokounmpo', \n",
        "                'Joel Embiid', 'Kyle Lowry', 'Victor Oladipo', 'Khris Middleton', 'Bradley Beal',\n",
        "                'Ben Simmons', 'Blake Griffin', 'Nikola Vučević', \"D'Angelo Russell\",\n",
        "                'Stephen Curry', 'James Harden', 'Kevin Durant', 'Paul George', 'LeBron James',\n",
        "                'Russell Westbrook', 'Damian Lillard', 'Klay Thompson', 'Anthony Davis', \n",
        "                'LaMarcus Aldridge', 'DeMarcus Cousins', 'Nikola Jokić', 'Karl-Anthony Towns']\n",
        "\n",
        "## assigning a 1 to rows in a new column if the player name is in the list above\n",
        "nba_2017_2018['AS_NY'] = nba_2017_2018['Player'].apply(lambda x: 1 if x in all_star_list else 0)"
      ]
    },
    {
      "cell_type": "code",
      "execution_count": 7,
      "id": "edf0986d",
      "metadata": {
        "id": "edf0986d"
      },
      "outputs": [],
      "source": [
        "## repeating process for test dataset\n",
        "\n",
        "nba_2018_2019 = nba_2018_2019.drop(columns=['Rk','Tm', 'Pos'], axis=1)\n",
        "nba_2018_2019 = nba_2018_2019[nba_2018_2019['G'] >= 20]\n",
        "nba_2018_2019 = nba_2018_2019.reset_index(drop=True)\n",
        "\n",
        "percentage_columns = ['FG%', '3P%', '2P%', 'eFG%', 'FT%']\n",
        "for col in percentage_columns:\n",
        "    nba_2018_2019[col] = nba_2018_2019[col] * 100\n",
        "\n",
        "all_star_list = ['Kemba Walker', 'Trae Young', 'Giannis Antetokounmpo', 'Pascal Siakam', 'Joel Embiid',\n",
        "                'Kyle Lowry', 'Ben Simmons', 'Jimmy Butler', 'Khris Middleton', 'Bam Adebayo', \n",
        "                'Jayson Tatum', 'Domantas Sabonis', 'James Harden', 'Luka Dončić', 'LeBron James',\n",
        "                'Kawhi Leonard', 'Anthony Davis', 'Chris Paul', 'Russell Westbrook', 'Damian Lillard', \n",
        "                'Donovan Mitchell', 'Brandon Ingram', 'Nikola Jokić', 'Rudy Gobert', 'Devin Booker']\n",
        "nba_2018_2019['AS_NY'] = nba_2018_2019['Player'].apply(lambda x: 1 if x in all_star_list else 0)"
      ]
    },
    {
      "cell_type": "code",
      "source": [
        "X_train = nba_2017_2018.drop(['Player', 'AS_NY'], axis=1) \n",
        "y_train = nba_2017_2018['AS_NY']  \n",
        "\n",
        "X_test = nba_2018_2019.drop(['Player', 'AS_NY'], axis=1)  \n",
        "y_test = nba_2018_2019['AS_NY']  "
      ],
      "metadata": {
        "id": "IswxfW_AV3Qe"
      },
      "id": "IswxfW_AV3Qe",
      "execution_count": 8,
      "outputs": []
    },
    {
      "cell_type": "markdown",
      "id": "371a5a4a",
      "metadata": {
        "id": "371a5a4a"
      },
      "source": [
        "### Distribution of response\n",
        "*By Davis Johnson*"
      ]
    },
    {
      "cell_type": "code",
      "execution_count": null,
      "id": "b868f6b5",
      "metadata": {
        "colab": {
          "base_uri": "https://localhost:8080/",
          "height": 490
        },
        "id": "b868f6b5",
        "outputId": "d2af538e-27e8-4d95-b4a5-88eb42e6aa2f"
      },
      "outputs": [
        {
          "data": {
            "text/plain": [
              "Text(0.5, 1.0, \"Number of 0's and 1's\")"
            ]
          },
          "execution_count": 7,
          "metadata": {},
          "output_type": "execute_result"
        },
        {
          "data": {
            "image/png": "[encoded data removed]",
            "text/plain": [
              "<Figure size 640x480 with 1 Axes>"
            ]
          },
          "metadata": {},
          "output_type": "display_data"
        }
      ],
      "source": [
        "## bar plot for distribution of response for train data\n",
        "proportions = nba_2017_2018['AS_NY'].value_counts()\n",
        "plt.bar(proportions.index.astype(str), proportions.values)\n",
        "plt.xlabel('Response')\n",
        "plt.ylabel('Proportion')\n",
        "plt.title('Number of 0\\'s and 1\\'s')"
      ]
    },
    {
      "cell_type": "code",
      "execution_count": null,
      "id": "34g685i_gpNf",
      "metadata": {
        "colab": {
          "base_uri": "https://localhost:8080/",
          "height": 490
        },
        "id": "34g685i_gpNf",
        "outputId": "384cf8ea-ffe9-4fdd-e279-9d80de89a8e0"
      },
      "outputs": [
        {
          "data": {
            "text/plain": [
              "Text(0.5, 1.0, \"Number of 0's and 1's\")"
            ]
          },
          "execution_count": 8,
          "metadata": {},
          "output_type": "execute_result"
        },
        {
          "data": {
            "image/png": "[encoded data removed]",
            "text/plain": [
              "<Figure size 640x480 with 1 Axes>"
            ]
          },
          "metadata": {},
          "output_type": "display_data"
        }
      ],
      "source": [
        "## bar plot for distribution of response for test data\n",
        "proportions = nba_2018_2019['AS_NY'].value_counts()\n",
        "plt.bar(proportions.index.astype(str), proportions.values)\n",
        "plt.xlabel('Response')\n",
        "plt.ylabel('Proportion')\n",
        "plt.title('Number of 0\\'s and 1\\'s')"
      ]
    },
    {
      "cell_type": "markdown",
      "id": "nC2d75KhhEJj",
      "metadata": {
        "id": "nC2d75KhhEJj"
      },
      "source": [
        "For both datasets, we see very skewed class distributions. This makes sense, as there are over 400 NBA players in a given year and only about 25 are voted as an All-Star each year. We do keep this in mind during model development by using StratifiedKFold."
      ]
    },
    {
      "cell_type": "markdown",
      "id": "fbb11c9b",
      "metadata": {
        "id": "fbb11c9b"
      },
      "source": [
        "## Exploratory data analysis"
      ]
    },
    {
      "cell_type": "markdown",
      "id": "e4bd74a9",
      "metadata": {
        "id": "e4bd74a9"
      },
      "source": [
        "Put code with comments. The comments should explain the code such that it can be easily understood. You may put text *(in a markdown cell)* before a large chunk of code to explain the overall purpose of the code, if it is not intuitive. **Put the name of the person / persons who contributed to each code chunk / set of code chunks.**"
      ]
    },
    {
      "cell_type": "markdown",
      "id": "1899c897",
      "metadata": {
        "id": "1899c897"
      },
      "source": [
        "### Correlation Table (Andy)"
      ]
    },
    {
      "cell_type": "code",
      "execution_count": null,
      "id": "5aacd943",
      "metadata": {
        "id": "5aacd943",
        "outputId": "11739aaf-029a-4246-c648-5e0bbd8f8ea5"
      },
      "outputs": [
        {
          "data": {
            "text/plain": [
              "<Axes: >"
            ]
          },
          "execution_count": 39,
          "metadata": {},
          "output_type": "execute_result"
        },
        {
          "data": {
            "image/png": "[encoded data removed]",
            "text/plain": [
              "<Figure size 640x480 with 2 Axes>"
            ]
          },
          "metadata": {},
          "output_type": "display_data"
        }
      ],
      "source": [
        "# developing heatmap to analyze correlations\n",
        "x_train_eda = nba_2017_2018.iloc[:, 1:-1]\n",
        "sns.heatmap(x_train_eda.corr())"
      ]
    },
    {
      "cell_type": "markdown",
      "id": "d037837d",
      "metadata": {
        "id": "d037837d"
      },
      "source": [
        "### Variance Inflation Factor (Andy)"
      ]
    },
    {
      "cell_type": "code",
      "execution_count": null,
      "id": "d74dcee7",
      "metadata": {
        "id": "d74dcee7",
        "outputId": "c90ac208-d142-436b-9189-d5bba60c1e5b"
      },
      "outputs": [
        {
          "data": {
            "text/html": [
              "<div>\n",
              "<style scoped>\n",
              "    .dataframe tbody tr th:only-of-type {\n",
              "        vertical-align: middle;\n",
              "    }\n",
              "\n",
              "    .dataframe tbody tr th {\n",
              "        vertical-align: top;\n",
              "    }\n",
              "\n",
              "    .dataframe thead th {\n",
              "        text-align: right;\n",
              "    }\n",
              "</style>\n",
              "<table border=\"1\" class=\"dataframe\">\n",
              "  <thead>\n",
              "    <tr style=\"text-align: right;\">\n",
              "      <th></th>\n",
              "      <th>feature</th>\n",
              "      <th>VIF</th>\n",
              "    </tr>\n",
              "  </thead>\n",
              "  <tbody>\n",
              "    <tr>\n",
              "      <th>6</th>\n",
              "      <td>FGA</td>\n",
              "      <td>9278.338644</td>\n",
              "    </tr>\n",
              "    <tr>\n",
              "      <th>26</th>\n",
              "      <td>PTS</td>\n",
              "      <td>6855.495654</td>\n",
              "    </tr>\n",
              "    <tr>\n",
              "      <th>12</th>\n",
              "      <td>2PA</td>\n",
              "      <td>5214.888899</td>\n",
              "    </tr>\n",
              "    <tr>\n",
              "      <th>5</th>\n",
              "      <td>FG</td>\n",
              "      <td>4760.500282</td>\n",
              "    </tr>\n",
              "    <tr>\n",
              "      <th>20</th>\n",
              "      <td>TRB</td>\n",
              "      <td>2455.633794</td>\n",
              "    </tr>\n",
              "    <tr>\n",
              "      <th>9</th>\n",
              "      <td>3PA</td>\n",
              "      <td>2136.962689</td>\n",
              "    </tr>\n",
              "    <tr>\n",
              "      <th>11</th>\n",
              "      <td>2P</td>\n",
              "      <td>1669.580429</td>\n",
              "    </tr>\n",
              "    <tr>\n",
              "      <th>19</th>\n",
              "      <td>DRB</td>\n",
              "      <td>1382.304451</td>\n",
              "    </tr>\n",
              "    <tr>\n",
              "      <th>8</th>\n",
              "      <td>3P</td>\n",
              "      <td>568.795838</td>\n",
              "    </tr>\n",
              "    <tr>\n",
              "      <th>15</th>\n",
              "      <td>FT</td>\n",
              "      <td>386.671118</td>\n",
              "    </tr>\n",
              "    <tr>\n",
              "      <th>0</th>\n",
              "      <td>const</td>\n",
              "      <td>359.615994</td>\n",
              "    </tr>\n",
              "    <tr>\n",
              "      <th>18</th>\n",
              "      <td>ORB</td>\n",
              "      <td>250.011013</td>\n",
              "    </tr>\n",
              "    <tr>\n",
              "      <th>16</th>\n",
              "      <td>FTA</td>\n",
              "      <td>85.359677</td>\n",
              "    </tr>\n",
              "    <tr>\n",
              "      <th>7</th>\n",
              "      <td>FG%</td>\n",
              "      <td>23.315430</td>\n",
              "    </tr>\n",
              "    <tr>\n",
              "      <th>14</th>\n",
              "      <td>eFG%</td>\n",
              "      <td>14.742887</td>\n",
              "    </tr>\n",
              "    <tr>\n",
              "      <th>4</th>\n",
              "      <td>MP</td>\n",
              "      <td>12.792623</td>\n",
              "    </tr>\n",
              "    <tr>\n",
              "      <th>24</th>\n",
              "      <td>TOV</td>\n",
              "      <td>10.272942</td>\n",
              "    </tr>\n",
              "    <tr>\n",
              "      <th>21</th>\n",
              "      <td>AST</td>\n",
              "      <td>5.418226</td>\n",
              "    </tr>\n",
              "    <tr>\n",
              "      <th>13</th>\n",
              "      <td>2P%</td>\n",
              "      <td>4.116444</td>\n",
              "    </tr>\n",
              "    <tr>\n",
              "      <th>3</th>\n",
              "      <td>GS</td>\n",
              "      <td>3.556087</td>\n",
              "    </tr>\n",
              "    <tr>\n",
              "      <th>25</th>\n",
              "      <td>PF</td>\n",
              "      <td>3.075280</td>\n",
              "    </tr>\n",
              "    <tr>\n",
              "      <th>22</th>\n",
              "      <td>STL</td>\n",
              "      <td>2.571860</td>\n",
              "    </tr>\n",
              "    <tr>\n",
              "      <th>23</th>\n",
              "      <td>BLK</td>\n",
              "      <td>2.378908</td>\n",
              "    </tr>\n",
              "    <tr>\n",
              "      <th>17</th>\n",
              "      <td>FT%</td>\n",
              "      <td>2.192007</td>\n",
              "    </tr>\n",
              "    <tr>\n",
              "      <th>10</th>\n",
              "      <td>3P%</td>\n",
              "      <td>2.185635</td>\n",
              "    </tr>\n",
              "    <tr>\n",
              "      <th>2</th>\n",
              "      <td>G</td>\n",
              "      <td>1.627709</td>\n",
              "    </tr>\n",
              "    <tr>\n",
              "      <th>1</th>\n",
              "      <td>Age</td>\n",
              "      <td>1.119090</td>\n",
              "    </tr>\n",
              "  </tbody>\n",
              "</table>\n",
              "</div>"
            ],
            "text/plain": [
              "   feature          VIF\n",
              "6      FGA  9278.338644\n",
              "26     PTS  6855.495654\n",
              "12     2PA  5214.888899\n",
              "5       FG  4760.500282\n",
              "20     TRB  2455.633794\n",
              "9      3PA  2136.962689\n",
              "11      2P  1669.580429\n",
              "19     DRB  1382.304451\n",
              "8       3P   568.795838\n",
              "15      FT   386.671118\n",
              "0    const   359.615994\n",
              "18     ORB   250.011013\n",
              "16     FTA    85.359677\n",
              "7      FG%    23.315430\n",
              "14    eFG%    14.742887\n",
              "4       MP    12.792623\n",
              "24     TOV    10.272942\n",
              "21     AST     5.418226\n",
              "13     2P%     4.116444\n",
              "3       GS     3.556087\n",
              "25      PF     3.075280\n",
              "22     STL     2.571860\n",
              "23     BLK     2.378908\n",
              "17     FT%     2.192007\n",
              "10     3P%     2.185635\n",
              "2        G     1.627709\n",
              "1      Age     1.119090"
            ]
          },
          "execution_count": 41,
          "metadata": {},
          "output_type": "execute_result"
        }
      ],
      "source": [
        "# Analyzing Variance Inflation Factor\n",
        "from statsmodels.stats.outliers_influence import variance_inflation_factor\n",
        "from statsmodels.tools.tools import add_constant\n",
        "\n",
        "# analyze VIF for training data (2017-2018)\n",
        "x_train_vif = nba_2017_2018.iloc[:, 1:-1]\n",
        "X = add_constant(x_train_vif)\n",
        "vif_data = pd.DataFrame()\n",
        "vif_data[\"feature\"] = X.columns\n",
        "\n",
        "for i in range(len(X.columns)):\n",
        "    vif_data.loc[i,'VIF'] = variance_inflation_factor(X.values, i)\n",
        "\n",
        "# delete columns with high VIF values \n",
        "test_vif = vif_data.sort_values(by = 'VIF', ascending = False) \n",
        "test_vif"
      ]
    },
    {
      "cell_type": "markdown",
      "id": "acab331a",
      "metadata": {
        "id": "acab331a"
      },
      "source": [
        "## Developing the model: Hyperparameter tuning"
      ]
    },
    {
      "cell_type": "markdown",
      "id": "ae5ec4c9",
      "metadata": {
        "id": "ae5ec4c9"
      },
      "source": [
        "Put code with comments. The comments should explain the code such that it can be easily understood. You may put text *(in a markdown cell)* before a large chunk of code to explain the overall purpose of the code, if it is not intuitive. **Put the name of the person / persons who contributed to each code chunk / set of code chunks.**\n",
        "\n",
        "Put each model in a section of its name and mention the name of the team-member tuning the model. Below is an example:"
      ]
    },
    {
      "cell_type": "markdown",
      "id": "21bc9dcc",
      "metadata": {
        "id": "21bc9dcc"
      },
      "source": [
        "### Lasso, Ridge & Catboost\n",
        "*By Sylvia Sherwood*"
      ]
    },
    {
      "cell_type": "markdown",
      "id": "a67c9ff7",
      "metadata": {
        "id": "a67c9ff7"
      },
      "source": [
        "### Random Forest\n",
        "*By Izzy Podolsky*"
      ]
    },
    {
      "cell_type": "code",
      "source": [
        "#Hyperparameter tuning\n",
        "param_grid = {\n",
        "    'max_features' : (list(range(1, 19, 2))),\n",
        "    'n_estimators' : [250, 500, 750]\n",
        "}\n",
        "\n",
        "model = RandomForestClassifier(random_state = 1, oob_score = True, verbose = False, n_jobs=-1)\n",
        "\n",
        "cv = StratifiedKFold(n_splits = 5,shuffle = True, random_state = 1)\n",
        "rfcv = GridSearchCV(estimator = model, \n",
        "                           param_grid = param_grid, \n",
        "                           scoring = ['roc_auc','accuracy'],\n",
        "                           refit = 'roc_auc',\n",
        "                           cv = cv,\n",
        "                          n_jobs = -1,\n",
        "                          verbose = 1)\n",
        "\n",
        "result = rfcv.fit(X_train, y_train)\n",
        "\n",
        "print(\"Best Accuracy Score: %f\" % (result.cv_results_['mean_test_accuracy'][result.best_index_]))\n",
        "print(\"Best ROC-AUC Score: %f\" % (result.cv_results_['mean_test_roc_auc'][result.best_index_]))\n",
        "print(\"Best Hyperparameters: \", result.best_params_)"
      ],
      "metadata": {
        "colab": {
          "base_uri": "https://localhost:8080/"
        },
        "id": "ddtr8X2hW2po",
        "outputId": "7f39dc4d-9f1d-4ad0-87e2-7f64ec1c2e03"
      },
      "id": "ddtr8X2hW2po",
      "execution_count": 9,
      "outputs": [
        {
          "output_type": "stream",
          "name": "stdout",
          "text": [
            "Fitting 5 folds for each of 27 candidates, totalling 135 fits\n",
            "Best Accuracy Score: 0.968616\n",
            "Best ROC-AUC Score: 0.993077\n",
            "Best Hyperparameters:  {'max_features': 13, 'n_estimators': 250}\n"
          ]
        }
      ]
    },
    {
      "cell_type": "code",
      "source": [
        "#Feature importances\n",
        "pd.concat([pd.Series(result.best_estimator_.feature_importances_), pd.Series(X_train.columns)], axis=1).sort_values(by = 0,ascending = False)"
      ],
      "metadata": {
        "colab": {
          "base_uri": "https://localhost:8080/",
          "height": 864
        },
        "id": "ObGpzaKQW6b5",
        "outputId": "178b6bc4-9489-41b3-abd2-26c24baf94dd"
      },
      "id": "ObGpzaKQW6b5",
      "execution_count": 10,
      "outputs": [
        {
          "output_type": "execute_result",
          "data": {
            "text/plain": [
              "           0     1\n",
              "25  0.274295   PTS\n",
              "4   0.177460    FG\n",
              "14  0.068462    FT\n",
              "5   0.068247   FGA\n",
              "13  0.059364  eFG%\n",
              "23  0.058576   TOV\n",
              "3   0.038156    MP\n",
              "7   0.031805    3P\n",
              "20  0.024657   AST\n",
              "12  0.023503   2P%\n",
              "15  0.022996   FTA\n",
              "18  0.020769   DRB\n",
              "8   0.020673   3PA\n",
              "10  0.020339    2P\n",
              "2   0.011750    GS\n",
              "11  0.011441   2PA\n",
              "0   0.010452   Age\n",
              "19  0.009392   TRB\n",
              "24  0.008461    PF\n",
              "6   0.007869   FG%\n",
              "1   0.007863     G\n",
              "16  0.006070   FT%\n",
              "21  0.005228   STL\n",
              "22  0.004632   BLK\n",
              "17  0.004021   ORB\n",
              "9   0.003518   3P%"
            ],
            "text/html": [
              "\n",
              "  <div id=\"df-c052761c-27b9-4652-bceb-faca702d355a\">\n",
              "    <div class=\"colab-df-container\">\n",
              "      <div>\n",
              "<style scoped>\n",
              "    .dataframe tbody tr th:only-of-type {\n",
              "        vertical-align: middle;\n",
              "    }\n",
              "\n",
              "    .dataframe tbody tr th {\n",
              "        vertical-align: top;\n",
              "    }\n",
              "\n",
              "    .dataframe thead th {\n",
              "        text-align: right;\n",
              "    }\n",
              "</style>\n",
              "<table border=\"1\" class=\"dataframe\">\n",
              "  <thead>\n",
              "    <tr style=\"text-align: right;\">\n",
              "      <th></th>\n",
              "      <th>0</th>\n",
              "      <th>1</th>\n",
              "    </tr>\n",
              "  </thead>\n",
              "  <tbody>\n",
              "    <tr>\n",
              "      <th>25</th>\n",
              "      <td>0.274295</td>\n",
              "      <td>PTS</td>\n",
              "    </tr>\n",
              "    <tr>\n",
              "      <th>4</th>\n",
              "      <td>0.177460</td>\n",
              "      <td>FG</td>\n",
              "    </tr>\n",
              "    <tr>\n",
              "      <th>14</th>\n",
              "      <td>0.068462</td>\n",
              "      <td>FT</td>\n",
              "    </tr>\n",
              "    <tr>\n",
              "      <th>5</th>\n",
              "      <td>0.068247</td>\n",
              "      <td>FGA</td>\n",
              "    </tr>\n",
              "    <tr>\n",
              "      <th>13</th>\n",
              "      <td>0.059364</td>\n",
              "      <td>eFG%</td>\n",
              "    </tr>\n",
              "    <tr>\n",
              "      <th>23</th>\n",
              "      <td>0.058576</td>\n",
              "      <td>TOV</td>\n",
              "    </tr>\n",
              "    <tr>\n",
              "      <th>3</th>\n",
              "      <td>0.038156</td>\n",
              "      <td>MP</td>\n",
              "    </tr>\n",
              "    <tr>\n",
              "      <th>7</th>\n",
              "      <td>0.031805</td>\n",
              "      <td>3P</td>\n",
              "    </tr>\n",
              "    <tr>\n",
              "      <th>20</th>\n",
              "      <td>0.024657</td>\n",
              "      <td>AST</td>\n",
              "    </tr>\n",
              "    <tr>\n",
              "      <th>12</th>\n",
              "      <td>0.023503</td>\n",
              "      <td>2P%</td>\n",
              "    </tr>\n",
              "    <tr>\n",
              "      <th>15</th>\n",
              "      <td>0.022996</td>\n",
              "      <td>FTA</td>\n",
              "    </tr>\n",
              "    <tr>\n",
              "      <th>18</th>\n",
              "      <td>0.020769</td>\n",
              "      <td>DRB</td>\n",
              "    </tr>\n",
              "    <tr>\n",
              "      <th>8</th>\n",
              "      <td>0.020673</td>\n",
              "      <td>3PA</td>\n",
              "    </tr>\n",
              "    <tr>\n",
              "      <th>10</th>\n",
              "      <td>0.020339</td>\n",
              "      <td>2P</td>\n",
              "    </tr>\n",
              "    <tr>\n",
              "      <th>2</th>\n",
              "      <td>0.011750</td>\n",
              "      <td>GS</td>\n",
              "    </tr>\n",
              "    <tr>\n",
              "      <th>11</th>\n",
              "      <td>0.011441</td>\n",
              "      <td>2PA</td>\n",
              "    </tr>\n",
              "    <tr>\n",
              "      <th>0</th>\n",
              "      <td>0.010452</td>\n",
              "      <td>Age</td>\n",
              "    </tr>\n",
              "    <tr>\n",
              "      <th>19</th>\n",
              "      <td>0.009392</td>\n",
              "      <td>TRB</td>\n",
              "    </tr>\n",
              "    <tr>\n",
              "      <th>24</th>\n",
              "      <td>0.008461</td>\n",
              "      <td>PF</td>\n",
              "    </tr>\n",
              "    <tr>\n",
              "      <th>6</th>\n",
              "      <td>0.007869</td>\n",
              "      <td>FG%</td>\n",
              "    </tr>\n",
              "    <tr>\n",
              "      <th>1</th>\n",
              "      <td>0.007863</td>\n",
              "      <td>G</td>\n",
              "    </tr>\n",
              "    <tr>\n",
              "      <th>16</th>\n",
              "      <td>0.006070</td>\n",
              "      <td>FT%</td>\n",
              "    </tr>\n",
              "    <tr>\n",
              "      <th>21</th>\n",
              "      <td>0.005228</td>\n",
              "      <td>STL</td>\n",
              "    </tr>\n",
              "    <tr>\n",
              "      <th>22</th>\n",
              "      <td>0.004632</td>\n",
              "      <td>BLK</td>\n",
              "    </tr>\n",
              "    <tr>\n",
              "      <th>17</th>\n",
              "      <td>0.004021</td>\n",
              "      <td>ORB</td>\n",
              "    </tr>\n",
              "    <tr>\n",
              "      <th>9</th>\n",
              "      <td>0.003518</td>\n",
              "      <td>3P%</td>\n",
              "    </tr>\n",
              "  </tbody>\n",
              "</table>\n",
              "</div>\n",
              "      <button class=\"colab-df-convert\" onclick=\"convertToInteractive('df-c052761c-27b9-4652-bceb-faca702d355a')\"\n",
              "              title=\"Convert this dataframe to an interactive table.\"\n",
              "              style=\"display:none;\">\n",
              "        \n",
              "  <svg xmlns=\"http://www.w3.org/2000/svg\" height=\"24px\"viewBox=\"0 0 24 24\"\n",
              "       width=\"24px\">\n",
              "    <path d=\"M0 0h24v24H0V0z\" fill=\"none\"/>\n",
              "    <path d=\"M18.56 5.44l.94 2.06.94-2.06 2.06-.94-2.06-.94-.94-2.06-.94 2.06-2.06.94zm-11 1L8.5 8.5l.94-2.06 2.06-.94-2.06-.94L8.5 2.5l-.94 2.06-2.06.94zm10 10l.94 2.06.94-2.06 2.06-.94-2.06-.94-.94-2.06-.94 2.06-2.06.94z\"/><path d=\"M17.41 7.96l-1.37-1.37c-.4-.4-.92-.59-1.43-.59-.52 0-1.04.2-1.43.59L10.3 9.45l-7.72 7.72c-.78.78-.78 2.05 0 2.83L4 21.41c.39.39.9.59 1.41.59.51 0 1.02-.2 1.41-.59l7.78-7.78 2.81-2.81c.8-.78.8-2.07 0-2.86zM5.41 20L4 18.59l7.72-7.72 1.47 1.35L5.41 20z\"/>\n",
              "  </svg>\n",
              "      </button>\n",
              "      \n",
              "  <style>\n",
              "    .colab-df-container {\n",
              "      display:flex;\n",
              "      flex-wrap:wrap;\n",
              "      gap: 12px;\n",
              "    }\n",
              "\n",
              "    .colab-df-convert {\n",
              "      background-color: #E8F0FE;\n",
              "      border: none;\n",
              "      border-radius: 50%;\n",
              "      cursor: pointer;\n",
              "      display: none;\n",
              "      fill: #1967D2;\n",
              "      height: 32px;\n",
              "      padding: 0 0 0 0;\n",
              "      width: 32px;\n",
              "    }\n",
              "\n",
              "    .colab-df-convert:hover {\n",
              "      background-color: #E2EBFA;\n",
              "      box-shadow: 0px 1px 2px rgba(60, 64, 67, 0.3), 0px 1px 3px 1px rgba(60, 64, 67, 0.15);\n",
              "      fill: #174EA6;\n",
              "    }\n",
              "\n",
              "    [theme=dark] .colab-df-convert {\n",
              "      background-color: #3B4455;\n",
              "      fill: #D2E3FC;\n",
              "    }\n",
              "\n",
              "    [theme=dark] .colab-df-convert:hover {\n",
              "      background-color: #434B5C;\n",
              "      box-shadow: 0px 1px 3px 1px rgba(0, 0, 0, 0.15);\n",
              "      filter: drop-shadow(0px 1px 2px rgba(0, 0, 0, 0.3));\n",
              "      fill: #FFFFFF;\n",
              "    }\n",
              "  </style>\n",
              "\n",
              "      <script>\n",
              "        const buttonEl =\n",
              "          document.querySelector('#df-c052761c-27b9-4652-bceb-faca702d355a button.colab-df-convert');\n",
              "        buttonEl.style.display =\n",
              "          google.colab.kernel.accessAllowed ? 'block' : 'none';\n",
              "\n",
              "        async function convertToInteractive(key) {\n",
              "          const element = document.querySelector('#df-c052761c-27b9-4652-bceb-faca702d355a');\n",
              "          const dataTable =\n",
              "            await google.colab.kernel.invokeFunction('convertToInteractive',\n",
              "                                                     [key], {});\n",
              "          if (!dataTable) return;\n",
              "\n",
              "          const docLinkHtml = 'Like what you see? Visit the ' +\n",
              "            '<a target=\"_blank\" href=https://colab.research.google.com/notebooks/data_table.ipynb>data table notebook</a>'\n",
              "            + ' to learn more about interactive tables.';\n",
              "          element.innerHTML = '';\n",
              "          dataTable['output_type'] = 'display_data';\n",
              "          await google.colab.output.renderOutput(dataTable, element);\n",
              "          const docLink = document.createElement('div');\n",
              "          docLink.innerHTML = docLinkHtml;\n",
              "          element.appendChild(docLink);\n",
              "        }\n",
              "      </script>\n",
              "    </div>\n",
              "  </div>\n",
              "  "
            ]
          },
          "metadata": {},
          "execution_count": 10
        }
      ]
    },
    {
      "cell_type": "code",
      "source": [
        "cross_val_ypred = cross_val_predict(RandomForestClassifier(random_state = 1, oob_score = True, verbose = False, n_jobs=-1, max_depth = 3, n_estimators = 250), X_train, y_train, cv = 5, method = 'predict_proba')\n",
        "\n",
        "def plot_accuracy_recall_vs_threshold(y_proba, y_true):\n",
        "    ra_iter = []\n",
        "    accuracy_iter = []\n",
        "    threshold_val = 100\n",
        "    threshold_hyperparam_vals = np.arange(0.01, 1, 0.01)\n",
        "    for threshold_prob in threshold_hyperparam_vals:\n",
        "        predicted_class = y_proba[:,1] > threshold_prob\n",
        "        predicted_class = predicted_class.astype(int)\n",
        "        accuracy = accuracy_score(y_true, predicted_class)*100\n",
        "        rocauc = roc_auc_score(y_true, predicted_class)*100\n",
        "        accuracy_iter.append(accuracy)\n",
        "        ra_iter.append(rocauc)\n",
        "        if (accuracy > rocauc) & (threshold_prob < threshold_val):\n",
        "            threshold_val = threshold_prob\n",
        "            print(threshold_val)\n",
        "    \n",
        "    plt.figure(figsize=(6, 6))\n",
        "    plt.title(\"Accuracy and ROC-AUC Scores as a function of the decision threshold\")\n",
        "    plt.plot(ra_iter, \"b-\", label= \"ROC-AUC\")\n",
        "    plt.plot(accuracy_iter, \"g-\", label=\"Accuracy\")\n",
        "    plt.plot(ra_iter, \"o\", color = 'blue')\n",
        "    plt.plot(accuracy_iter, \"o\", color = 'green')\n",
        "    plt.ylabel(\"Score\")\n",
        "    plt.xlabel(\"Decision Threshold\")\n",
        "    plt.legend(loc='best')\n",
        "    plt.legend()\n",
        "\n",
        "plot_accuracy_recall_vs_threshold(cross_val_ypred, y_train)"
      ],
      "metadata": {
        "colab": {
          "base_uri": "https://localhost:8080/",
          "height": 581
        },
        "id": "xU07PIU2XBIB",
        "outputId": "4de5d886-0512-41a0-8edb-db2bce926e27"
      },
      "id": "xU07PIU2XBIB",
      "execution_count": 11,
      "outputs": [
        {
          "output_type": "stream",
          "name": "stdout",
          "text": [
            "0.09\n"
          ]
        },
        {
          "output_type": "display_data",
          "data": {
            "text/plain": [
              "<Figure size 600x600 with 1 Axes>"
            ],
            "image/png": "[encoded data removed]"
          },
          "metadata": {}
        }
      ]
    },
    {
      "cell_type": "code",
      "source": [
        "model = RandomForestClassifier(\n",
        "    random_state = 1, \n",
        "    oob_score = True, \n",
        "    verbose = False, \n",
        "    n_jobs=-1, \n",
        "    max_depth = 3, \n",
        "    n_estimators = 250).fit(X_train, y_train)"
      ],
      "metadata": {
        "id": "A6Y94Ut5XD5X"
      },
      "id": "A6Y94Ut5XD5X",
      "execution_count": 12,
      "outputs": []
    },
    {
      "cell_type": "code",
      "source": [
        "y_pred = (model.predict_proba(X_test)[:,1] > .11).astype(int)\n",
        "\n",
        "accuracy = accuracy_score(y_test, y_pred)\n",
        "recall = recall_score(y_test, y_pred)\n",
        "precision = precision_score(y_test, y_pred)\n",
        "roc_auc = roc_auc_score(y_test, y_pred)\n",
        "\n",
        "print(\"Accuracy:\", accuracy)\n",
        "print(\"Recall:\", recall)\n",
        "print(\"Precision:\", precision)\n",
        "print(\"ROC_AUC:\", roc_auc)"
      ],
      "metadata": {
        "colab": {
          "base_uri": "https://localhost:8080/"
        },
        "id": "6X8CAHXDXIdF",
        "outputId": "3647f670-ad23-4567-ddfa-41492f8ac8de"
      },
      "id": "6X8CAHXDXIdF",
      "execution_count": 13,
      "outputs": [
        {
          "output_type": "stream",
          "name": "stdout",
          "text": [
            "Accuracy: 0.900709219858156\n",
            "Recall: 0.6521739130434783\n",
            "Precision: 0.30612244897959184\n",
            "ROC_AUC: 0.7835869565217392\n"
          ]
        }
      ]
    },
    {
      "cell_type": "markdown",
      "id": "017ca069",
      "metadata": {
        "id": "017ca069"
      },
      "source": [
        "### Bagged trees \n",
        "*By Shray Vaidya*"
      ]
    },
    {
      "cell_type": "code",
      "source": [
        "#Finding optimal hyperparameters\n",
        "n_samples = X_train.shape[0]\n",
        "n_features = X_train.shape[1]\n",
        "\n",
        "params = {'base_estimator': [DecisionTreeClassifier(random_state = 1)],\n",
        "          'n_estimators': [250,300,350,400,450,500,550],\n",
        "          'max_samples': [0.5, 0.6, 0.7, 0.8, 0.9, 1.0],\n",
        "          'max_features': [0.5, 0.6, 0.7, 0.8, 0.9, 1.0],\n",
        "          'bootstrap': [True, False],\n",
        "          'bootstrap_features': [True, False]}\n",
        "\n",
        "\n",
        "cv = KFold(n_splits=5,shuffle=True,random_state=1)\n",
        "bagging_classifier_grid = GridSearchCV(BaggingClassifier(random_state=1, n_jobs=-1), \n",
        "                                      param_grid =params, cv=cv, n_jobs=-1, verbose=1,\n",
        "                                      scoring = ['roc_auc', 'accuracy'], refit='roc_auc')\n",
        "res = bagging_classifier_grid.fit(X_train, y_train)\n",
        "\n",
        "print(\"Best Recall Score: %f\" % (res.cv_results_['mean_test_accuracy'][res.best_index_]))\n",
        "print(\"Best ROC-AUC Score: %f\" % (res.cv_results_['mean_test_roc_auc'][res.best_index_]))\n",
        "print(\"Best Hyperparameters: \", res.best_params_)"
      ],
      "metadata": {
        "colab": {
          "base_uri": "https://localhost:8080/"
        },
        "id": "q9Jn2-UfVukD",
        "outputId": "5f38c2b1-ed4c-4e6d-c867-8ccb61aa67c2"
      },
      "id": "q9Jn2-UfVukD",
      "execution_count": 14,
      "outputs": [
        {
          "output_type": "stream",
          "name": "stdout",
          "text": [
            "Fitting 5 folds for each of 1008 candidates, totalling 5040 fits\n",
            "Best Recall Score: 0.978313\n",
            "Best ROC-AUC Score: 0.994053\n",
            "Best Hyperparameters:  {'base_estimator': DecisionTreeClassifier(random_state=1), 'bootstrap': False, 'bootstrap_features': False, 'max_features': 0.9, 'max_samples': 0.8, 'n_estimators': 250}\n"
          ]
        },
        {
          "output_type": "stream",
          "name": "stderr",
          "text": [
            "/usr/local/lib/python3.10/dist-packages/sklearn/ensemble/_base.py:166: FutureWarning: `base_estimator` was renamed to `estimator` in version 1.2 and will be removed in 1.4.\n",
            "  warnings.warn(\n"
          ]
        }
      ]
    },
    {
      "cell_type": "code",
      "source": [
        "#Best model\n",
        "model = bagging_classifier_grid.best_estimator_\n",
        "#Feature importances\n",
        "# Data structure to store sum of feature importance and number of times it showed up\n",
        "total = [0] * 26\n",
        "# Loop through every tree in bagging regressor\n",
        "for i, temp_model in enumerate(model.estimators_): # model is bagging regressor\n",
        "    feature = model.estimators_features_[i] # Get the predictors the specific tree uses\n",
        "    for j, predictor in enumerate(feature): # loop the predictors\n",
        "        total[predictor] += temp_model.feature_importances_[j] # Add the specific feature importance to the array\n",
        "imps = np.array(total)/len(model.estimators_) #convert to numpy array for easy elementwise division\n",
        "\n",
        "pd.Series(imps, index = X_train.columns).sort_values(ascending = False)"
      ],
      "metadata": {
        "colab": {
          "base_uri": "https://localhost:8080/"
        },
        "id": "pDPRn77fWFlt",
        "outputId": "516429b8-4db2-4621-eef8-7389b525133d"
      },
      "id": "pDPRn77fWFlt",
      "execution_count": 15,
      "outputs": [
        {
          "output_type": "execute_result",
          "data": {
            "text/plain": [
              "PTS     0.532374\n",
              "eFG%    0.144383\n",
              "FG      0.081132\n",
              "TOV     0.057140\n",
              "3P      0.020639\n",
              "AST     0.019018\n",
              "DRB     0.018758\n",
              "TRB     0.017966\n",
              "FGA     0.014549\n",
              "3PA     0.013680\n",
              "FT%     0.013031\n",
              "FT      0.008626\n",
              "MP      0.008054\n",
              "2P%     0.007537\n",
              "G       0.005626\n",
              "2P      0.005586\n",
              "2PA     0.004580\n",
              "PF      0.004360\n",
              "Age     0.004100\n",
              "GS      0.003779\n",
              "3P%     0.003158\n",
              "FG%     0.003131\n",
              "ORB     0.002903\n",
              "FTA     0.002264\n",
              "STL     0.002167\n",
              "BLK     0.001461\n",
              "dtype: float64"
            ]
          },
          "metadata": {},
          "execution_count": 15
        }
      ]
    },
    {
      "cell_type": "code",
      "source": [
        "cross_val_ypred = cross_val_predict(model, X_train, y_train, cv = 5, method = 'predict_proba')\n",
        "\n",
        "def plot_accuracy_recall_vs_threshold(y_proba, y_true):\n",
        "    ra_iter = []\n",
        "    accuracy_iter = []\n",
        "    threshold_val = 100\n",
        "    threshold_hyperparam_vals = np.arange(0.001, 1, 0.001)\n",
        "    for threshold_prob in threshold_hyperparam_vals:\n",
        "        predicted_class = y_proba[:,1] > threshold_prob\n",
        "        predicted_class = predicted_class.astype(int)\n",
        "        accuracy = accuracy_score(y_true, predicted_class)*100\n",
        "        rocauc = roc_auc_score(y_true, predicted_class)*100\n",
        "        accuracy_iter.append(accuracy)\n",
        "        ra_iter.append(rocauc)\n",
        "        if (accuracy > rocauc) & (threshold_prob < threshold_val):\n",
        "            threshold_val = threshold_prob\n",
        "            print(threshold_val)\n",
        "    \n",
        "    plt.figure(figsize=(6, 6))\n",
        "    plt.title(\"Accuracy and ROC-AUC Scores as a function of the decision threshold\")\n",
        "    plt.plot(ra_iter, \"b-\", label= \"ROC-AUC\")\n",
        "    plt.plot(accuracy_iter, \"g-\", label=\"Accuracy\")\n",
        "    plt.plot(ra_iter, \"o\", color = 'blue')\n",
        "    plt.plot(accuracy_iter, \"o\", color = 'green')\n",
        "    plt.ylabel(\"Score\")\n",
        "    plt.xlabel(\"Decision Threshold\")\n",
        "    plt.legend(loc='best')\n",
        "    plt.legend()\n",
        "\n",
        "plot_accuracy_recall_vs_threshold(cross_val_ypred, y_train)"
      ],
      "metadata": {
        "colab": {
          "base_uri": "https://localhost:8080/",
          "height": 755
        },
        "id": "JPfWrc3jWKvi",
        "outputId": "2fc83d01-4e89-4cff-e387-5ca47bc54362"
      },
      "id": "JPfWrc3jWKvi",
      "execution_count": 16,
      "outputs": [
        {
          "output_type": "stream",
          "name": "stderr",
          "text": [
            "/usr/local/lib/python3.10/dist-packages/sklearn/ensemble/_base.py:166: FutureWarning: `base_estimator` was renamed to `estimator` in version 1.2 and will be removed in 1.4.\n",
            "  warnings.warn(\n",
            "/usr/local/lib/python3.10/dist-packages/sklearn/ensemble/_base.py:166: FutureWarning: `base_estimator` was renamed to `estimator` in version 1.2 and will be removed in 1.4.\n",
            "  warnings.warn(\n",
            "/usr/local/lib/python3.10/dist-packages/sklearn/ensemble/_base.py:166: FutureWarning: `base_estimator` was renamed to `estimator` in version 1.2 and will be removed in 1.4.\n",
            "  warnings.warn(\n",
            "/usr/local/lib/python3.10/dist-packages/sklearn/ensemble/_base.py:166: FutureWarning: `base_estimator` was renamed to `estimator` in version 1.2 and will be removed in 1.4.\n",
            "  warnings.warn(\n",
            "/usr/local/lib/python3.10/dist-packages/sklearn/ensemble/_base.py:166: FutureWarning: `base_estimator` was renamed to `estimator` in version 1.2 and will be removed in 1.4.\n",
            "  warnings.warn(\n"
          ]
        },
        {
          "output_type": "stream",
          "name": "stdout",
          "text": [
            "0.012\n"
          ]
        },
        {
          "output_type": "display_data",
          "data": {
            "text/plain": [
              "<Figure size 600x600 with 1 Axes>"
            ],
            "image/png": "[encoded data removed]"
          },
          "metadata": {}
        }
      ]
    },
    {
      "cell_type": "code",
      "source": [
        "# Performance metrics computation for the optimum decision threshold probability\n",
        "desired_threshold = 0.012\n",
        "\n",
        "y_pred_prob = model.predict_proba(X_test)[:,1] \n",
        "\n",
        "# Classifying observations in the positive class (y = 1) if the predicted probability is greater\n",
        "# than the desired decision threshold probability\n",
        "y_pred = y_pred_prob > desired_threshold\n",
        "y_pred = y_pred.astype(int)\n",
        "\n",
        "#Computing the accuracy\n",
        "print(\"Accuracy: \",accuracy_score(y_pred, y_test)*100)  \n",
        "\n",
        "#Computing the ROC-AUC\n",
        "fpr, tpr, auc_thresholds = roc_curve(y_test, y_pred_prob)\n",
        "print(\"ROC-AUC: \",auc(fpr, tpr))# AUC of ROC\n",
        "\n",
        "#Computing the precision and recall\n",
        "print(\"Precision: \", precision_score(y_test, y_pred))\n",
        "print(\"Recall: \", recall_score(y_test, y_pred))\n",
        "\n",
        "#Confusion matrix\n",
        "cm = pd.DataFrame(confusion_matrix(y_test, y_pred), \n",
        "                  columns=['Predicted 0', 'Predicted 1'], index = ['Actual 0', 'Actual 1'])\n",
        "sns.heatmap(cm, annot=True, cmap='Blues', fmt='g');"
      ],
      "metadata": {
        "colab": {
          "base_uri": "https://localhost:8080/",
          "height": 499
        },
        "id": "p5vk_X6sWNTP",
        "outputId": "bb7edb03-fdc2-410c-8738-542ad43ad90a"
      },
      "id": "p5vk_X6sWNTP",
      "execution_count": 17,
      "outputs": [
        {
          "output_type": "stream",
          "name": "stdout",
          "text": [
            "Accuracy:  87.70685579196218\n",
            "ROC-AUC:  0.8367391304347825\n",
            "Precision:  0.26229508196721313\n",
            "Recall:  0.6956521739130435\n"
          ]
        },
        {
          "output_type": "display_data",
          "data": {
            "text/plain": [
              "<Figure size 640x480 with 2 Axes>"
            ],
            "image/png": "[encoded data removed]"
          },
          "metadata": {}
        }
      ]
    },
    {
      "cell_type": "markdown",
      "id": "8182968b",
      "metadata": {
        "id": "8182968b"
      },
      "source": [
        "### XGBoost\n",
        "*By Ryu Kimiko*"
      ]
    },
    {
      "cell_type": "markdown",
      "id": "a221dcc6",
      "metadata": {
        "id": "a221dcc6"
      },
      "source": [
        "## Model Ensemble "
      ]
    },
    {
      "cell_type": "markdown",
      "id": "9dc8b3d9",
      "metadata": {
        "id": "9dc8b3d9"
      },
      "source": [
        "Put code with comments. The comments should explain the code such that it can be easily understood. You may put text *(in a markdown cell)* before a large chunk of code to explain the overall purpose of the code, if it is not intuitive. **Put the name of the person / persons who contributed to each code chunk / set of code chunks.**\n"
      ]
    },
    {
      "cell_type": "markdown",
      "id": "961bcb1d",
      "metadata": {
        "id": "961bcb1d"
      },
      "source": [
        "### Voting ensemble"
      ]
    },
    {
      "cell_type": "markdown",
      "id": "ca651ba0",
      "metadata": {
        "id": "ca651ba0"
      },
      "source": [
        "### Stacking ensemble(s)"
      ]
    },
    {
      "cell_type": "markdown",
      "id": "ddff3adf",
      "metadata": {
        "id": "ddff3adf"
      },
      "source": [
        "### Ensemble of ensembled models"
      ]
    },
    {
      "cell_type": "markdown",
      "id": "3668faab",
      "metadata": {
        "id": "3668faab"
      },
      "source": [
        "### Innovative ensembling methods\n",
        "*(Optional)*"
      ]
    },
    {
      "cell_type": "markdown",
      "id": "62a185cb",
      "metadata": {
        "id": "62a185cb"
      },
      "source": [
        "## Conclusions and Recommendations to stakeholder(s)\n",
        "\n",
        "You may or may not have code to put in this section. Delete this section if it is irrelevant."
      ]
    }
  ],
  "metadata": {
    "colab": {
      "provenance": []
    },
    "kernelspec": {
      "display_name": "Python 3 (ipykernel)",
      "language": "python",
      "name": "python3"
    },
    "language_info": {
      "codemirror_mode": {
        "name": "ipython",
        "version": 3
      },
      "file_extension": ".py",
      "mimetype": "text/x-python",
      "name": "python",
      "nbconvert_exporter": "python",
      "pygments_lexer": "ipython3",
      "version": "3.9.7"
    }
  },
  "nbformat": 4,
  "nbformat_minor": 5
}