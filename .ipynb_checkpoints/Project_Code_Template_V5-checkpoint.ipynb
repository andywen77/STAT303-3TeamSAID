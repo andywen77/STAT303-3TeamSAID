{
 "cells": [
  {
   "cell_type": "raw",
   "id": "33dd6c4c",
   "metadata": {
    "id": "33dd6c4c"
   },
   "source": [
    "---\n",
    "title: \"Project Code\"\n",
    "subtitle: Team name\n",
    "author: Author 1, Author 2, Author 3, and Author 4 \n",
    "date: 05/23/2023\n",
    "number-sections: true\n",
    "abstract: _This file contains the code for the project on <>, as part of the STAT303-3 course in Spring 2023_.\n",
    "format: \n",
    "  html:\n",
    "    toc: true\n",
    "    toc-title: Contents\n",
    "    self-contained: true\n",
    "    font-size: 100%\n",
    "    toc-depth: 4\n",
    "    mainfont: serif\n",
    "jupyter: python3\n",
    "---"
   ]
  },
  {
   "cell_type": "code",
   "execution_count": 1,
   "id": "qebBSbKYREkz",
   "metadata": {
    "id": "qebBSbKYREkz"
   },
   "outputs": [],
   "source": [
    "import pandas as pd\n",
    "import numpy as np\n",
    "import seaborn as sns\n",
    "import matplotlib.pyplot as plt\n",
    "from sklearn.metrics import mean_squared_error\n",
    "from sklearn.model_selection import cross_val_score,train_test_split, KFold, cross_val_predict\n",
    "from sklearn.metrics import mean_squared_error,r2_score,roc_curve,auc,precision_recall_curve, accuracy_score, \\\n",
    "recall_score, precision_score, confusion_matrix, make_scorer, roc_auc_score\n",
    "from sklearn.tree import DecisionTreeRegressor,DecisionTreeClassifier\n",
    "from sklearn.model_selection import GridSearchCV, ParameterGrid, StratifiedKFold, RandomizedSearchCV\n",
    "from sklearn.ensemble import VotingRegressor, VotingClassifier, StackingRegressor, StackingClassifier, GradientBoostingRegressor,GradientBoostingClassifier, BaggingRegressor,BaggingClassifier,RandomForestRegressor,RandomForestClassifier,AdaBoostRegressor,AdaBoostClassifier\n",
    "from sklearn.linear_model import LinearRegression,LogisticRegression, LassoCV, RidgeCV, ElasticNetCV\n",
    "from sklearn.neighbors import KNeighborsRegressor\n",
    "import itertools as it\n",
    "import time as time\n",
    "import io\n",
    "import xgboost as xgb"
   ]
  },
  {
   "cell_type": "markdown",
   "id": "fe7ea9bb",
   "metadata": {
    "id": "fe7ea9bb"
   },
   "source": [
    "## Data quality check / cleaning / preparation "
   ]
  },
  {
   "cell_type": "code",
   "execution_count": 15,
   "id": "Od1HJnqnNXjj",
   "metadata": {
    "colab": {
     "base_uri": "https://localhost:8080/",
     "height": 109
    },
    "id": "Od1HJnqnNXjj",
    "outputId": "6eeac148-2273-42a5-e501-4d95414f6b41"
   },
   "outputs": [
    {
     "data": {
      "text/html": [
       "\n",
       "     <input type=\"file\" id=\"files-a492820c-7eee-4e11-98b4-dda94d578a2c\" name=\"files[]\" multiple disabled\n",
       "        style=\"border:none\" />\n",
       "     <output id=\"result-a492820c-7eee-4e11-98b4-dda94d578a2c\">\n",
       "      Upload widget is only available when the cell has been executed in the\n",
       "      current browser session. Please rerun this cell to enable.\n",
       "      </output>\n",
       "      <script>// Copyright 2017 Google LLC\n",
       "//\n",
       "// Licensed under the Apache License, Version 2.0 (the \"License\");\n",
       "// you may not use this file except in compliance with the License.\n",
       "// You may obtain a copy of the License at\n",
       "//\n",
       "//      http://www.apache.org/licenses/LICENSE-2.0\n",
       "//\n",
       "// Unless required by applicable law or agreed to in writing, software\n",
       "// distributed under the License is distributed on an \"AS IS\" BASIS,\n",
       "// WITHOUT WARRANTIES OR CONDITIONS OF ANY KIND, either express or implied.\n",
       "// See the License for the specific language governing permissions and\n",
       "// limitations under the License.\n",
       "\n",
       "/**\n",
       " * @fileoverview Helpers for google.colab Python module.\n",
       " */\n",
       "(function(scope) {\n",
       "function span(text, styleAttributes = {}) {\n",
       "  const element = document.createElement('span');\n",
       "  element.textContent = text;\n",
       "  for (const key of Object.keys(styleAttributes)) {\n",
       "    element.style[key] = styleAttributes[key];\n",
       "  }\n",
       "  return element;\n",
       "}\n",
       "\n",
       "// Max number of bytes which will be uploaded at a time.\n",
       "const MAX_PAYLOAD_SIZE = 100 * 1024;\n",
       "\n",
       "function _uploadFiles(inputId, outputId) {\n",
       "  const steps = uploadFilesStep(inputId, outputId);\n",
       "  const outputElement = document.getElementById(outputId);\n",
       "  // Cache steps on the outputElement to make it available for the next call\n",
       "  // to uploadFilesContinue from Python.\n",
       "  outputElement.steps = steps;\n",
       "\n",
       "  return _uploadFilesContinue(outputId);\n",
       "}\n",
       "\n",
       "// This is roughly an async generator (not supported in the browser yet),\n",
       "// where there are multiple asynchronous steps and the Python side is going\n",
       "// to poll for completion of each step.\n",
       "// This uses a Promise to block the python side on completion of each step,\n",
       "// then passes the result of the previous step as the input to the next step.\n",
       "function _uploadFilesContinue(outputId) {\n",
       "  const outputElement = document.getElementById(outputId);\n",
       "  const steps = outputElement.steps;\n",
       "\n",
       "  const next = steps.next(outputElement.lastPromiseValue);\n",
       "  return Promise.resolve(next.value.promise).then((value) => {\n",
       "    // Cache the last promise value to make it available to the next\n",
       "    // step of the generator.\n",
       "    outputElement.lastPromiseValue = value;\n",
       "    return next.value.response;\n",
       "  });\n",
       "}\n",
       "\n",
       "/**\n",
       " * Generator function which is called between each async step of the upload\n",
       " * process.\n",
       " * @param {string} inputId Element ID of the input file picker element.\n",
       " * @param {string} outputId Element ID of the output display.\n",
       " * @return {!Iterable<!Object>} Iterable of next steps.\n",
       " */\n",
       "function* uploadFilesStep(inputId, outputId) {\n",
       "  const inputElement = document.getElementById(inputId);\n",
       "  inputElement.disabled = false;\n",
       "\n",
       "  const outputElement = document.getElementById(outputId);\n",
       "  outputElement.innerHTML = '';\n",
       "\n",
       "  const pickedPromise = new Promise((resolve) => {\n",
       "    inputElement.addEventListener('change', (e) => {\n",
       "      resolve(e.target.files);\n",
       "    });\n",
       "  });\n",
       "\n",
       "  const cancel = document.createElement('button');\n",
       "  inputElement.parentElement.appendChild(cancel);\n",
       "  cancel.textContent = 'Cancel upload';\n",
       "  const cancelPromise = new Promise((resolve) => {\n",
       "    cancel.onclick = () => {\n",
       "      resolve(null);\n",
       "    };\n",
       "  });\n",
       "\n",
       "  // Wait for the user to pick the files.\n",
       "  const files = yield {\n",
       "    promise: Promise.race([pickedPromise, cancelPromise]),\n",
       "    response: {\n",
       "      action: 'starting',\n",
       "    }\n",
       "  };\n",
       "\n",
       "  cancel.remove();\n",
       "\n",
       "  // Disable the input element since further picks are not allowed.\n",
       "  inputElement.disabled = true;\n",
       "\n",
       "  if (!files) {\n",
       "    return {\n",
       "      response: {\n",
       "        action: 'complete',\n",
       "      }\n",
       "    };\n",
       "  }\n",
       "\n",
       "  for (const file of files) {\n",
       "    const li = document.createElement('li');\n",
       "    li.append(span(file.name, {fontWeight: 'bold'}));\n",
       "    li.append(span(\n",
       "        `(${file.type || 'n/a'}) - ${file.size} bytes, ` +\n",
       "        `last modified: ${\n",
       "            file.lastModifiedDate ? file.lastModifiedDate.toLocaleDateString() :\n",
       "                                    'n/a'} - `));\n",
       "    const percent = span('0% done');\n",
       "    li.appendChild(percent);\n",
       "\n",
       "    outputElement.appendChild(li);\n",
       "\n",
       "    const fileDataPromise = new Promise((resolve) => {\n",
       "      const reader = new FileReader();\n",
       "      reader.onload = (e) => {\n",
       "        resolve(e.target.result);\n",
       "      };\n",
       "      reader.readAsArrayBuffer(file);\n",
       "    });\n",
       "    // Wait for the data to be ready.\n",
       "    let fileData = yield {\n",
       "      promise: fileDataPromise,\n",
       "      response: {\n",
       "        action: 'continue',\n",
       "      }\n",
       "    };\n",
       "\n",
       "    // Use a chunked sending to avoid message size limits. See b/62115660.\n",
       "    let position = 0;\n",
       "    do {\n",
       "      const length = Math.min(fileData.byteLength - position, MAX_PAYLOAD_SIZE);\n",
       "      const chunk = new Uint8Array(fileData, position, length);\n",
       "      position += length;\n",
       "\n",
       "      const base64 = btoa(String.fromCharCode.apply(null, chunk));\n",
       "      yield {\n",
       "        response: {\n",
       "          action: 'append',\n",
       "          file: file.name,\n",
       "          data: base64,\n",
       "        },\n",
       "      };\n",
       "\n",
       "      let percentDone = fileData.byteLength === 0 ?\n",
       "          100 :\n",
       "          Math.round((position / fileData.byteLength) * 100);\n",
       "      percent.textContent = `${percentDone}% done`;\n",
       "\n",
       "    } while (position < fileData.byteLength);\n",
       "  }\n",
       "\n",
       "  // All done.\n",
       "  yield {\n",
       "    response: {\n",
       "      action: 'complete',\n",
       "    }\n",
       "  };\n",
       "}\n",
       "\n",
       "scope.google = scope.google || {};\n",
       "scope.google.colab = scope.google.colab || {};\n",
       "scope.google.colab._files = {\n",
       "  _uploadFiles,\n",
       "  _uploadFilesContinue,\n",
       "};\n",
       "})(self);\n",
       "</script> "
      ],
      "text/plain": [
       "<IPython.core.display.HTML object>"
      ]
     },
     "metadata": {},
     "output_type": "display_data"
    },
    {
     "name": "stdout",
     "output_type": "stream",
     "text": [
      "Saving NBA Players Stats 201718.csv to NBA Players Stats 201718 (1).csv\n",
      "Saving NBA Players Stats 201819.csv to NBA Players Stats 201819 (1).csv\n"
     ]
    }
   ],
   "source": [
    "from google.colab import files\n",
    "uploaded = files.upload()"
   ]
  },
  {
   "cell_type": "code",
   "execution_count": 2,
   "id": "3rkF2TnmWx6N",
   "metadata": {
    "id": "3rkF2TnmWx6N"
   },
   "outputs": [],
   "source": [
    "# reading in the data - train and test\n",
    "nba_2017 = pd.read_csv('NBA Players Stats 201718.csv')\n",
    "nba_2018 = pd.read_csv('NBA Players Stats 201819.csv')"
   ]
  },
  {
   "cell_type": "markdown",
   "id": "ff6b5e83",
   "metadata": {
    "id": "ff6b5e83"
   },
   "source": [
    "### Data cleaning\n",
    "*By Davis Johnson*"
   ]
  },
  {
   "cell_type": "code",
   "execution_count": 3,
   "id": "25ddf4d3",
   "metadata": {
    "id": "25ddf4d3"
   },
   "outputs": [],
   "source": [
    "#Train Dataset#\n",
    "\n",
    "## getting rid of '//' characters in player names\n",
    "nba_2017['Player'] = nba_2017['Player'].str.split('\\\\').str[0]\n",
    "\n",
    "## If players played for more than one team, we want to only keep the row that has their total stats for the year\n",
    "## applying boolean mask to get of rid of extra rows belonging to players and only keeping their 'TOT' rows\n",
    "duplicated_players = nba_2017['Player'].duplicated(keep=False)\n",
    "mask = duplicated_players & (nba_2017['Tm'] == 'TOT')\n",
    "filtered_df = nba_2017[mask]\n",
    "\n",
    "## creating seperate subset of players that don't have more than one row\n",
    "single_team_df = nba_2017[~duplicated_players]\n",
    "\n",
    "## combining previously created subset with players that played for more than one team and now only have one row assigned to them\n",
    "nba_2017_2018 = pd.concat([filtered_df, single_team_df])\n",
    "nba_2017_2018 = nba_2017_2018.reset_index(drop=True)\n",
    "\n",
    "## filling all N/A values with 0, since we are assuming players have no stats for these data points\n",
    "nba_2017_2018.fillna(0, inplace=True)\n"
   ]
  },
  {
   "cell_type": "code",
   "execution_count": 4,
   "id": "HWTIclj2dRmz",
   "metadata": {
    "id": "HWTIclj2dRmz"
   },
   "outputs": [],
   "source": [
    "## repeating the process for test dataset\n",
    "nba_2018['Player'] = nba_2018['Player'].str.split('\\\\').str[0]\n",
    "duplicated_players = nba_2018['Player'].duplicated(keep=False)\n",
    "mask = duplicated_players & (nba_2018['Tm'] == 'TOT')\n",
    "filtered_df = nba_2018[mask]\n",
    "single_team_df = nba_2018[~duplicated_players]\n",
    "nba_2018_2019 = pd.concat([filtered_df, single_team_df])\n",
    "nba_2018_2019 = nba_2018_2019.reset_index(drop=True)\n",
    "nba_2018_2019.fillna(0, inplace=True)\n"
   ]
  },
  {
   "cell_type": "markdown",
   "id": "424479b5",
   "metadata": {
    "id": "424479b5"
   },
   "source": [
    "### Data preparation\n",
    "*By Davis Johnson*\n",
    "\n",
    "The following data preparation steps helped us to prepare our data for implementing various modeling / validation techniques:\n",
    "\n",
    "1. We want to predict All-Star appearances. Thus, we manually created a response column using binary classification. A `1` in the column signifies that the player was an All-Star in the following year.\n",
    "\n",
    "2. We also performed some basic data preparation techniques (dropping non-relevant predictors, removing players from the analysis who appeared in a limited number of games)"
   ]
  },
  {
   "cell_type": "code",
   "execution_count": 5,
   "id": "bde6859d",
   "metadata": {
    "id": "bde6859d"
   },
   "outputs": [],
   "source": [
    "## Train dataset\n",
    "\n",
    "## dropping predictors that won't factor into our analysis, we our focusing on stats\n",
    "nba_2017_2018 = nba_2017_2018.drop(columns=['Rk','Tm', 'Pos'], axis=1)\n",
    "\n",
    "## removing players who played less than 20 games\n",
    "nba_2017_2018 = nba_2017_2018[nba_2017_2018['G'] >= 20]\n",
    "nba_2017_2018 = nba_2017_2018.reset_index(drop=True)\n",
    "\n",
    "## converting stats into percentage form\n",
    "percentage_columns = ['FG%', '3P%', '2P%', 'eFG%', 'FT%']\n",
    "for col in percentage_columns:\n",
    "    nba_2017_2018[col] = nba_2017_2018[col] * 100\n",
    "\n",
    "## creating response variable\n",
    "## manually creating list of the following year's NBA All-Stars\n",
    "all_star_list = ['Kemba Walker', 'Kyrie Irving', 'Kawhi Leonard', 'Giannis Antetokounmpo', \n",
    "                'Joel Embiid', 'Kyle Lowry', 'Victor Oladipo', 'Khris Middleton', 'Bradley Beal',\n",
    "                'Ben Simmons', 'Blake Griffin', 'Nikola Vučević', \"D'Angelo Russell\",\n",
    "                'Stephen Curry', 'James Harden', 'Kevin Durant', 'Paul George', 'LeBron James',\n",
    "                'Russell Westbrook', 'Damian Lillard', 'Klay Thompson', 'Anthony Davis', \n",
    "                'LaMarcus Aldridge', 'DeMarcus Cousins', 'Nikola Jokić', 'Karl-Anthony Towns']\n",
    "\n",
    "## assigning a 1 to rows in a new column if the player name is in the list above\n",
    "nba_2017_2018['AS_NY'] = nba_2017_2018['Player'].apply(lambda x: 1 if x in all_star_list else 0)"
   ]
  },
  {
   "cell_type": "code",
   "execution_count": 6,
   "id": "edf0986d",
   "metadata": {
    "id": "edf0986d"
   },
   "outputs": [],
   "source": [
    "## repeating process for test dataset\n",
    "\n",
    "nba_2018_2019 = nba_2018_2019.drop(columns=['Rk','Tm', 'Pos'], axis=1)\n",
    "nba_2018_2019 = nba_2018_2019[nba_2018_2019['G'] >= 20]\n",
    "nba_2018_2019 = nba_2018_2019.reset_index(drop=True)\n",
    "\n",
    "percentage_columns = ['FG%', '3P%', '2P%', 'eFG%', 'FT%']\n",
    "for col in percentage_columns:\n",
    "    nba_2018_2019[col] = nba_2018_2019[col] * 100\n",
    "\n",
    "all_star_list = ['Kemba Walker', 'Trae Young', 'Giannis Antetokounmpo', 'Pascal Siakam', 'Joel Embiid',\n",
    "                'Kyle Lowry', 'Ben Simmons', 'Jimmy Butler', 'Khris Middleton', 'Bam Adebayo', \n",
    "                'Jayson Tatum', 'Domantas Sabonis', 'James Harden', 'Luka Dončić', 'LeBron James',\n",
    "                'Kawhi Leonard', 'Anthony Davis', 'Chris Paul', 'Russell Westbrook', 'Damian Lillard', \n",
    "                'Donovan Mitchell', 'Brandon Ingram', 'Nikola Jokić', 'Rudy Gobert', 'Devin Booker']\n",
    "nba_2018_2019['AS_NY'] = nba_2018_2019['Player'].apply(lambda x: 1 if x in all_star_list else 0)"
   ]
  },
  {
   "cell_type": "code",
   "execution_count": 7,
   "id": "IswxfW_AV3Qe",
   "metadata": {
    "id": "IswxfW_AV3Qe"
   },
   "outputs": [],
   "source": [
    "X_train = nba_2017_2018.drop(['Player', 'AS_NY'], axis=1) \n",
    "y_train = nba_2017_2018['AS_NY']  \n",
    "\n",
    "X_test = nba_2018_2019.drop(['Player', 'AS_NY'], axis=1)  \n",
    "y_test = nba_2018_2019['AS_NY']  "
   ]
  },
  {
   "cell_type": "markdown",
   "id": "371a5a4a",
   "metadata": {
    "id": "371a5a4a"
   },
   "source": [
    "### Distribution of response\n",
    "*By Davis Johnson*"
   ]
  },
  {
   "cell_type": "code",
   "execution_count": 8,
   "id": "b868f6b5",
   "metadata": {
    "colab": {
     "base_uri": "https://localhost:8080/",
     "height": 490
    },
    "id": "b868f6b5",
    "outputId": "beda649d-39d4-4796-f018-817b90ae7686"
   },
   "outputs": [
    {
     "data": {
      "text/plain": [
       "Text(0.5, 1.0, \"Number of 0's and 1's\")"
      ]
     },
     "execution_count": 8,
     "metadata": {},
     "output_type": "execute_result"
    },
    {
     "data": {
      "image/png": "[encoded data removed]",
      "text/plain": [
       "<Figure size 640x480 with 1 Axes>"
      ]
     },
     "metadata": {},
     "output_type": "display_data"
    }
   ],
   "source": [
    "## bar plot for distribution of response for train data\n",
    "proportions = nba_2017_2018['AS_NY'].value_counts()\n",
    "plt.bar(proportions.index.astype(str), proportions.values)\n",
    "plt.xlabel('Response')\n",
    "plt.ylabel('Proportion')\n",
    "plt.title('Number of 0\\'s and 1\\'s')"
   ]
  },
  {
   "cell_type": "code",
   "execution_count": 9,
   "id": "34g685i_gpNf",
   "metadata": {
    "colab": {
     "base_uri": "https://localhost:8080/",
     "height": 490
    },
    "id": "34g685i_gpNf",
    "outputId": "4ee45715-ff4a-4cf8-c855-4d06d6aabe98"
   },
   "outputs": [
    {
     "data": {
      "text/plain": [
       "Text(0.5, 1.0, \"Number of 0's and 1's\")"
      ]
     },
     "execution_count": 9,
     "metadata": {},
     "output_type": "execute_result"
    },
    {
     "data": {
      "image/png": "[encoded data removed]",
      "text/plain": [
       "<Figure size 640x480 with 1 Axes>"
      ]
     },
     "metadata": {},
     "output_type": "display_data"
    }
   ],
   "source": [
    "## bar plot for distribution of response for test data\n",
    "proportions = nba_2018_2019['AS_NY'].value_counts()\n",
    "plt.bar(proportions.index.astype(str), proportions.values)\n",
    "plt.xlabel('Response')\n",
    "plt.ylabel('Proportion')\n",
    "plt.title('Number of 0\\'s and 1\\'s')"
   ]
  },
  {
   "cell_type": "markdown",
   "id": "nC2d75KhhEJj",
   "metadata": {
    "id": "nC2d75KhhEJj"
   },
   "source": [
    "For both datasets, we see very skewed class distributions. This makes sense, as there are over 400 NBA players in a given year and only about 25 are voted as an All-Star each year. We do keep this in mind during model development by using StratifiedKFold."
   ]
  },
  {
   "cell_type": "markdown",
   "id": "fbb11c9b",
   "metadata": {
    "id": "fbb11c9b"
   },
   "source": [
    "## Exploratory data analysis"
   ]
  },
  {
   "cell_type": "markdown",
   "id": "e4bd74a9",
   "metadata": {
    "id": "e4bd74a9"
   },
   "source": [
    "Put code with comments. The comments should explain the code such that it can be easily understood. You may put text *(in a markdown cell)* before a large chunk of code to explain the overall purpose of the code, if it is not intuitive. **Put the name of the person / persons who contributed to each code chunk / set of code chunks.**"
   ]
  },
  {
   "cell_type": "markdown",
   "id": "1899c897",
   "metadata": {
    "id": "1899c897"
   },
   "source": [
    "### Correlation Table (Andy)"
   ]
  },
  {
   "cell_type": "code",
   "execution_count": 10,
   "id": "5aacd943",
   "metadata": {
    "colab": {
     "base_uri": "https://localhost:8080/",
     "height": 480
    },
    "id": "5aacd943",
    "outputId": "dace5cd7-26f4-4014-8e23-1a5e89959738"
   },
   "outputs": [
    {
     "data": {
      "text/plain": [
       "<Axes: >"
      ]
     },
     "execution_count": 10,
     "metadata": {},
     "output_type": "execute_result"
    },
    {
     "data": {
      "image/png": "[encoded data removed]",
      "text/plain": [
       "<Figure size 640x480 with 2 Axes>"
      ]
     },
     "metadata": {},
     "output_type": "display_data"
    }
   ],
   "source": [
    "# developing heatmap to analyze correlations\n",
    "x_train_eda = nba_2017_2018.iloc[:, 1:-1]\n",
    "sns.heatmap(x_train_eda.corr())"
   ]
  },
  {
   "cell_type": "markdown",
   "id": "d037837d",
   "metadata": {
    "id": "d037837d"
   },
   "source": [
    "### Variance Inflation Factor (Andy)"
   ]
  },
  {
   "cell_type": "code",
   "execution_count": 11,
   "id": "d74dcee7",
   "metadata": {
    "colab": {
     "base_uri": "https://localhost:8080/",
     "height": 896
    },
    "id": "d74dcee7",
    "outputId": "ca31fa68-b1d1-47fd-e265-ad25c4060b16"
   },
   "outputs": [
    {
     "data": {
      "text/html": [
       "<div>\n",
       "<style scoped>\n",
       "    .dataframe tbody tr th:only-of-type {\n",
       "        vertical-align: middle;\n",
       "    }\n",
       "\n",
       "    .dataframe tbody tr th {\n",
       "        vertical-align: top;\n",
       "    }\n",
       "\n",
       "    .dataframe thead th {\n",
       "        text-align: right;\n",
       "    }\n",
       "</style>\n",
       "<table border=\"1\" class=\"dataframe\">\n",
       "  <thead>\n",
       "    <tr style=\"text-align: right;\">\n",
       "      <th></th>\n",
       "      <th>feature</th>\n",
       "      <th>VIF</th>\n",
       "    </tr>\n",
       "  </thead>\n",
       "  <tbody>\n",
       "    <tr>\n",
       "      <th>6</th>\n",
       "      <td>FGA</td>\n",
       "      <td>9278.338644</td>\n",
       "    </tr>\n",
       "    <tr>\n",
       "      <th>26</th>\n",
       "      <td>PTS</td>\n",
       "      <td>6855.495654</td>\n",
       "    </tr>\n",
       "    <tr>\n",
       "      <th>12</th>\n",
       "      <td>2PA</td>\n",
       "      <td>5214.888899</td>\n",
       "    </tr>\n",
       "    <tr>\n",
       "      <th>5</th>\n",
       "      <td>FG</td>\n",
       "      <td>4760.500282</td>\n",
       "    </tr>\n",
       "    <tr>\n",
       "      <th>20</th>\n",
       "      <td>TRB</td>\n",
       "      <td>2455.633794</td>\n",
       "    </tr>\n",
       "    <tr>\n",
       "      <th>9</th>\n",
       "      <td>3PA</td>\n",
       "      <td>2136.962689</td>\n",
       "    </tr>\n",
       "    <tr>\n",
       "      <th>11</th>\n",
       "      <td>2P</td>\n",
       "      <td>1669.580429</td>\n",
       "    </tr>\n",
       "    <tr>\n",
       "      <th>19</th>\n",
       "      <td>DRB</td>\n",
       "      <td>1382.304451</td>\n",
       "    </tr>\n",
       "    <tr>\n",
       "      <th>8</th>\n",
       "      <td>3P</td>\n",
       "      <td>568.795838</td>\n",
       "    </tr>\n",
       "    <tr>\n",
       "      <th>15</th>\n",
       "      <td>FT</td>\n",
       "      <td>386.671118</td>\n",
       "    </tr>\n",
       "    <tr>\n",
       "      <th>0</th>\n",
       "      <td>const</td>\n",
       "      <td>359.615994</td>\n",
       "    </tr>\n",
       "    <tr>\n",
       "      <th>18</th>\n",
       "      <td>ORB</td>\n",
       "      <td>250.011013</td>\n",
       "    </tr>\n",
       "    <tr>\n",
       "      <th>16</th>\n",
       "      <td>FTA</td>\n",
       "      <td>85.359677</td>\n",
       "    </tr>\n",
       "    <tr>\n",
       "      <th>7</th>\n",
       "      <td>FG%</td>\n",
       "      <td>23.315430</td>\n",
       "    </tr>\n",
       "    <tr>\n",
       "      <th>14</th>\n",
       "      <td>eFG%</td>\n",
       "      <td>14.742887</td>\n",
       "    </tr>\n",
       "    <tr>\n",
       "      <th>4</th>\n",
       "      <td>MP</td>\n",
       "      <td>12.792623</td>\n",
       "    </tr>\n",
       "    <tr>\n",
       "      <th>24</th>\n",
       "      <td>TOV</td>\n",
       "      <td>10.272942</td>\n",
       "    </tr>\n",
       "    <tr>\n",
       "      <th>21</th>\n",
       "      <td>AST</td>\n",
       "      <td>5.418226</td>\n",
       "    </tr>\n",
       "    <tr>\n",
       "      <th>13</th>\n",
       "      <td>2P%</td>\n",
       "      <td>4.116444</td>\n",
       "    </tr>\n",
       "    <tr>\n",
       "      <th>3</th>\n",
       "      <td>GS</td>\n",
       "      <td>3.556087</td>\n",
       "    </tr>\n",
       "    <tr>\n",
       "      <th>25</th>\n",
       "      <td>PF</td>\n",
       "      <td>3.075280</td>\n",
       "    </tr>\n",
       "    <tr>\n",
       "      <th>22</th>\n",
       "      <td>STL</td>\n",
       "      <td>2.571860</td>\n",
       "    </tr>\n",
       "    <tr>\n",
       "      <th>23</th>\n",
       "      <td>BLK</td>\n",
       "      <td>2.378908</td>\n",
       "    </tr>\n",
       "    <tr>\n",
       "      <th>17</th>\n",
       "      <td>FT%</td>\n",
       "      <td>2.192007</td>\n",
       "    </tr>\n",
       "    <tr>\n",
       "      <th>10</th>\n",
       "      <td>3P%</td>\n",
       "      <td>2.185635</td>\n",
       "    </tr>\n",
       "    <tr>\n",
       "      <th>2</th>\n",
       "      <td>G</td>\n",
       "      <td>1.627709</td>\n",
       "    </tr>\n",
       "    <tr>\n",
       "      <th>1</th>\n",
       "      <td>Age</td>\n",
       "      <td>1.119090</td>\n",
       "    </tr>\n",
       "  </tbody>\n",
       "</table>\n",
       "</div>"
      ],
      "text/plain": [
       "   feature          VIF\n",
       "6      FGA  9278.338644\n",
       "26     PTS  6855.495654\n",
       "12     2PA  5214.888899\n",
       "5       FG  4760.500282\n",
       "20     TRB  2455.633794\n",
       "9      3PA  2136.962689\n",
       "11      2P  1669.580429\n",
       "19     DRB  1382.304451\n",
       "8       3P   568.795838\n",
       "15      FT   386.671118\n",
       "0    const   359.615994\n",
       "18     ORB   250.011013\n",
       "16     FTA    85.359677\n",
       "7      FG%    23.315430\n",
       "14    eFG%    14.742887\n",
       "4       MP    12.792623\n",
       "24     TOV    10.272942\n",
       "21     AST     5.418226\n",
       "13     2P%     4.116444\n",
       "3       GS     3.556087\n",
       "25      PF     3.075280\n",
       "22     STL     2.571860\n",
       "23     BLK     2.378908\n",
       "17     FT%     2.192007\n",
       "10     3P%     2.185635\n",
       "2        G     1.627709\n",
       "1      Age     1.119090"
      ]
     },
     "execution_count": 11,
     "metadata": {},
     "output_type": "execute_result"
    }
   ],
   "source": [
    "# Analyzing Variance Inflation Factor\n",
    "from statsmodels.stats.outliers_influence import variance_inflation_factor\n",
    "from statsmodels.tools.tools import add_constant\n",
    "\n",
    "# analyze VIF for training data (2017-2018)\n",
    "x_train_vif = nba_2017_2018.iloc[:, 1:-1]\n",
    "X = add_constant(x_train_vif)\n",
    "vif_data = pd.DataFrame()\n",
    "vif_data[\"feature\"] = X.columns\n",
    "\n",
    "for i in range(len(X.columns)):\n",
    "    vif_data.loc[i,'VIF'] = variance_inflation_factor(X.values, i)\n",
    "\n",
    "# delete columns with high VIF values \n",
    "test_vif = vif_data.sort_values(by = 'VIF', ascending = False) \n",
    "test_vif"
   ]
  },
  {
   "cell_type": "markdown",
   "id": "acab331a",
   "metadata": {
    "id": "acab331a"
   },
   "source": [
    "## Developing the model: Hyperparameter tuning"
   ]
  },
  {
   "cell_type": "markdown",
   "id": "ae5ec4c9",
   "metadata": {
    "id": "ae5ec4c9"
   },
   "source": [
    "Put code with comments. The comments should explain the code such that it can be easily understood. You may put text *(in a markdown cell)* before a large chunk of code to explain the overall purpose of the code, if it is not intuitive. **Put the name of the person / persons who contributed to each code chunk / set of code chunks.**\n",
    "\n",
    "Put each model in a section of its name and mention the name of the team-member tuning the model. Below is an example:"
   ]
  },
  {
   "cell_type": "markdown",
   "id": "21bc9dcc",
   "metadata": {
    "id": "21bc9dcc"
   },
   "source": [
    "### AdaBoost and Gradient Boost\n",
    "*By Andy Wen*"
   ]
  },
  {
   "cell_type": "code",
   "execution_count": 12,
   "id": "e49853c3",
   "metadata": {},
   "outputs": [
    {
     "name": "stdout",
     "output_type": "stream",
     "text": [
      "Fitting 5 folds for each of 2688 candidates, totalling 13440 fits\n",
      "Best: 0.989144 using {'learning_rate': 0.001, 'max_depth': 15, 'n_estimators': 100, 'subsample': 0.6}\n"
     ]
    }
   ],
   "source": [
    "# grid search for optimal hyperparameters to minimize recall and accuracy \n",
    "\n",
    "model = GradientBoostingClassifier(random_state=1)\n",
    "param_grid = {\n",
    "    'n_estimators': [50, 100, 150, 200, 250, 300, 350, 400],\n",
    "    'max_depth': [5,10,15,20,25,30,35,40],\n",
    "    'learning_rate': [0.001, 0.01, 0.1, 0.5, 1, 2],\n",
    "    'subsample': [0.1, 0.25, 0.4, 0.5, 0.6, 0.75, 1.0]\n",
    "}\n",
    "\n",
    "# define the evaluation procedure\n",
    "cv = StratifiedKFold(n_splits=5, shuffle=True, random_state=1)\n",
    "# define the grid search procedure\n",
    "grid_search = GridSearchCV(estimator=model,\n",
    "                           param_grid = param_grid,\n",
    "                           n_jobs=-1,\n",
    "                           cv=cv,\n",
    "                           verbose = True,\n",
    "                           scoring= 'roc_auc')\n",
    "\n",
    "# execute the grid search\n",
    "grid_result = grid_search.fit(X_train, y_train)\n",
    "\n",
    "# summarize the best score and configuration\n",
    "print(\"Best: %f using %s\" % (grid_result.best_score_, grid_result.best_params_))"
   ]
  },
  {
   "cell_type": "code",
   "execution_count": 13,
   "id": "552a5d91",
   "metadata": {},
   "outputs": [
    {
     "data": {
      "image/png": "[encoded data removed]",
      "text/plain": [
       "<Figure size 800x800 with 1 Axes>"
      ]
     },
     "metadata": {},
     "output_type": "display_data"
    }
   ],
   "source": [
    "# Model based on the optimal parameters\n",
    "gradient_boost_model = GradientBoostingClassifier(random_state=1,\n",
    "                                   max_depth=15,\n",
    "                                   learning_rate=0.001,\n",
    "                                   subsample=0.6,\n",
    "                                   n_estimators=100).fit(X_train,y_train)\n",
    "\n",
    "\n",
    "cross_val_ypred = cross_val_predict(GradientBoostingClassifier(random_state=1,\n",
    "                                                               max_depth=15,\n",
    "                                                               learning_rate=0.001,\n",
    "                                                               subsample=0.6,\n",
    "                                                               n_estimators=100),\n",
    "                                    X_train,\n",
    "                                    y_train,\n",
    "                                    cv = 5,\n",
    "                                    method = 'predict_proba')\n",
    "\n",
    "\n",
    "fpr, tpr, thresholds = roc_curve(y_train, cross_val_ypred[:,1])\n",
    "\n",
    "def plot_fpr_tpr_vs_threshold(fpr, tpr, thresholds):\n",
    "    plt.figure(figsize=(8, 8))\n",
    "    plt.title(\"Precision and Recall Scores as a function of the decision threshold\")\n",
    "    plt.plot(thresholds, fpr, \"b--\", label= \"False Positive Rate\")\n",
    "    plt.plot(thresholds, tpr, \"g-\", label= \"True Positive Rate\")\n",
    "    plt.plot(thresholds, fpr, \"o\", color = 'blue')\n",
    "    plt.plot(thresholds, tpr, \"o\", color = 'green')\n",
    "    plt.ylabel(\"Score\")\n",
    "    plt.xlabel(\"Decision Threshold\")\n",
    "    plt.legend(loc='best')\n",
    "    plt.legend()\n",
    "    \n",
    "plot_fpr_tpr_vs_threshold(fpr, tpr, thresholds)"
   ]
  },
  {
   "cell_type": "code",
   "execution_count": 14,
   "id": "f1c0fee6",
   "metadata": {},
   "outputs": [
    {
     "data": {
      "text/html": [
       "<div>\n",
       "<style scoped>\n",
       "    .dataframe tbody tr th:only-of-type {\n",
       "        vertical-align: middle;\n",
       "    }\n",
       "\n",
       "    .dataframe tbody tr th {\n",
       "        vertical-align: top;\n",
       "    }\n",
       "\n",
       "    .dataframe thead th {\n",
       "        text-align: right;\n",
       "    }\n",
       "</style>\n",
       "<table border=\"1\" class=\"dataframe\">\n",
       "  <thead>\n",
       "    <tr style=\"text-align: right;\">\n",
       "      <th></th>\n",
       "      <th>variables</th>\n",
       "      <th>feature_importance</th>\n",
       "    </tr>\n",
       "  </thead>\n",
       "  <tbody>\n",
       "    <tr>\n",
       "      <th>25</th>\n",
       "      <td>PTS</td>\n",
       "      <td>0.393900</td>\n",
       "    </tr>\n",
       "    <tr>\n",
       "      <th>4</th>\n",
       "      <td>FG</td>\n",
       "      <td>0.192610</td>\n",
       "    </tr>\n",
       "    <tr>\n",
       "      <th>13</th>\n",
       "      <td>eFG%</td>\n",
       "      <td>0.104400</td>\n",
       "    </tr>\n",
       "    <tr>\n",
       "      <th>23</th>\n",
       "      <td>TOV</td>\n",
       "      <td>0.063095</td>\n",
       "    </tr>\n",
       "    <tr>\n",
       "      <th>18</th>\n",
       "      <td>DRB</td>\n",
       "      <td>0.033833</td>\n",
       "    </tr>\n",
       "    <tr>\n",
       "      <th>7</th>\n",
       "      <td>3P</td>\n",
       "      <td>0.022006</td>\n",
       "    </tr>\n",
       "    <tr>\n",
       "      <th>20</th>\n",
       "      <td>AST</td>\n",
       "      <td>0.021990</td>\n",
       "    </tr>\n",
       "    <tr>\n",
       "      <th>14</th>\n",
       "      <td>FT</td>\n",
       "      <td>0.019588</td>\n",
       "    </tr>\n",
       "    <tr>\n",
       "      <th>12</th>\n",
       "      <td>2P%</td>\n",
       "      <td>0.018270</td>\n",
       "    </tr>\n",
       "    <tr>\n",
       "      <th>19</th>\n",
       "      <td>TRB</td>\n",
       "      <td>0.017635</td>\n",
       "    </tr>\n",
       "    <tr>\n",
       "      <th>3</th>\n",
       "      <td>MP</td>\n",
       "      <td>0.014176</td>\n",
       "    </tr>\n",
       "    <tr>\n",
       "      <th>16</th>\n",
       "      <td>FT%</td>\n",
       "      <td>0.012957</td>\n",
       "    </tr>\n",
       "    <tr>\n",
       "      <th>8</th>\n",
       "      <td>3PA</td>\n",
       "      <td>0.012922</td>\n",
       "    </tr>\n",
       "    <tr>\n",
       "      <th>2</th>\n",
       "      <td>GS</td>\n",
       "      <td>0.009819</td>\n",
       "    </tr>\n",
       "    <tr>\n",
       "      <th>17</th>\n",
       "      <td>ORB</td>\n",
       "      <td>0.007783</td>\n",
       "    </tr>\n",
       "    <tr>\n",
       "      <th>5</th>\n",
       "      <td>FGA</td>\n",
       "      <td>0.007196</td>\n",
       "    </tr>\n",
       "    <tr>\n",
       "      <th>24</th>\n",
       "      <td>PF</td>\n",
       "      <td>0.007095</td>\n",
       "    </tr>\n",
       "    <tr>\n",
       "      <th>21</th>\n",
       "      <td>STL</td>\n",
       "      <td>0.006885</td>\n",
       "    </tr>\n",
       "    <tr>\n",
       "      <th>15</th>\n",
       "      <td>FTA</td>\n",
       "      <td>0.005351</td>\n",
       "    </tr>\n",
       "    <tr>\n",
       "      <th>0</th>\n",
       "      <td>Age</td>\n",
       "      <td>0.005221</td>\n",
       "    </tr>\n",
       "    <tr>\n",
       "      <th>9</th>\n",
       "      <td>3P%</td>\n",
       "      <td>0.004533</td>\n",
       "    </tr>\n",
       "    <tr>\n",
       "      <th>10</th>\n",
       "      <td>2P</td>\n",
       "      <td>0.004368</td>\n",
       "    </tr>\n",
       "    <tr>\n",
       "      <th>1</th>\n",
       "      <td>G</td>\n",
       "      <td>0.003747</td>\n",
       "    </tr>\n",
       "    <tr>\n",
       "      <th>22</th>\n",
       "      <td>BLK</td>\n",
       "      <td>0.003698</td>\n",
       "    </tr>\n",
       "    <tr>\n",
       "      <th>11</th>\n",
       "      <td>2PA</td>\n",
       "      <td>0.003580</td>\n",
       "    </tr>\n",
       "    <tr>\n",
       "      <th>6</th>\n",
       "      <td>FG%</td>\n",
       "      <td>0.003343</td>\n",
       "    </tr>\n",
       "  </tbody>\n",
       "</table>\n",
       "</div>"
      ],
      "text/plain": [
       "   variables  feature_importance\n",
       "25       PTS            0.393900\n",
       "4         FG            0.192610\n",
       "13      eFG%            0.104400\n",
       "23       TOV            0.063095\n",
       "18       DRB            0.033833\n",
       "7         3P            0.022006\n",
       "20       AST            0.021990\n",
       "14        FT            0.019588\n",
       "12       2P%            0.018270\n",
       "19       TRB            0.017635\n",
       "3         MP            0.014176\n",
       "16       FT%            0.012957\n",
       "8        3PA            0.012922\n",
       "2         GS            0.009819\n",
       "17       ORB            0.007783\n",
       "5        FGA            0.007196\n",
       "24        PF            0.007095\n",
       "21       STL            0.006885\n",
       "15       FTA            0.005351\n",
       "0        Age            0.005221\n",
       "9        3P%            0.004533\n",
       "10        2P            0.004368\n",
       "1          G            0.003747\n",
       "22       BLK            0.003698\n",
       "11       2PA            0.003580\n",
       "6        FG%            0.003343"
      ]
     },
     "execution_count": 14,
     "metadata": {},
     "output_type": "execute_result"
    }
   ],
   "source": [
    "# look at feature importances\n",
    "feature_importance_grad_boost = pd.DataFrame({'variables' : X_train.columns,\n",
    "                                            'feature_importance' : gradient_boost_model.feature_importances_})\n",
    "\n",
    "feature_importance_grad_boost.sort_values('feature_importance', ascending = False)"
   ]
  },
  {
   "cell_type": "code",
   "execution_count": 15,
   "id": "cf14bb5c",
   "metadata": {},
   "outputs": [],
   "source": [
    "# Thresholds with TPR and FPR\n",
    "all_thresholds = np.concatenate([thresholds.reshape(-1,1), tpr.reshape(-1,1), fpr.reshape(-1,1)], axis = 1)\n",
    "\n",
    "FPR_below_10 = all_thresholds[all_thresholds[:,2] < 0.10, :]\n",
    "\n",
    "# we want to maximize TPR while minimizing FPR so go for last one\n",
    "optimal_thres = FPR_below_10[FPR_below_10.shape[0]-1][0]"
   ]
  },
  {
   "cell_type": "code",
   "execution_count": 16,
   "id": "d4059484",
   "metadata": {},
   "outputs": [
    {
     "name": "stdout",
     "output_type": "stream",
     "text": [
      "Accuracy:  89.12529550827422\n",
      "ROC-AUC:  0.9009045226130654\n",
      "Precision:  0.3157894736842105\n",
      "Recall:  0.72\n"
     ]
    },
    {
     "data": {
      "image/png": "[encoded data removed]",
      "text/plain": [
       "<Figure size 640x480 with 2 Axes>"
      ]
     },
     "metadata": {},
     "output_type": "display_data"
    }
   ],
   "source": [
    "# Performance metrics computation for the optimum decision threshold probability\n",
    "desired_threshold = optimal_thres\n",
    "\n",
    "y_pred_prob = gradient_boost_model.predict_proba(X_test)[:,1] \n",
    "\n",
    "# Classifying observations in the positive class (y = 1) if the predicted probability is greater\n",
    "# than the desired decision threshold probability\n",
    "y_pred = y_pred_prob > desired_threshold\n",
    "y_pred = y_pred.astype(int)\n",
    "\n",
    "#Computing the accuracy\n",
    "print(\"Accuracy: \",accuracy_score(y_pred, y_test)*100)  \n",
    "\n",
    "#Computing the ROC-AUC\n",
    "fpr, tpr, auc_thresholds = roc_curve(y_test, y_pred_prob)\n",
    "print(\"ROC-AUC: \",auc(fpr, tpr))# AUC of ROC\n",
    "\n",
    "#Computing the precision and recall\n",
    "print(\"Precision: \", precision_score(y_test, y_pred))\n",
    "print(\"Recall: \", recall_score(y_test, y_pred))\n",
    "\n",
    "#Confusion matrix\n",
    "cm = pd.DataFrame(confusion_matrix(y_test, y_pred), \n",
    "                  columns=['Predicted 0', 'Predicted 1'], index = ['Actual 0', 'Actual 1'])\n",
    "sns.heatmap(cm, annot=True, cmap='Blues', fmt='g');"
   ]
  },
  {
   "cell_type": "code",
   "execution_count": 17,
   "id": "be7a13d9",
   "metadata": {},
   "outputs": [
    {
     "name": "stdout",
     "output_type": "stream",
     "text": [
      "Accuracy: 0.9396135265700483\n",
      "Recall: 0.0\n",
      "Precision: 0.0\n",
      "Confusion Matrix:\n",
      "[[389   0]\n",
      " [ 25   0]]\n"
     ]
    },
    {
     "name": "stderr",
     "output_type": "stream",
     "text": [
      "C:\\ProgramData\\Anaconda3\\lib\\site-packages\\sklearn\\metrics\\_classification.py:1344: UndefinedMetricWarning: Precision is ill-defined and being set to 0.0 due to no predicted samples. Use `zero_division` parameter to control this behavior.\n",
      "  _warn_prf(average, modifier, msg_start, len(result))\n"
     ]
    }
   ],
   "source": [
    "y_pred = gradient_boost_model.predict(X_train)\n",
    "\n",
    "accuracy = accuracy_score(y_train, y_pred)\n",
    "recall = recall_score(y_train, y_pred)\n",
    "precision = precision_score(y_train, y_pred)\n",
    "confusion_mat = confusion_matrix(y_train, y_pred)\n",
    "\n",
    "print(\"Accuracy:\", accuracy)\n",
    "print(\"Recall:\", recall)\n",
    "print(\"Precision:\", precision)\n",
    "print(\"Confusion Matrix:\")\n",
    "print(confusion_mat)"
   ]
  },
  {
   "cell_type": "code",
   "execution_count": 18,
   "id": "a0b2cbb8",
   "metadata": {},
   "outputs": [
    {
     "name": "stdout",
     "output_type": "stream",
     "text": [
      "Fitting 5 folds for each of 432 candidates, totalling 2160 fits\n",
      "Best: 0.720000 using {'base_estimator': DecisionTreeClassifier(max_depth=5), 'learning_rate': 0.01, 'n_estimators': 50}\n"
     ]
    },
    {
     "name": "stderr",
     "output_type": "stream",
     "text": [
      "C:\\ProgramData\\Anaconda3\\lib\\site-packages\\sklearn\\ensemble\\_base.py:166: FutureWarning: `base_estimator` was renamed to `estimator` in version 1.2 and will be removed in 1.4.\n",
      "  warnings.warn(\n"
     ]
    }
   ],
   "source": [
    "# Creating optimal classifier tree \n",
    "model = AdaBoostClassifier(random_state=1)\n",
    "\n",
    "grid = dict()\n",
    "grid['n_estimators'] = [50, 100, 200, 300, 400, 500, 600, 700]\n",
    "grid['learning_rate'] = [0.01, 0.05, 0.1, 0.5, 1, 2]\n",
    "grid['base_estimator'] = [DecisionTreeClassifier(max_depth=1),DecisionTreeClassifier(max_depth=5),\n",
    "                       DecisionTreeClassifier(max_depth=10),DecisionTreeClassifier(max_depth=15),\n",
    "                       DecisionTreeClassifier(max_depth=20),DecisionTreeClassifier(max_depth=25),\n",
    "                       DecisionTreeClassifier(max_depth=30),DecisionTreeClassifier(max_depth=35),\n",
    "                       DecisionTreeClassifier(max_depth=40)]\n",
    "\n",
    "# define the evaluation procedure\n",
    "cv = StratifiedKFold(n_splits=5, shuffle=True, random_state=1)\n",
    "# define the grid search procedure\n",
    "grid_search = GridSearchCV(estimator=model,\n",
    "                           param_grid=grid,\n",
    "                           n_jobs=-1,\n",
    "                           cv=cv,\n",
    "                           scoring= ['recall', 'accuracy'],\n",
    "                           refit = 'recall',\n",
    "                           verbose = True)\n",
    "\n",
    "# execute the grid search\n",
    "grid_result = grid_search.fit(X_train, y_train)\n",
    "# summarize the best score and configuration\n",
    "print(\"Best: %f using %s\" % (grid_result.best_score_, grid_result.best_params_))\n",
    "# summarize all scores that were evaluated\n",
    "params = grid_result.cv_results_['params']"
   ]
  },
  {
   "cell_type": "code",
   "execution_count": 19,
   "id": "ca8ffa0e",
   "metadata": {},
   "outputs": [
    {
     "name": "stderr",
     "output_type": "stream",
     "text": [
      "C:\\ProgramData\\Anaconda3\\lib\\site-packages\\sklearn\\ensemble\\_base.py:166: FutureWarning: `base_estimator` was renamed to `estimator` in version 1.2 and will be removed in 1.4.\n",
      "  warnings.warn(\n",
      "C:\\ProgramData\\Anaconda3\\lib\\site-packages\\sklearn\\ensemble\\_base.py:166: FutureWarning: `base_estimator` was renamed to `estimator` in version 1.2 and will be removed in 1.4.\n",
      "  warnings.warn(\n",
      "C:\\ProgramData\\Anaconda3\\lib\\site-packages\\sklearn\\ensemble\\_base.py:166: FutureWarning: `base_estimator` was renamed to `estimator` in version 1.2 and will be removed in 1.4.\n",
      "  warnings.warn(\n",
      "C:\\ProgramData\\Anaconda3\\lib\\site-packages\\sklearn\\ensemble\\_base.py:166: FutureWarning: `base_estimator` was renamed to `estimator` in version 1.2 and will be removed in 1.4.\n",
      "  warnings.warn(\n",
      "C:\\ProgramData\\Anaconda3\\lib\\site-packages\\sklearn\\ensemble\\_base.py:166: FutureWarning: `base_estimator` was renamed to `estimator` in version 1.2 and will be removed in 1.4.\n",
      "  warnings.warn(\n",
      "C:\\ProgramData\\Anaconda3\\lib\\site-packages\\sklearn\\ensemble\\_base.py:166: FutureWarning: `base_estimator` was renamed to `estimator` in version 1.2 and will be removed in 1.4.\n",
      "  warnings.warn(\n"
     ]
    },
    {
     "data": {
      "image/png": "[encoded data removed]",
      "text/plain": [
       "<Figure size 800x800 with 1 Axes>"
      ]
     },
     "metadata": {},
     "output_type": "display_data"
    }
   ],
   "source": [
    "# Model based on the optimal parameters\n",
    "ada_boost_model = AdaBoostClassifier(random_state=1, \n",
    "                                     base_estimator = DecisionTreeClassifier(max_depth=1),\n",
    "                                     learning_rate=0.02,\n",
    "                                     n_estimators=265).fit(X_train, y_train)\n",
    "\n",
    "\n",
    "cross_val_ypred = cross_val_predict(AdaBoostClassifier(random_state=1,\n",
    "                                                       base_estimator = DecisionTreeClassifier(max_depth=1),\n",
    "                                                       learning_rate=0.02,\n",
    "                                                       n_estimators=265),\n",
    "                                    X_train,\n",
    "                                    y_train,\n",
    "                                    cv = 5,\n",
    "                                    method = 'predict_proba')\n",
    "\n",
    "\n",
    "fpr, tpr, thresholds = roc_curve(y_train, cross_val_ypred[:,1])\n",
    "\n",
    "def plot_fpr_tpr_vs_threshold(fpr, tpr, thresholds):\n",
    "    plt.figure(figsize=(8, 8))\n",
    "    plt.title(\"Precision and Recall Scores as a function of the decision threshold\")\n",
    "    plt.plot(thresholds, fpr, \"b--\", label= \"False Positive Rate\")\n",
    "    plt.plot(thresholds, tpr, \"g-\", label= \"True Positive Rate\")\n",
    "    plt.plot(thresholds, fpr, \"o\", color = 'blue')\n",
    "    plt.plot(thresholds, tpr, \"o\", color = 'green')\n",
    "    plt.ylabel(\"Score\")\n",
    "    plt.xlabel(\"Decision Threshold\")\n",
    "    plt.legend(loc='best')\n",
    "    plt.legend()\n",
    "    \n",
    "plot_fpr_tpr_vs_threshold(fpr, tpr, thresholds)"
   ]
  },
  {
   "cell_type": "code",
   "execution_count": 20,
   "id": "f88aa0cd",
   "metadata": {},
   "outputs": [
    {
     "data": {
      "text/html": [
       "<div>\n",
       "<style scoped>\n",
       "    .dataframe tbody tr th:only-of-type {\n",
       "        vertical-align: middle;\n",
       "    }\n",
       "\n",
       "    .dataframe tbody tr th {\n",
       "        vertical-align: top;\n",
       "    }\n",
       "\n",
       "    .dataframe thead th {\n",
       "        text-align: right;\n",
       "    }\n",
       "</style>\n",
       "<table border=\"1\" class=\"dataframe\">\n",
       "  <thead>\n",
       "    <tr style=\"text-align: right;\">\n",
       "      <th></th>\n",
       "      <th>variables</th>\n",
       "      <th>feature_importance</th>\n",
       "    </tr>\n",
       "  </thead>\n",
       "  <tbody>\n",
       "    <tr>\n",
       "      <th>23</th>\n",
       "      <td>TOV</td>\n",
       "      <td>0.245283</td>\n",
       "    </tr>\n",
       "    <tr>\n",
       "      <th>7</th>\n",
       "      <td>3P</td>\n",
       "      <td>0.169811</td>\n",
       "    </tr>\n",
       "    <tr>\n",
       "      <th>18</th>\n",
       "      <td>DRB</td>\n",
       "      <td>0.158491</td>\n",
       "    </tr>\n",
       "    <tr>\n",
       "      <th>25</th>\n",
       "      <td>PTS</td>\n",
       "      <td>0.090566</td>\n",
       "    </tr>\n",
       "    <tr>\n",
       "      <th>19</th>\n",
       "      <td>TRB</td>\n",
       "      <td>0.083019</td>\n",
       "    </tr>\n",
       "    <tr>\n",
       "      <th>12</th>\n",
       "      <td>2P%</td>\n",
       "      <td>0.071698</td>\n",
       "    </tr>\n",
       "    <tr>\n",
       "      <th>13</th>\n",
       "      <td>eFG%</td>\n",
       "      <td>0.071698</td>\n",
       "    </tr>\n",
       "    <tr>\n",
       "      <th>4</th>\n",
       "      <td>FG</td>\n",
       "      <td>0.056604</td>\n",
       "    </tr>\n",
       "    <tr>\n",
       "      <th>20</th>\n",
       "      <td>AST</td>\n",
       "      <td>0.026415</td>\n",
       "    </tr>\n",
       "    <tr>\n",
       "      <th>2</th>\n",
       "      <td>GS</td>\n",
       "      <td>0.011321</td>\n",
       "    </tr>\n",
       "    <tr>\n",
       "      <th>17</th>\n",
       "      <td>ORB</td>\n",
       "      <td>0.007547</td>\n",
       "    </tr>\n",
       "    <tr>\n",
       "      <th>5</th>\n",
       "      <td>FGA</td>\n",
       "      <td>0.007547</td>\n",
       "    </tr>\n",
       "    <tr>\n",
       "      <th>6</th>\n",
       "      <td>FG%</td>\n",
       "      <td>0.000000</td>\n",
       "    </tr>\n",
       "    <tr>\n",
       "      <th>24</th>\n",
       "      <td>PF</td>\n",
       "      <td>0.000000</td>\n",
       "    </tr>\n",
       "    <tr>\n",
       "      <th>22</th>\n",
       "      <td>BLK</td>\n",
       "      <td>0.000000</td>\n",
       "    </tr>\n",
       "    <tr>\n",
       "      <th>21</th>\n",
       "      <td>STL</td>\n",
       "      <td>0.000000</td>\n",
       "    </tr>\n",
       "    <tr>\n",
       "      <th>3</th>\n",
       "      <td>MP</td>\n",
       "      <td>0.000000</td>\n",
       "    </tr>\n",
       "    <tr>\n",
       "      <th>16</th>\n",
       "      <td>FT%</td>\n",
       "      <td>0.000000</td>\n",
       "    </tr>\n",
       "    <tr>\n",
       "      <th>8</th>\n",
       "      <td>3PA</td>\n",
       "      <td>0.000000</td>\n",
       "    </tr>\n",
       "    <tr>\n",
       "      <th>15</th>\n",
       "      <td>FTA</td>\n",
       "      <td>0.000000</td>\n",
       "    </tr>\n",
       "    <tr>\n",
       "      <th>14</th>\n",
       "      <td>FT</td>\n",
       "      <td>0.000000</td>\n",
       "    </tr>\n",
       "    <tr>\n",
       "      <th>1</th>\n",
       "      <td>G</td>\n",
       "      <td>0.000000</td>\n",
       "    </tr>\n",
       "    <tr>\n",
       "      <th>11</th>\n",
       "      <td>2PA</td>\n",
       "      <td>0.000000</td>\n",
       "    </tr>\n",
       "    <tr>\n",
       "      <th>10</th>\n",
       "      <td>2P</td>\n",
       "      <td>0.000000</td>\n",
       "    </tr>\n",
       "    <tr>\n",
       "      <th>9</th>\n",
       "      <td>3P%</td>\n",
       "      <td>0.000000</td>\n",
       "    </tr>\n",
       "    <tr>\n",
       "      <th>0</th>\n",
       "      <td>Age</td>\n",
       "      <td>0.000000</td>\n",
       "    </tr>\n",
       "  </tbody>\n",
       "</table>\n",
       "</div>"
      ],
      "text/plain": [
       "   variables  feature_importance\n",
       "23       TOV            0.245283\n",
       "7         3P            0.169811\n",
       "18       DRB            0.158491\n",
       "25       PTS            0.090566\n",
       "19       TRB            0.083019\n",
       "12       2P%            0.071698\n",
       "13      eFG%            0.071698\n",
       "4         FG            0.056604\n",
       "20       AST            0.026415\n",
       "2         GS            0.011321\n",
       "17       ORB            0.007547\n",
       "5        FGA            0.007547\n",
       "6        FG%            0.000000\n",
       "24        PF            0.000000\n",
       "22       BLK            0.000000\n",
       "21       STL            0.000000\n",
       "3         MP            0.000000\n",
       "16       FT%            0.000000\n",
       "8        3PA            0.000000\n",
       "15       FTA            0.000000\n",
       "14        FT            0.000000\n",
       "1          G            0.000000\n",
       "11       2PA            0.000000\n",
       "10        2P            0.000000\n",
       "9        3P%            0.000000\n",
       "0        Age            0.000000"
      ]
     },
     "execution_count": 20,
     "metadata": {},
     "output_type": "execute_result"
    }
   ],
   "source": [
    "# look at feature importances\n",
    "feature_importance_adaboost = pd.DataFrame({'variables' : X_train.columns,\n",
    "                                            'feature_importance' : ada_boost_model.feature_importances_})\n",
    "\n",
    "feature_importance_adaboost.sort_values('feature_importance', ascending = False)"
   ]
  },
  {
   "cell_type": "code",
   "execution_count": 21,
   "id": "2eafb2d0",
   "metadata": {},
   "outputs": [],
   "source": [
    "# Thresholds with TPR and FPR\n",
    "all_thresholds = np.concatenate([thresholds.reshape(-1,1), tpr.reshape(-1,1), fpr.reshape(-1,1)], axis = 1)\n",
    "\n",
    "FPR_below_5 = all_thresholds[all_thresholds[:,2] < 0.10, :]\n",
    "\n",
    "# we want to maximize TPR while minimizing FPR so go for last one\n",
    "optimal_thres = FPR_below_5[FPR_below_5.shape[0]-1][0]"
   ]
  },
  {
   "cell_type": "code",
   "execution_count": 22,
   "id": "a5935e72",
   "metadata": {},
   "outputs": [
    {
     "name": "stdout",
     "output_type": "stream",
     "text": [
      "Accuracy:  89.59810874704492\n",
      "ROC-AUC:  0.9444723618090453\n",
      "Precision:  0.3389830508474576\n",
      "Recall:  0.8\n"
     ]
    },
    {
     "data": {
      "image/png": "[encoded data removed]",
      "text/plain": [
       "<Figure size 640x480 with 2 Axes>"
      ]
     },
     "metadata": {},
     "output_type": "display_data"
    }
   ],
   "source": [
    "# Performance metrics computation for the optimum decision threshold probability\n",
    "desired_threshold = optimal_thres\n",
    "\n",
    "y_pred_prob = ada_boost_model.predict_proba(X_test)[:,1] \n",
    "\n",
    "# Classifying observations in the positive class (y = 1) if the predicted probability is greater\n",
    "# than the desired decision threshold probability\n",
    "y_pred = y_pred_prob > desired_threshold\n",
    "y_pred = y_pred.astype(int)\n",
    "\n",
    "#Computing the accuracy\n",
    "print(\"Accuracy: \",accuracy_score(y_pred, y_test)*100)  \n",
    "\n",
    "#Computing the ROC-AUC\n",
    "fpr, tpr, auc_thresholds = roc_curve(y_test, y_pred_prob)\n",
    "print(\"ROC-AUC: \",auc(fpr, tpr))# AUC of ROC\n",
    "\n",
    "#Computing the precision and recall\n",
    "print(\"Precision: \", precision_score(y_test, y_pred))\n",
    "print(\"Recall: \", recall_score(y_test, y_pred))\n",
    "\n",
    "#Confusion matrix\n",
    "cm = pd.DataFrame(confusion_matrix(y_test, y_pred), \n",
    "                  columns=['Predicted 0', 'Predicted 1'], index = ['Actual 0', 'Actual 1'])\n",
    "sns.heatmap(cm, annot=True, cmap='Blues', fmt='g');"
   ]
  },
  {
   "cell_type": "markdown",
   "id": "a67c9ff7",
   "metadata": {
    "id": "a67c9ff7"
   },
   "source": [
    "### Random Forest\n",
    "*By Izzy Podolsky*"
   ]
  },
  {
   "cell_type": "code",
   "execution_count": 23,
   "id": "ddtr8X2hW2po",
   "metadata": {
    "colab": {
     "base_uri": "https://localhost:8080/"
    },
    "id": "ddtr8X2hW2po",
    "outputId": "7f39dc4d-9f1d-4ad0-87e2-7f64ec1c2e03"
   },
   "outputs": [
    {
     "name": "stdout",
     "output_type": "stream",
     "text": [
      "Fitting 5 folds for each of 27 candidates, totalling 135 fits\n",
      "Best Accuracy Score: 0.968557\n",
      "Best ROC-AUC Score: 0.987349\n",
      "Best Hyperparameters:  {'max_features': 13, 'n_estimators': 750}\n"
     ]
    }
   ],
   "source": [
    "#Hyperparameter tuning\n",
    "param_grid = {\n",
    "    'max_features' : (list(range(1, 19, 2))),\n",
    "    'n_estimators' : [250, 500, 750]\n",
    "}\n",
    "\n",
    "model = RandomForestClassifier(random_state = 1, oob_score = True, verbose = False, n_jobs=-1)\n",
    "\n",
    "cv = StratifiedKFold(n_splits = 5,shuffle = True, random_state = 1)\n",
    "rfcv = GridSearchCV(estimator = model, \n",
    "                           param_grid = param_grid, \n",
    "                           scoring = ['roc_auc','accuracy'],\n",
    "                           refit = 'roc_auc',\n",
    "                           cv = cv,\n",
    "                          n_jobs = -1,\n",
    "                          verbose = 1)\n",
    "\n",
    "result = rfcv.fit(X_train, y_train)\n",
    "\n",
    "print(\"Best Accuracy Score: %f\" % (result.cv_results_['mean_test_accuracy'][result.best_index_]))\n",
    "print(\"Best ROC-AUC Score: %f\" % (result.cv_results_['mean_test_roc_auc'][result.best_index_]))\n",
    "print(\"Best Hyperparameters: \", result.best_params_)"
   ]
  },
  {
   "cell_type": "code",
   "execution_count": null,
   "id": "ObGpzaKQW6b5",
   "metadata": {
    "colab": {
     "base_uri": "https://localhost:8080/",
     "height": 864
    },
    "id": "ObGpzaKQW6b5",
    "outputId": "178b6bc4-9489-41b3-abd2-26c24baf94dd"
   },
   "outputs": [
    {
     "data": {
      "text/html": [
       "\n",
       "  <div id=\"df-c052761c-27b9-4652-bceb-faca702d355a\">\n",
       "    <div class=\"colab-df-container\">\n",
       "      <div>\n",
       "<style scoped>\n",
       "    .dataframe tbody tr th:only-of-type {\n",
       "        vertical-align: middle;\n",
       "    }\n",
       "\n",
       "    .dataframe tbody tr th {\n",
       "        vertical-align: top;\n",
       "    }\n",
       "\n",
       "    .dataframe thead th {\n",
       "        text-align: right;\n",
       "    }\n",
       "</style>\n",
       "<table border=\"1\" class=\"dataframe\">\n",
       "  <thead>\n",
       "    <tr style=\"text-align: right;\">\n",
       "      <th></th>\n",
       "      <th>0</th>\n",
       "      <th>1</th>\n",
       "    </tr>\n",
       "  </thead>\n",
       "  <tbody>\n",
       "    <tr>\n",
       "      <th>25</th>\n",
       "      <td>0.274295</td>\n",
       "      <td>PTS</td>\n",
       "    </tr>\n",
       "    <tr>\n",
       "      <th>4</th>\n",
       "      <td>0.177460</td>\n",
       "      <td>FG</td>\n",
       "    </tr>\n",
       "    <tr>\n",
       "      <th>14</th>\n",
       "      <td>0.068462</td>\n",
       "      <td>FT</td>\n",
       "    </tr>\n",
       "    <tr>\n",
       "      <th>5</th>\n",
       "      <td>0.068247</td>\n",
       "      <td>FGA</td>\n",
       "    </tr>\n",
       "    <tr>\n",
       "      <th>13</th>\n",
       "      <td>0.059364</td>\n",
       "      <td>eFG%</td>\n",
       "    </tr>\n",
       "    <tr>\n",
       "      <th>23</th>\n",
       "      <td>0.058576</td>\n",
       "      <td>TOV</td>\n",
       "    </tr>\n",
       "    <tr>\n",
       "      <th>3</th>\n",
       "      <td>0.038156</td>\n",
       "      <td>MP</td>\n",
       "    </tr>\n",
       "    <tr>\n",
       "      <th>7</th>\n",
       "      <td>0.031805</td>\n",
       "      <td>3P</td>\n",
       "    </tr>\n",
       "    <tr>\n",
       "      <th>20</th>\n",
       "      <td>0.024657</td>\n",
       "      <td>AST</td>\n",
       "    </tr>\n",
       "    <tr>\n",
       "      <th>12</th>\n",
       "      <td>0.023503</td>\n",
       "      <td>2P%</td>\n",
       "    </tr>\n",
       "    <tr>\n",
       "      <th>15</th>\n",
       "      <td>0.022996</td>\n",
       "      <td>FTA</td>\n",
       "    </tr>\n",
       "    <tr>\n",
       "      <th>18</th>\n",
       "      <td>0.020769</td>\n",
       "      <td>DRB</td>\n",
       "    </tr>\n",
       "    <tr>\n",
       "      <th>8</th>\n",
       "      <td>0.020673</td>\n",
       "      <td>3PA</td>\n",
       "    </tr>\n",
       "    <tr>\n",
       "      <th>10</th>\n",
       "      <td>0.020339</td>\n",
       "      <td>2P</td>\n",
       "    </tr>\n",
       "    <tr>\n",
       "      <th>2</th>\n",
       "      <td>0.011750</td>\n",
       "      <td>GS</td>\n",
       "    </tr>\n",
       "    <tr>\n",
       "      <th>11</th>\n",
       "      <td>0.011441</td>\n",
       "      <td>2PA</td>\n",
       "    </tr>\n",
       "    <tr>\n",
       "      <th>0</th>\n",
       "      <td>0.010452</td>\n",
       "      <td>Age</td>\n",
       "    </tr>\n",
       "    <tr>\n",
       "      <th>19</th>\n",
       "      <td>0.009392</td>\n",
       "      <td>TRB</td>\n",
       "    </tr>\n",
       "    <tr>\n",
       "      <th>24</th>\n",
       "      <td>0.008461</td>\n",
       "      <td>PF</td>\n",
       "    </tr>\n",
       "    <tr>\n",
       "      <th>6</th>\n",
       "      <td>0.007869</td>\n",
       "      <td>FG%</td>\n",
       "    </tr>\n",
       "    <tr>\n",
       "      <th>1</th>\n",
       "      <td>0.007863</td>\n",
       "      <td>G</td>\n",
       "    </tr>\n",
       "    <tr>\n",
       "      <th>16</th>\n",
       "      <td>0.006070</td>\n",
       "      <td>FT%</td>\n",
       "    </tr>\n",
       "    <tr>\n",
       "      <th>21</th>\n",
       "      <td>0.005228</td>\n",
       "      <td>STL</td>\n",
       "    </tr>\n",
       "    <tr>\n",
       "      <th>22</th>\n",
       "      <td>0.004632</td>\n",
       "      <td>BLK</td>\n",
       "    </tr>\n",
       "    <tr>\n",
       "      <th>17</th>\n",
       "      <td>0.004021</td>\n",
       "      <td>ORB</td>\n",
       "    </tr>\n",
       "    <tr>\n",
       "      <th>9</th>\n",
       "      <td>0.003518</td>\n",
       "      <td>3P%</td>\n",
       "    </tr>\n",
       "  </tbody>\n",
       "</table>\n",
       "</div>\n",
       "      <button class=\"colab-df-convert\" onclick=\"convertToInteractive('df-c052761c-27b9-4652-bceb-faca702d355a')\"\n",
       "              title=\"Convert this dataframe to an interactive table.\"\n",
       "              style=\"display:none;\">\n",
       "        \n",
       "  <svg xmlns=\"http://www.w3.org/2000/svg\" height=\"24px\"viewBox=\"0 0 24 24\"\n",
       "       width=\"24px\">\n",
       "    <path d=\"M0 0h24v24H0V0z\" fill=\"none\"/>\n",
       "    <path d=\"M18.56 5.44l.94 2.06.94-2.06 2.06-.94-2.06-.94-.94-2.06-.94 2.06-2.06.94zm-11 1L8.5 8.5l.94-2.06 2.06-.94-2.06-.94L8.5 2.5l-.94 2.06-2.06.94zm10 10l.94 2.06.94-2.06 2.06-.94-2.06-.94-.94-2.06-.94 2.06-2.06.94z\"/><path d=\"M17.41 7.96l-1.37-1.37c-.4-.4-.92-.59-1.43-.59-.52 0-1.04.2-1.43.59L10.3 9.45l-7.72 7.72c-.78.78-.78 2.05 0 2.83L4 21.41c.39.39.9.59 1.41.59.51 0 1.02-.2 1.41-.59l7.78-7.78 2.81-2.81c.8-.78.8-2.07 0-2.86zM5.41 20L4 18.59l7.72-7.72 1.47 1.35L5.41 20z\"/>\n",
       "  </svg>\n",
       "      </button>\n",
       "      \n",
       "  <style>\n",
       "    .colab-df-container {\n",
       "      display:flex;\n",
       "      flex-wrap:wrap;\n",
       "      gap: 12px;\n",
       "    }\n",
       "\n",
       "    .colab-df-convert {\n",
       "      background-color: #E8F0FE;\n",
       "      border: none;\n",
       "      border-radius: 50%;\n",
       "      cursor: pointer;\n",
       "      display: none;\n",
       "      fill: #1967D2;\n",
       "      height: 32px;\n",
       "      padding: 0 0 0 0;\n",
       "      width: 32px;\n",
       "    }\n",
       "\n",
       "    .colab-df-convert:hover {\n",
       "      background-color: #E2EBFA;\n",
       "      box-shadow: 0px 1px 2px rgba(60, 64, 67, 0.3), 0px 1px 3px 1px rgba(60, 64, 67, 0.15);\n",
       "      fill: #174EA6;\n",
       "    }\n",
       "\n",
       "    [theme=dark] .colab-df-convert {\n",
       "      background-color: #3B4455;\n",
       "      fill: #D2E3FC;\n",
       "    }\n",
       "\n",
       "    [theme=dark] .colab-df-convert:hover {\n",
       "      background-color: #434B5C;\n",
       "      box-shadow: 0px 1px 3px 1px rgba(0, 0, 0, 0.15);\n",
       "      filter: drop-shadow(0px 1px 2px rgba(0, 0, 0, 0.3));\n",
       "      fill: #FFFFFF;\n",
       "    }\n",
       "  </style>\n",
       "\n",
       "      <script>\n",
       "        const buttonEl =\n",
       "          document.querySelector('#df-c052761c-27b9-4652-bceb-faca702d355a button.colab-df-convert');\n",
       "        buttonEl.style.display =\n",
       "          google.colab.kernel.accessAllowed ? 'block' : 'none';\n",
       "\n",
       "        async function convertToInteractive(key) {\n",
       "          const element = document.querySelector('#df-c052761c-27b9-4652-bceb-faca702d355a');\n",
       "          const dataTable =\n",
       "            await google.colab.kernel.invokeFunction('convertToInteractive',\n",
       "                                                     [key], {});\n",
       "          if (!dataTable) return;\n",
       "\n",
       "          const docLinkHtml = 'Like what you see? Visit the ' +\n",
       "            '<a target=\"_blank\" href=https://colab.research.google.com/notebooks/data_table.ipynb>data table notebook</a>'\n",
       "            + ' to learn more about interactive tables.';\n",
       "          element.innerHTML = '';\n",
       "          dataTable['output_type'] = 'display_data';\n",
       "          await google.colab.output.renderOutput(dataTable, element);\n",
       "          const docLink = document.createElement('div');\n",
       "          docLink.innerHTML = docLinkHtml;\n",
       "          element.appendChild(docLink);\n",
       "        }\n",
       "      </script>\n",
       "    </div>\n",
       "  </div>\n",
       "  "
      ],
      "text/plain": [
       "           0     1\n",
       "25  0.274295   PTS\n",
       "4   0.177460    FG\n",
       "14  0.068462    FT\n",
       "5   0.068247   FGA\n",
       "13  0.059364  eFG%\n",
       "23  0.058576   TOV\n",
       "3   0.038156    MP\n",
       "7   0.031805    3P\n",
       "20  0.024657   AST\n",
       "12  0.023503   2P%\n",
       "15  0.022996   FTA\n",
       "18  0.020769   DRB\n",
       "8   0.020673   3PA\n",
       "10  0.020339    2P\n",
       "2   0.011750    GS\n",
       "11  0.011441   2PA\n",
       "0   0.010452   Age\n",
       "19  0.009392   TRB\n",
       "24  0.008461    PF\n",
       "6   0.007869   FG%\n",
       "1   0.007863     G\n",
       "16  0.006070   FT%\n",
       "21  0.005228   STL\n",
       "22  0.004632   BLK\n",
       "17  0.004021   ORB\n",
       "9   0.003518   3P%"
      ]
     },
     "execution_count": 10,
     "metadata": {},
     "output_type": "execute_result"
    }
   ],
   "source": [
    "#Feature importances\n",
    "pd.concat([pd.Series(result.best_estimator_.feature_importances_), pd.Series(X_train.columns)], axis=1).sort_values(by = 0,ascending = False)"
   ]
  },
  {
   "cell_type": "code",
   "execution_count": null,
   "id": "xU07PIU2XBIB",
   "metadata": {
    "colab": {
     "base_uri": "https://localhost:8080/",
     "height": 581
    },
    "id": "xU07PIU2XBIB",
    "outputId": "4de5d886-0512-41a0-8edb-db2bce926e27"
   },
   "outputs": [
    {
     "name": "stdout",
     "output_type": "stream",
     "text": [
      "0.09\n"
     ]
    },
    {
     "data": {
      "image/png": "[encoded data removed]",
      "text/plain": [
       "<Figure size 600x600 with 1 Axes>"
      ]
     },
     "metadata": {},
     "output_type": "display_data"
    }
   ],
   "source": [
    "cross_val_ypred = cross_val_predict(RandomForestClassifier(random_state = 1, oob_score = True, verbose = False, n_jobs=-1, max_depth = 3, n_estimators = 250), X_train, y_train, cv = 5, method = 'predict_proba')\n",
    "\n",
    "def plot_accuracy_recall_vs_threshold(y_proba, y_true):\n",
    "    ra_iter = []\n",
    "    accuracy_iter = []\n",
    "    threshold_val = 100\n",
    "    threshold_hyperparam_vals = np.arange(0.01, 1, 0.01)\n",
    "    for threshold_prob in threshold_hyperparam_vals:\n",
    "        predicted_class = y_proba[:,1] > threshold_prob\n",
    "        predicted_class = predicted_class.astype(int)\n",
    "        accuracy = accuracy_score(y_true, predicted_class)*100\n",
    "        rocauc = roc_auc_score(y_true, predicted_class)*100\n",
    "        accuracy_iter.append(accuracy)\n",
    "        ra_iter.append(rocauc)\n",
    "        if (accuracy > rocauc) & (threshold_prob < threshold_val):\n",
    "            threshold_val = threshold_prob\n",
    "            print(threshold_val)\n",
    "    \n",
    "    plt.figure(figsize=(6, 6))\n",
    "    plt.title(\"Accuracy and ROC-AUC Scores as a function of the decision threshold\")\n",
    "    plt.plot(ra_iter, \"b-\", label= \"ROC-AUC\")\n",
    "    plt.plot(accuracy_iter, \"g-\", label=\"Accuracy\")\n",
    "    plt.plot(ra_iter, \"o\", color = 'blue')\n",
    "    plt.plot(accuracy_iter, \"o\", color = 'green')\n",
    "    plt.ylabel(\"Score\")\n",
    "    plt.xlabel(\"Decision Threshold\")\n",
    "    plt.legend(loc='best')\n",
    "    plt.legend()\n",
    "\n",
    "plot_accuracy_recall_vs_threshold(cross_val_ypred, y_train)"
   ]
  },
  {
   "cell_type": "code",
   "execution_count": null,
   "id": "A6Y94Ut5XD5X",
   "metadata": {
    "id": "A6Y94Ut5XD5X"
   },
   "outputs": [],
   "source": [
    "model = RandomForestClassifier(\n",
    "    random_state = 1, \n",
    "    oob_score = True, \n",
    "    verbose = False, \n",
    "    n_jobs=-1, \n",
    "    max_depth = 3, \n",
    "    n_estimators = 250).fit(X_train, y_train)"
   ]
  },
  {
   "cell_type": "code",
   "execution_count": null,
   "id": "6X8CAHXDXIdF",
   "metadata": {
    "colab": {
     "base_uri": "https://localhost:8080/"
    },
    "id": "6X8CAHXDXIdF",
    "outputId": "3647f670-ad23-4567-ddfa-41492f8ac8de"
   },
   "outputs": [
    {
     "name": "stdout",
     "output_type": "stream",
     "text": [
      "Accuracy: 0.900709219858156\n",
      "Recall: 0.6521739130434783\n",
      "Precision: 0.30612244897959184\n",
      "ROC_AUC: 0.7835869565217392\n"
     ]
    }
   ],
   "source": [
    "y_pred = (model.predict_proba(X_test)[:,1] > .11).astype(int)\n",
    "\n",
    "accuracy = accuracy_score(y_test, y_pred)\n",
    "recall = recall_score(y_test, y_pred)\n",
    "precision = precision_score(y_test, y_pred)\n",
    "roc_auc = roc_auc_score(y_test, y_pred)\n",
    "\n",
    "print(\"Accuracy:\", accuracy)\n",
    "print(\"Recall:\", recall)\n",
    "print(\"Precision:\", precision)\n",
    "print(\"ROC_AUC:\", roc_auc)"
   ]
  },
  {
   "cell_type": "markdown",
   "id": "017ca069",
   "metadata": {
    "id": "017ca069"
   },
   "source": [
    "### Bagged trees \n",
    "*By Shray Vaidya*"
   ]
  },
  {
   "cell_type": "code",
   "execution_count": null,
   "id": "q9Jn2-UfVukD",
   "metadata": {
    "colab": {
     "base_uri": "https://localhost:8080/"
    },
    "id": "q9Jn2-UfVukD",
    "outputId": "5f38c2b1-ed4c-4e6d-c867-8ccb61aa67c2"
   },
   "outputs": [
    {
     "name": "stdout",
     "output_type": "stream",
     "text": [
      "Fitting 5 folds for each of 1008 candidates, totalling 5040 fits\n",
      "Best Recall Score: 0.978313\n",
      "Best ROC-AUC Score: 0.994053\n",
      "Best Hyperparameters:  {'base_estimator': DecisionTreeClassifier(random_state=1), 'bootstrap': False, 'bootstrap_features': False, 'max_features': 0.9, 'max_samples': 0.8, 'n_estimators': 250}\n"
     ]
    },
    {
     "name": "stderr",
     "output_type": "stream",
     "text": [
      "/usr/local/lib/python3.10/dist-packages/sklearn/ensemble/_base.py:166: FutureWarning: `base_estimator` was renamed to `estimator` in version 1.2 and will be removed in 1.4.\n",
      "  warnings.warn(\n"
     ]
    }
   ],
   "source": [
    "#Finding optimal hyperparameters\n",
    "n_samples = X_train.shape[0]\n",
    "n_features = X_train.shape[1]\n",
    "\n",
    "params = {'base_estimator': [DecisionTreeClassifier(random_state = 1)],\n",
    "          'n_estimators': [250,300,350,400,450,500,550],\n",
    "          'max_samples': [0.5, 0.6, 0.7, 0.8, 0.9, 1.0],\n",
    "          'max_features': [0.5, 0.6, 0.7, 0.8, 0.9, 1.0],\n",
    "          'bootstrap': [True, False],\n",
    "          'bootstrap_features': [True, False]}\n",
    "\n",
    "\n",
    "cv = KFold(n_splits=5,shuffle=True,random_state=1)\n",
    "bagging_classifier_grid = GridSearchCV(BaggingClassifier(random_state=1, n_jobs=-1), \n",
    "                                      param_grid =params, cv=cv, n_jobs=-1, verbose=1,\n",
    "                                      scoring = ['roc_auc', 'accuracy'], refit='roc_auc')\n",
    "res = bagging_classifier_grid.fit(X_train, y_train)\n",
    "\n",
    "print(\"Best Recall Score: %f\" % (res.cv_results_['mean_test_accuracy'][res.best_index_]))\n",
    "print(\"Best ROC-AUC Score: %f\" % (res.cv_results_['mean_test_roc_auc'][res.best_index_]))\n",
    "print(\"Best Hyperparameters: \", res.best_params_)"
   ]
  },
  {
   "cell_type": "code",
   "execution_count": null,
   "id": "pDPRn77fWFlt",
   "metadata": {
    "colab": {
     "base_uri": "https://localhost:8080/"
    },
    "id": "pDPRn77fWFlt",
    "outputId": "516429b8-4db2-4621-eef8-7389b525133d"
   },
   "outputs": [
    {
     "data": {
      "text/plain": [
       "PTS     0.532374\n",
       "eFG%    0.144383\n",
       "FG      0.081132\n",
       "TOV     0.057140\n",
       "3P      0.020639\n",
       "AST     0.019018\n",
       "DRB     0.018758\n",
       "TRB     0.017966\n",
       "FGA     0.014549\n",
       "3PA     0.013680\n",
       "FT%     0.013031\n",
       "FT      0.008626\n",
       "MP      0.008054\n",
       "2P%     0.007537\n",
       "G       0.005626\n",
       "2P      0.005586\n",
       "2PA     0.004580\n",
       "PF      0.004360\n",
       "Age     0.004100\n",
       "GS      0.003779\n",
       "3P%     0.003158\n",
       "FG%     0.003131\n",
       "ORB     0.002903\n",
       "FTA     0.002264\n",
       "STL     0.002167\n",
       "BLK     0.001461\n",
       "dtype: float64"
      ]
     },
     "execution_count": 15,
     "metadata": {},
     "output_type": "execute_result"
    }
   ],
   "source": [
    "#Best model\n",
    "model = bagging_classifier_grid.best_estimator_\n",
    "#Feature importances\n",
    "# Data structure to store sum of feature importance and number of times it showed up\n",
    "total = [0] * 26\n",
    "# Loop through every tree in bagging regressor\n",
    "for i, temp_model in enumerate(model.estimators_): # model is bagging regressor\n",
    "    feature = model.estimators_features_[i] # Get the predictors the specific tree uses\n",
    "    for j, predictor in enumerate(feature): # loop the predictors\n",
    "        total[predictor] += temp_model.feature_importances_[j] # Add the specific feature importance to the array\n",
    "imps = np.array(total)/len(model.estimators_) #convert to numpy array for easy elementwise division\n",
    "\n",
    "pd.Series(imps, index = X_train.columns).sort_values(ascending = False)"
   ]
  },
  {
   "cell_type": "code",
   "execution_count": null,
   "id": "JPfWrc3jWKvi",
   "metadata": {
    "colab": {
     "base_uri": "https://localhost:8080/",
     "height": 755
    },
    "id": "JPfWrc3jWKvi",
    "outputId": "2fc83d01-4e89-4cff-e387-5ca47bc54362"
   },
   "outputs": [
    {
     "name": "stderr",
     "output_type": "stream",
     "text": [
      "/usr/local/lib/python3.10/dist-packages/sklearn/ensemble/_base.py:166: FutureWarning: `base_estimator` was renamed to `estimator` in version 1.2 and will be removed in 1.4.\n",
      "  warnings.warn(\n",
      "/usr/local/lib/python3.10/dist-packages/sklearn/ensemble/_base.py:166: FutureWarning: `base_estimator` was renamed to `estimator` in version 1.2 and will be removed in 1.4.\n",
      "  warnings.warn(\n",
      "/usr/local/lib/python3.10/dist-packages/sklearn/ensemble/_base.py:166: FutureWarning: `base_estimator` was renamed to `estimator` in version 1.2 and will be removed in 1.4.\n",
      "  warnings.warn(\n",
      "/usr/local/lib/python3.10/dist-packages/sklearn/ensemble/_base.py:166: FutureWarning: `base_estimator` was renamed to `estimator` in version 1.2 and will be removed in 1.4.\n",
      "  warnings.warn(\n",
      "/usr/local/lib/python3.10/dist-packages/sklearn/ensemble/_base.py:166: FutureWarning: `base_estimator` was renamed to `estimator` in version 1.2 and will be removed in 1.4.\n",
      "  warnings.warn(\n"
     ]
    },
    {
     "name": "stdout",
     "output_type": "stream",
     "text": [
      "0.012\n"
     ]
    },
    {
     "data": {
      "image/png": "[encoded data removed]",
      "text/plain": [
       "<Figure size 600x600 with 1 Axes>"
      ]
     },
     "metadata": {},
     "output_type": "display_data"
    }
   ],
   "source": [
    "cross_val_ypred = cross_val_predict(model, X_train, y_train, cv = 5, method = 'predict_proba')\n",
    "\n",
    "def plot_accuracy_recall_vs_threshold(y_proba, y_true):\n",
    "    ra_iter = []\n",
    "    accuracy_iter = []\n",
    "    threshold_val = 100\n",
    "    threshold_hyperparam_vals = np.arange(0.001, 1, 0.001)\n",
    "    for threshold_prob in threshold_hyperparam_vals:\n",
    "        predicted_class = y_proba[:,1] > threshold_prob\n",
    "        predicted_class = predicted_class.astype(int)\n",
    "        accuracy = accuracy_score(y_true, predicted_class)*100\n",
    "        rocauc = roc_auc_score(y_true, predicted_class)*100\n",
    "        accuracy_iter.append(accuracy)\n",
    "        ra_iter.append(rocauc)\n",
    "        if (accuracy > rocauc) & (threshold_prob < threshold_val):\n",
    "            threshold_val = threshold_prob\n",
    "            print(threshold_val)\n",
    "    \n",
    "    plt.figure(figsize=(6, 6))\n",
    "    plt.title(\"Accuracy and ROC-AUC Scores as a function of the decision threshold\")\n",
    "    plt.plot(ra_iter, \"b-\", label= \"ROC-AUC\")\n",
    "    plt.plot(accuracy_iter, \"g-\", label=\"Accuracy\")\n",
    "    plt.plot(ra_iter, \"o\", color = 'blue')\n",
    "    plt.plot(accuracy_iter, \"o\", color = 'green')\n",
    "    plt.ylabel(\"Score\")\n",
    "    plt.xlabel(\"Decision Threshold\")\n",
    "    plt.legend(loc='best')\n",
    "    plt.legend()\n",
    "\n",
    "plot_accuracy_recall_vs_threshold(cross_val_ypred, y_train)"
   ]
  },
  {
   "cell_type": "code",
   "execution_count": null,
   "id": "p5vk_X6sWNTP",
   "metadata": {
    "colab": {
     "base_uri": "https://localhost:8080/",
     "height": 499
    },
    "id": "p5vk_X6sWNTP",
    "outputId": "bb7edb03-fdc2-410c-8738-542ad43ad90a"
   },
   "outputs": [
    {
     "name": "stdout",
     "output_type": "stream",
     "text": [
      "Accuracy:  87.70685579196218\n",
      "ROC-AUC:  0.8367391304347825\n",
      "Precision:  0.26229508196721313\n",
      "Recall:  0.6956521739130435\n"
     ]
    },
    {
     "data": {
      "image/png": "[encoded data removed]",
      "text/plain": [
       "<Figure size 640x480 with 2 Axes>"
      ]
     },
     "metadata": {},
     "output_type": "display_data"
    }
   ],
   "source": [
    "# Performance metrics computation for the optimum decision threshold probability\n",
    "desired_threshold = 0.012\n",
    "\n",
    "y_pred_prob = model.predict_proba(X_test)[:,1] \n",
    "\n",
    "# Classifying observations in the positive class (y = 1) if the predicted probability is greater\n",
    "# than the desired decision threshold probability\n",
    "y_pred = y_pred_prob > desired_threshold\n",
    "y_pred = y_pred.astype(int)\n",
    "\n",
    "#Computing the accuracy\n",
    "print(\"Accuracy: \",accuracy_score(y_pred, y_test)*100)  \n",
    "\n",
    "#Computing the ROC-AUC\n",
    "fpr, tpr, auc_thresholds = roc_curve(y_test, y_pred_prob)\n",
    "print(\"ROC-AUC: \",auc(fpr, tpr))# AUC of ROC\n",
    "\n",
    "#Computing the precision and recall\n",
    "print(\"Precision: \", precision_score(y_test, y_pred))\n",
    "print(\"Recall: \", recall_score(y_test, y_pred))\n",
    "\n",
    "#Confusion matrix\n",
    "cm = pd.DataFrame(confusion_matrix(y_test, y_pred), \n",
    "                  columns=['Predicted 0', 'Predicted 1'], index = ['Actual 0', 'Actual 1'])\n",
    "sns.heatmap(cm, annot=True, cmap='Blues', fmt='g');"
   ]
  },
  {
   "cell_type": "markdown",
   "id": "8182968b",
   "metadata": {
    "id": "8182968b"
   },
   "source": [
    "### XGBoost\n",
    "*By Davis Johnson*"
   ]
  },
  {
   "cell_type": "code",
   "execution_count": 23,
   "id": "LSb1P7_kNvXg",
   "metadata": {
    "colab": {
     "base_uri": "https://localhost:8080/"
    },
    "id": "LSb1P7_kNvXg",
    "outputId": "ba4e9e8c-ead0-45c4-d04b-2e408cc2c69e"
   },
   "outputs": [
    {
     "name": "stderr",
     "output_type": "stream",
     "text": [
      "/usr/local/lib/python3.10/dist-packages/xgboost/sklearn.py:1395: UserWarning: `use_label_encoder` is deprecated in 1.7.0.\n",
      "  warnings.warn(\"`use_label_encoder` is deprecated in 1.7.0.\")\n"
     ]
    },
    {
     "name": "stdout",
     "output_type": "stream",
     "text": [
      "Fitting 5 folds for each of 2000 candidates, totalling 10000 fits\n"
     ]
    },
    {
     "name": "stderr",
     "output_type": "stream",
     "text": [
      "/usr/local/lib/python3.10/dist-packages/xgboost/sklearn.py:1395: UserWarning: `use_label_encoder` is deprecated in 1.7.0.\n",
      "  warnings.warn(\"`use_label_encoder` is deprecated in 1.7.0.\")\n"
     ]
    },
    {
     "name": "stdout",
     "output_type": "stream",
     "text": [
      "Best Accuracy Score: 0.937232\n",
      "Best Recall Score: 0.920000\n",
      "Best ROC-AUC Score: 0.986580\n",
      "Best Hyperparameters:  {'subsample': 1.0, 'scale_pos_weight': 15.56, 'reg_lambda': 90, 'n_estimators': 26, 'max_depth': 6, 'learning_rate': 0.09, 'gamma': 0, 'colsample_bytree': 0.3}\n"
     ]
    }
   ],
   "source": [
    "## hyperparameter tuning\n",
    "\n",
    "scale_pos_weight = np.sum(y_train == 0) / np.sum(y_train == 1)\n",
    "\n",
    "param_grid = {\n",
    "    'n_estimators': [21,22,23,24,25,26,27],\n",
    "    'max_depth': [4,5,6],\n",
    "    'learning_rate': [0.06,0.07,0.08,0.09,0.1,0.2,0.3,0.4,0.5,0.6,0.7,0.8,0.9,1.0],\n",
    "    'gamma': [0,1,2,3],\n",
    "    'reg_lambda': [30,40,60,80,90,100,150,200],\n",
    "    'subsample': [0.1,0.2,0.3,0.4,0.5,0.6,0.7,0.8,0.9,1.0],\n",
    "    'scale_pos_weight': [scale_pos_weight],\n",
    "    'colsample_bytree': [0.1,0.2,0.3,0.4,0.5,0.6,0.7,0.8,0.9,1.0]\n",
    "}\n",
    "\n",
    "xgb_model = xgb.XGBClassifier(objective = 'binary:logistic',random_state=1,use_label_encoder=False)\n",
    "\n",
    "\n",
    "\n",
    "\n",
    "cv = StratifiedKFold(n_splits=5,shuffle=True,random_state=1)\n",
    "rs_cv = RandomizedSearchCV(estimator=xgb_model, \n",
    "                           random_state=1, \n",
    "                           param_distributions=param_grid, \n",
    "                           scoring=['recall','accuracy','roc_auc'],\n",
    "                           refit='roc_auc',\n",
    "                           cv=cv,\n",
    "                          n_jobs=-1,\n",
    "                          verbose=1,\n",
    "                          n_iter=2000)\n",
    "\n",
    "grid_result = rs_cv.fit(X_train, y_train)\n",
    "print(\"Best Accuracy Score: %f\" % (grid_result.cv_results_['mean_test_accuracy'][grid_result.best_index_]))\n",
    "print(\"Best Recall Score: %f\" % (grid_result.cv_results_['mean_test_recall'][grid_result.best_index_]))\n",
    "print(\"Best ROC-AUC Score: %f\" % (grid_result.cv_results_['mean_test_roc_auc'][grid_result.best_index_]))\n",
    "print(\"Best Hyperparameters: \", grid_result.best_params_)"
   ]
  },
  {
   "cell_type": "code",
   "execution_count": 24,
   "id": "cEJHoBPgOU-X",
   "metadata": {
    "colab": {
     "base_uri": "https://localhost:8080/",
     "height": 207
    },
    "id": "cEJHoBPgOU-X",
    "outputId": "8a8b1814-ae97-4392-cd6e-a34ee9b5b39b"
   },
   "outputs": [
    {
     "data": {
      "text/html": [
       "\n",
       "  <div id=\"df-6d773251-ec3a-4898-8513-7ab5ea50f870\">\n",
       "    <div class=\"colab-df-container\">\n",
       "      <div>\n",
       "<style scoped>\n",
       "    .dataframe tbody tr th:only-of-type {\n",
       "        vertical-align: middle;\n",
       "    }\n",
       "\n",
       "    .dataframe tbody tr th {\n",
       "        vertical-align: top;\n",
       "    }\n",
       "\n",
       "    .dataframe thead th {\n",
       "        text-align: right;\n",
       "    }\n",
       "</style>\n",
       "<table border=\"1\" class=\"dataframe\">\n",
       "  <thead>\n",
       "    <tr style=\"text-align: right;\">\n",
       "      <th></th>\n",
       "      <th>param_subsample</th>\n",
       "      <th>param_scale_pos_weight</th>\n",
       "      <th>param_reg_lambda</th>\n",
       "      <th>param_n_estimators</th>\n",
       "      <th>param_max_depth</th>\n",
       "      <th>param_learning_rate</th>\n",
       "      <th>param_gamma</th>\n",
       "      <th>param_colsample_bytree</th>\n",
       "      <th>mean_test_accuracy</th>\n",
       "      <th>mean_test_recall</th>\n",
       "      <th>mean_test_roc_auc</th>\n",
       "    </tr>\n",
       "  </thead>\n",
       "  <tbody>\n",
       "    <tr>\n",
       "      <th>326</th>\n",
       "      <td>1.0</td>\n",
       "      <td>15.56</td>\n",
       "      <td>40</td>\n",
       "      <td>26</td>\n",
       "      <td>5</td>\n",
       "      <td>0.1</td>\n",
       "      <td>0</td>\n",
       "      <td>0.3</td>\n",
       "      <td>0.94690</td>\n",
       "      <td>0.92</td>\n",
       "      <td>0.984003</td>\n",
       "    </tr>\n",
       "    <tr>\n",
       "      <th>1544</th>\n",
       "      <td>0.9</td>\n",
       "      <td>15.56</td>\n",
       "      <td>150</td>\n",
       "      <td>21</td>\n",
       "      <td>4</td>\n",
       "      <td>0.5</td>\n",
       "      <td>0</td>\n",
       "      <td>0.3</td>\n",
       "      <td>0.94690</td>\n",
       "      <td>0.92</td>\n",
       "      <td>0.980616</td>\n",
       "    </tr>\n",
       "    <tr>\n",
       "      <th>1848</th>\n",
       "      <td>1.0</td>\n",
       "      <td>15.56</td>\n",
       "      <td>200</td>\n",
       "      <td>26</td>\n",
       "      <td>6</td>\n",
       "      <td>0.4</td>\n",
       "      <td>1</td>\n",
       "      <td>0.4</td>\n",
       "      <td>0.94687</td>\n",
       "      <td>0.92</td>\n",
       "      <td>0.977249</td>\n",
       "    </tr>\n",
       "  </tbody>\n",
       "</table>\n",
       "</div>\n",
       "      <button class=\"colab-df-convert\" onclick=\"convertToInteractive('df-6d773251-ec3a-4898-8513-7ab5ea50f870')\"\n",
       "              title=\"Convert this dataframe to an interactive table.\"\n",
       "              style=\"display:none;\">\n",
       "        \n",
       "  <svg xmlns=\"http://www.w3.org/2000/svg\" height=\"24px\"viewBox=\"0 0 24 24\"\n",
       "       width=\"24px\">\n",
       "    <path d=\"M0 0h24v24H0V0z\" fill=\"none\"/>\n",
       "    <path d=\"M18.56 5.44l.94 2.06.94-2.06 2.06-.94-2.06-.94-.94-2.06-.94 2.06-2.06.94zm-11 1L8.5 8.5l.94-2.06 2.06-.94-2.06-.94L8.5 2.5l-.94 2.06-2.06.94zm10 10l.94 2.06.94-2.06 2.06-.94-2.06-.94-.94-2.06-.94 2.06-2.06.94z\"/><path d=\"M17.41 7.96l-1.37-1.37c-.4-.4-.92-.59-1.43-.59-.52 0-1.04.2-1.43.59L10.3 9.45l-7.72 7.72c-.78.78-.78 2.05 0 2.83L4 21.41c.39.39.9.59 1.41.59.51 0 1.02-.2 1.41-.59l7.78-7.78 2.81-2.81c.8-.78.8-2.07 0-2.86zM5.41 20L4 18.59l7.72-7.72 1.47 1.35L5.41 20z\"/>\n",
       "  </svg>\n",
       "      </button>\n",
       "      \n",
       "  <style>\n",
       "    .colab-df-container {\n",
       "      display:flex;\n",
       "      flex-wrap:wrap;\n",
       "      gap: 12px;\n",
       "    }\n",
       "\n",
       "    .colab-df-convert {\n",
       "      background-color: #E8F0FE;\n",
       "      border: none;\n",
       "      border-radius: 50%;\n",
       "      cursor: pointer;\n",
       "      display: none;\n",
       "      fill: #1967D2;\n",
       "      height: 32px;\n",
       "      padding: 0 0 0 0;\n",
       "      width: 32px;\n",
       "    }\n",
       "\n",
       "    .colab-df-convert:hover {\n",
       "      background-color: #E2EBFA;\n",
       "      box-shadow: 0px 1px 2px rgba(60, 64, 67, 0.3), 0px 1px 3px 1px rgba(60, 64, 67, 0.15);\n",
       "      fill: #174EA6;\n",
       "    }\n",
       "\n",
       "    [theme=dark] .colab-df-convert {\n",
       "      background-color: #3B4455;\n",
       "      fill: #D2E3FC;\n",
       "    }\n",
       "\n",
       "    [theme=dark] .colab-df-convert:hover {\n",
       "      background-color: #434B5C;\n",
       "      box-shadow: 0px 1px 3px 1px rgba(0, 0, 0, 0.15);\n",
       "      filter: drop-shadow(0px 1px 2px rgba(0, 0, 0, 0.3));\n",
       "      fill: #FFFFFF;\n",
       "    }\n",
       "  </style>\n",
       "\n",
       "      <script>\n",
       "        const buttonEl =\n",
       "          document.querySelector('#df-6d773251-ec3a-4898-8513-7ab5ea50f870 button.colab-df-convert');\n",
       "        buttonEl.style.display =\n",
       "          google.colab.kernel.accessAllowed ? 'block' : 'none';\n",
       "\n",
       "        async function convertToInteractive(key) {\n",
       "          const element = document.querySelector('#df-6d773251-ec3a-4898-8513-7ab5ea50f870');\n",
       "          const dataTable =\n",
       "            await google.colab.kernel.invokeFunction('convertToInteractive',\n",
       "                                                     [key], {});\n",
       "          if (!dataTable) return;\n",
       "\n",
       "          const docLinkHtml = 'Like what you see? Visit the ' +\n",
       "            '<a target=\"_blank\" href=https://colab.research.google.com/notebooks/data_table.ipynb>data table notebook</a>'\n",
       "            + ' to learn more about interactive tables.';\n",
       "          element.innerHTML = '';\n",
       "          dataTable['output_type'] = 'display_data';\n",
       "          await google.colab.output.renderOutput(dataTable, element);\n",
       "          const docLink = document.createElement('div');\n",
       "          docLink.innerHTML = docLinkHtml;\n",
       "          element.appendChild(docLink);\n",
       "        }\n",
       "      </script>\n",
       "    </div>\n",
       "  </div>\n",
       "  "
      ],
      "text/plain": [
       "     param_subsample param_scale_pos_weight param_reg_lambda  \\\n",
       "326              1.0                  15.56               40   \n",
       "1544             0.9                  15.56              150   \n",
       "1848             1.0                  15.56              200   \n",
       "\n",
       "     param_n_estimators param_max_depth param_learning_rate param_gamma  \\\n",
       "326                  26               5                 0.1           0   \n",
       "1544                 21               4                 0.5           0   \n",
       "1848                 26               6                 0.4           1   \n",
       "\n",
       "     param_colsample_bytree  mean_test_accuracy  mean_test_recall  \\\n",
       "326                     0.3             0.94690              0.92   \n",
       "1544                    0.3             0.94690              0.92   \n",
       "1848                    0.4             0.94687              0.92   \n",
       "\n",
       "      mean_test_roc_auc  \n",
       "326            0.984003  \n",
       "1544           0.980616  \n",
       "1848           0.977249  "
      ]
     },
     "execution_count": 24,
     "metadata": {},
     "output_type": "execute_result"
    }
   ],
   "source": [
    "# analyzing cv results to get potentially better combinations\n",
    "cv_results_df = pd.DataFrame(grid_result.cv_results_)\n",
    "subset_df = cv_results_df[(cv_results_df['mean_test_accuracy'] > 0.946) & (cv_results_df['mean_test_recall'] >= 0.91)]\n",
    "subset_df[['param_subsample','param_scale_pos_weight','param_reg_lambda','param_n_estimators','param_max_depth',\n",
    "          'param_learning_rate', 'param_gamma', 'param_colsample_bytree','mean_test_accuracy','mean_test_recall','mean_test_roc_auc']]"
   ]
  },
  {
   "cell_type": "code",
   "execution_count": 25,
   "id": "Go0LyvCbPQex",
   "metadata": {
    "colab": {
     "base_uri": "https://localhost:8080/",
     "height": 789
    },
    "id": "Go0LyvCbPQex",
    "outputId": "cb5109a6-1675-45ab-9d59-145d47a5d591"
   },
   "outputs": [
    {
     "name": "stderr",
     "output_type": "stream",
     "text": [
      "/usr/local/lib/python3.10/dist-packages/xgboost/sklearn.py:1395: UserWarning: `use_label_encoder` is deprecated in 1.7.0.\n",
      "  warnings.warn(\"`use_label_encoder` is deprecated in 1.7.0.\")\n",
      "/usr/local/lib/python3.10/dist-packages/xgboost/sklearn.py:1395: UserWarning: `use_label_encoder` is deprecated in 1.7.0.\n",
      "  warnings.warn(\"`use_label_encoder` is deprecated in 1.7.0.\")\n"
     ]
    },
    {
     "data": {
      "image/png": "[encoded data removed]",
      "text/plain": [
       "<Figure size 800x800 with 1 Axes>"
      ]
     },
     "metadata": {},
     "output_type": "display_data"
    }
   ],
   "source": [
    "# finding optimal threshold\n",
    "\n",
    "scale_pos_weight = np.sum(y_train == 0) / np.sum(y_train == 1)\n",
    "\n",
    "model = xgb.XGBClassifier(objective='binary:logistic', use_label_encoder=False, max_depth=5, \n",
    "                          n_estimators=26, learning_rate=0.1, scale_pos_weight=scale_pos_weight, \n",
    "                          subsample=1.0, gamma=0, reg_lambda=40, colsample_bytree=0.3, random_state=1).fit(X_train, y_train)\n",
    "\n",
    "\n",
    "\n",
    "cv = StratifiedKFold(n_splits=5,shuffle=True,random_state=1)\n",
    "cross_val_ypred = cross_val_predict(model, X_train, y_train, cv = cv, method = 'predict_proba')\n",
    "\n",
    "p, r, thresholds = precision_recall_curve(y_train, cross_val_ypred[:,1])\n",
    "acc = np.ndarray(shape = (len(thresholds),))\n",
    "i = 0\n",
    "for th in thresholds:\n",
    "    y_pred = cross_val_ypred[:,1] > th\n",
    "    y_pred = y_pred.astype(int)\n",
    "    acc[i] = accuracy_score(y_pred, y_train)\n",
    "    i = i + 1\n",
    "def plot_precision_recall_vs_threshold(precisions, recalls, thresholds):\n",
    "    plt.figure(figsize=(8, 8))\n",
    "    plt.title(\"Precision and Recall Scores as a function of the decision threshold\")\n",
    "    plt.plot(thresholds, precisions[:-1], \"b--\", label=\"Precision\")\n",
    "    plt.plot(thresholds, recalls[:-1], \"g-\", label=\"Recall\")\n",
    "    plt.plot(thresholds, acc, \"r-\", label=\"Accuracy\")\n",
    "    plt.plot(thresholds, precisions[:-1], \"o\", color = 'blue')\n",
    "    plt.plot(thresholds, recalls[:-1], \"o\", color = 'green')\n",
    "    plt.plot(thresholds, acc, \"o\", color = 'red')\n",
    "    plt.ylabel(\"Score\")\n",
    "    plt.xlabel(\"Decision Threshold\")\n",
    "    plt.xlim(0.3,0.7)\n",
    "    plt.legend(loc='best')\n",
    "    plt.legend()\n",
    "plot_precision_recall_vs_threshold(p, r, thresholds)"
   ]
  },
  {
   "cell_type": "code",
   "execution_count": 26,
   "id": "BpO5xmGnPnor",
   "metadata": {
    "colab": {
     "base_uri": "https://localhost:8080/",
     "height": 501
    },
    "id": "BpO5xmGnPnor",
    "outputId": "55638bd4-a96a-4c7c-cac2-af794105445f"
   },
   "outputs": [
    {
     "name": "stdout",
     "output_type": "stream",
     "text": [
      "Accuracy:  87.94326241134752\n",
      "ROC-AUC:  0.9432663316582914\n",
      "Precision:  0.3194444444444444\n",
      "Recall:  0.92\n"
     ]
    },
    {
     "data": {
      "image/png": "[encoded data removed]",
      "text/plain": [
       "<Figure size 640x480 with 2 Axes>"
      ]
     },
     "metadata": {},
     "output_type": "display_data"
    }
   ],
   "source": [
    "# desired threshold found using trial and error based on above graph, wanted to improve recall a little on test data\n",
    "desired_threshold = 0.28927049\n",
    "\n",
    "y_pred_prob = model.predict_proba(X_test)[:,1] \n",
    "\n",
    "y_pred = y_pred_prob > desired_threshold\n",
    "y_pred = y_pred.astype(int)\n",
    "\n",
    "\n",
    "print(\"Accuracy: \",accuracy_score(y_pred, y_test)*100)  \n",
    "\n",
    "\n",
    "fpr, tpr, auc_thresholds = roc_curve(y_test, y_pred_prob)\n",
    "print(\"ROC-AUC: \",auc(fpr, tpr))# AUC of ROC\n",
    "\n",
    "\n",
    "print(\"Precision: \", precision_score(y_test, y_pred))\n",
    "print(\"Recall: \", recall_score(y_test, y_pred))\n",
    "\n",
    "\n",
    "cm = pd.DataFrame(confusion_matrix(y_test, y_pred), \n",
    "                  columns=['Predicted 0', 'Predicted 1'], index = ['Actual 0', 'Actual 1'])\n",
    "sns.heatmap(cm, annot=True, cmap='Blues', fmt='g');"
   ]
  },
  {
   "cell_type": "markdown",
   "id": "a221dcc6",
   "metadata": {
    "id": "a221dcc6"
   },
   "source": [
    "## Model Ensemble "
   ]
  },
  {
   "cell_type": "markdown",
   "id": "9dc8b3d9",
   "metadata": {
    "id": "9dc8b3d9"
   },
   "source": [
    "Put code with comments. The comments should explain the code such that it can be easily understood. You may put text *(in a markdown cell)* before a large chunk of code to explain the overall purpose of the code, if it is not intuitive. **Put the name of the person / persons who contributed to each code chunk / set of code chunks.**\n"
   ]
  },
  {
   "cell_type": "markdown",
   "id": "961bcb1d",
   "metadata": {
    "id": "961bcb1d"
   },
   "source": [
    "### Voting ensemble"
   ]
  },
  {
   "cell_type": "markdown",
   "id": "ca651ba0",
   "metadata": {
    "id": "ca651ba0"
   },
   "source": [
    "### Stacking ensemble(s)"
   ]
  },
  {
   "cell_type": "markdown",
   "id": "ddff3adf",
   "metadata": {
    "id": "ddff3adf"
   },
   "source": [
    "### Ensemble of ensembled models"
   ]
  },
  {
   "cell_type": "markdown",
   "id": "62a185cb",
   "metadata": {
    "id": "62a185cb"
   },
   "source": [
    "## Conclusions and Recommendations to stakeholder(s)\n",
    "\n",
    "See Project Report."
   ]
  },
  {
   "cell_type": "code",
   "execution_count": null,
   "id": "kMeHFgb2Rdev",
   "metadata": {
    "id": "kMeHFgb2Rdev"
   },
   "outputs": [],
   "source": []
  }
 ],
 "metadata": {
  "colab": {
   "provenance": []
  },
  "kernelspec": {
   "display_name": "Python 3 (ipykernel)",
   "language": "python",
   "name": "python3"
  },
  "language_info": {
   "codemirror_mode": {
    "name": "ipython",
    "version": 3
   },
   "file_extension": ".py",
   "mimetype": "text/x-python",
   "name": "python",
   "nbconvert_exporter": "python",
   "pygments_lexer": "ipython3",
   "version": "3.9.7"
  }
 },
 "nbformat": 4,
 "nbformat_minor": 5
}
