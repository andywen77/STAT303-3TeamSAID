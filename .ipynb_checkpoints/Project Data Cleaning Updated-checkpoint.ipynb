{
 "cells": [
  {
   "cell_type": "code",
   "execution_count": 1,
   "id": "1ddc0503",
   "metadata": {},
   "outputs": [],
   "source": [
    "import pandas as pd\n",
    "import numpy as np\n",
    "import seaborn as sns\n",
    "import matplotlib.pyplot as plt\n",
    "from sklearn.metrics import mean_squared_error\n",
    "from sklearn.model_selection import cross_val_score,train_test_split, KFold, cross_val_predict\n",
    "from sklearn.metrics import mean_squared_error,r2_score,roc_curve,auc,precision_recall_curve, accuracy_score, \\\n",
    "recall_score, precision_score, confusion_matrix, make_scorer\n",
    "from sklearn.tree import DecisionTreeRegressor,DecisionTreeClassifier\n",
    "from sklearn.model_selection import GridSearchCV, ParameterGrid, StratifiedKFold, RandomizedSearchCV\n",
    "from sklearn.ensemble import VotingRegressor, VotingClassifier, StackingRegressor, StackingClassifier, GradientBoostingRegressor,GradientBoostingClassifier, BaggingRegressor,BaggingClassifier,RandomForestRegressor,RandomForestClassifier,AdaBoostRegressor,AdaBoostClassifier\n",
    "from sklearn.linear_model import LinearRegression,LogisticRegression, LassoCV, RidgeCV, ElasticNetCV\n",
    "from sklearn.neighbors import KNeighborsRegressor\n",
    "import itertools as it\n",
    "import time as time\n",
    "import xgboost as xgb\n",
    "from pyearth import Earth"
   ]
  },
  {
   "cell_type": "code",
   "execution_count": 2,
   "id": "4f5849be",
   "metadata": {},
   "outputs": [
    {
     "ename": "FileNotFoundError",
     "evalue": "[Errno 2] No such file or directory: 'archive-2/NBA Players Stats 201718.csv'",
     "output_type": "error",
     "traceback": [
      "\u001b[1;31m---------------------------------------------------------------------------\u001b[0m",
      "\u001b[1;31mFileNotFoundError\u001b[0m                         Traceback (most recent call last)",
      "Cell \u001b[1;32mIn[2], line 1\u001b[0m\n\u001b[1;32m----> 1\u001b[0m nba_2017_2018 \u001b[38;5;241m=\u001b[39m \u001b[43mpd\u001b[49m\u001b[38;5;241;43m.\u001b[39;49m\u001b[43mread_csv\u001b[49m\u001b[43m(\u001b[49m\u001b[38;5;124;43m'\u001b[39;49m\u001b[38;5;124;43marchive-2/NBA Players Stats 201718.csv\u001b[39;49m\u001b[38;5;124;43m'\u001b[39;49m\u001b[43m)\u001b[49m\n\u001b[0;32m      2\u001b[0m nba_2017_2018 \u001b[38;5;241m=\u001b[39m nba_2017_2018\u001b[38;5;241m.\u001b[39mdrop(columns\u001b[38;5;241m=\u001b[39m[\u001b[38;5;124m'\u001b[39m\u001b[38;5;124mRk\u001b[39m\u001b[38;5;124m'\u001b[39m,\u001b[38;5;124m'\u001b[39m\u001b[38;5;124mTm\u001b[39m\u001b[38;5;124m'\u001b[39m, \u001b[38;5;124m'\u001b[39m\u001b[38;5;124mPos\u001b[39m\u001b[38;5;124m'\u001b[39m], axis\u001b[38;5;241m=\u001b[39m\u001b[38;5;241m1\u001b[39m)\n\u001b[0;32m      3\u001b[0m nba_2017_2018[\u001b[38;5;124m'\u001b[39m\u001b[38;5;124mPlayer\u001b[39m\u001b[38;5;124m'\u001b[39m] \u001b[38;5;241m=\u001b[39m nba_2017_2018[\u001b[38;5;124m'\u001b[39m\u001b[38;5;124mPlayer\u001b[39m\u001b[38;5;124m'\u001b[39m]\u001b[38;5;241m.\u001b[39mstr\u001b[38;5;241m.\u001b[39msplit(\u001b[38;5;124m'\u001b[39m\u001b[38;5;130;01m\\\\\u001b[39;00m\u001b[38;5;124m'\u001b[39m)\u001b[38;5;241m.\u001b[39mstr[\u001b[38;5;241m0\u001b[39m]\n",
      "File \u001b[1;32m~\\AppData\\Roaming\\Python\\Python39\\site-packages\\pandas\\io\\parsers.py:610\u001b[0m, in \u001b[0;36mread_csv\u001b[1;34m(filepath_or_buffer, sep, delimiter, header, names, index_col, usecols, squeeze, prefix, mangle_dupe_cols, dtype, engine, converters, true_values, false_values, skipinitialspace, skiprows, skipfooter, nrows, na_values, keep_default_na, na_filter, verbose, skip_blank_lines, parse_dates, infer_datetime_format, keep_date_col, date_parser, dayfirst, cache_dates, iterator, chunksize, compression, thousands, decimal, lineterminator, quotechar, quoting, doublequote, escapechar, comment, encoding, dialect, error_bad_lines, warn_bad_lines, delim_whitespace, low_memory, memory_map, float_precision, storage_options)\u001b[0m\n\u001b[0;32m    605\u001b[0m kwds_defaults \u001b[38;5;241m=\u001b[39m _refine_defaults_read(\n\u001b[0;32m    606\u001b[0m     dialect, delimiter, delim_whitespace, engine, sep, defaults\u001b[38;5;241m=\u001b[39m{\u001b[38;5;124m\"\u001b[39m\u001b[38;5;124mdelimiter\u001b[39m\u001b[38;5;124m\"\u001b[39m: \u001b[38;5;124m\"\u001b[39m\u001b[38;5;124m,\u001b[39m\u001b[38;5;124m\"\u001b[39m}\n\u001b[0;32m    607\u001b[0m )\n\u001b[0;32m    608\u001b[0m kwds\u001b[38;5;241m.\u001b[39mupdate(kwds_defaults)\n\u001b[1;32m--> 610\u001b[0m \u001b[38;5;28;01mreturn\u001b[39;00m \u001b[43m_read\u001b[49m\u001b[43m(\u001b[49m\u001b[43mfilepath_or_buffer\u001b[49m\u001b[43m,\u001b[49m\u001b[43m \u001b[49m\u001b[43mkwds\u001b[49m\u001b[43m)\u001b[49m\n",
      "File \u001b[1;32m~\\AppData\\Roaming\\Python\\Python39\\site-packages\\pandas\\io\\parsers.py:462\u001b[0m, in \u001b[0;36m_read\u001b[1;34m(filepath_or_buffer, kwds)\u001b[0m\n\u001b[0;32m    459\u001b[0m _validate_names(kwds\u001b[38;5;241m.\u001b[39mget(\u001b[38;5;124m\"\u001b[39m\u001b[38;5;124mnames\u001b[39m\u001b[38;5;124m\"\u001b[39m, \u001b[38;5;28;01mNone\u001b[39;00m))\n\u001b[0;32m    461\u001b[0m \u001b[38;5;66;03m# Create the parser.\u001b[39;00m\n\u001b[1;32m--> 462\u001b[0m parser \u001b[38;5;241m=\u001b[39m TextFileReader(filepath_or_buffer, \u001b[38;5;241m*\u001b[39m\u001b[38;5;241m*\u001b[39mkwds)\n\u001b[0;32m    464\u001b[0m \u001b[38;5;28;01mif\u001b[39;00m chunksize \u001b[38;5;129;01mor\u001b[39;00m iterator:\n\u001b[0;32m    465\u001b[0m     \u001b[38;5;28;01mreturn\u001b[39;00m parser\n",
      "File \u001b[1;32m~\\AppData\\Roaming\\Python\\Python39\\site-packages\\pandas\\io\\parsers.py:819\u001b[0m, in \u001b[0;36mTextFileReader.__init__\u001b[1;34m(self, f, engine, **kwds)\u001b[0m\n\u001b[0;32m    816\u001b[0m \u001b[38;5;28;01mif\u001b[39;00m \u001b[38;5;124m\"\u001b[39m\u001b[38;5;124mhas_index_names\u001b[39m\u001b[38;5;124m\"\u001b[39m \u001b[38;5;129;01min\u001b[39;00m kwds:\n\u001b[0;32m    817\u001b[0m     \u001b[38;5;28mself\u001b[39m\u001b[38;5;241m.\u001b[39moptions[\u001b[38;5;124m\"\u001b[39m\u001b[38;5;124mhas_index_names\u001b[39m\u001b[38;5;124m\"\u001b[39m] \u001b[38;5;241m=\u001b[39m kwds[\u001b[38;5;124m\"\u001b[39m\u001b[38;5;124mhas_index_names\u001b[39m\u001b[38;5;124m\"\u001b[39m]\n\u001b[1;32m--> 819\u001b[0m \u001b[38;5;28mself\u001b[39m\u001b[38;5;241m.\u001b[39m_engine \u001b[38;5;241m=\u001b[39m \u001b[38;5;28;43mself\u001b[39;49m\u001b[38;5;241;43m.\u001b[39;49m\u001b[43m_make_engine\u001b[49m\u001b[43m(\u001b[49m\u001b[38;5;28;43mself\u001b[39;49m\u001b[38;5;241;43m.\u001b[39;49m\u001b[43mengine\u001b[49m\u001b[43m)\u001b[49m\n",
      "File \u001b[1;32m~\\AppData\\Roaming\\Python\\Python39\\site-packages\\pandas\\io\\parsers.py:1050\u001b[0m, in \u001b[0;36mTextFileReader._make_engine\u001b[1;34m(self, engine)\u001b[0m\n\u001b[0;32m   1046\u001b[0m     \u001b[38;5;28;01mraise\u001b[39;00m \u001b[38;5;167;01mValueError\u001b[39;00m(\n\u001b[0;32m   1047\u001b[0m         \u001b[38;5;124mf\u001b[39m\u001b[38;5;124m\"\u001b[39m\u001b[38;5;124mUnknown engine: \u001b[39m\u001b[38;5;132;01m{\u001b[39;00mengine\u001b[38;5;132;01m}\u001b[39;00m\u001b[38;5;124m (valid options are \u001b[39m\u001b[38;5;132;01m{\u001b[39;00mmapping\u001b[38;5;241m.\u001b[39mkeys()\u001b[38;5;132;01m}\u001b[39;00m\u001b[38;5;124m)\u001b[39m\u001b[38;5;124m\"\u001b[39m\n\u001b[0;32m   1048\u001b[0m     )\n\u001b[0;32m   1049\u001b[0m \u001b[38;5;66;03m# error: Too many arguments for \"ParserBase\"\u001b[39;00m\n\u001b[1;32m-> 1050\u001b[0m \u001b[38;5;28;01mreturn\u001b[39;00m mapping[engine](\u001b[38;5;28mself\u001b[39m\u001b[38;5;241m.\u001b[39mf, \u001b[38;5;241m*\u001b[39m\u001b[38;5;241m*\u001b[39m\u001b[38;5;28mself\u001b[39m\u001b[38;5;241m.\u001b[39moptions)\n",
      "File \u001b[1;32m~\\AppData\\Roaming\\Python\\Python39\\site-packages\\pandas\\io\\parsers.py:1867\u001b[0m, in \u001b[0;36mCParserWrapper.__init__\u001b[1;34m(self, src, **kwds)\u001b[0m\n\u001b[0;32m   1864\u001b[0m kwds[\u001b[38;5;124m\"\u001b[39m\u001b[38;5;124musecols\u001b[39m\u001b[38;5;124m\"\u001b[39m] \u001b[38;5;241m=\u001b[39m \u001b[38;5;28mself\u001b[39m\u001b[38;5;241m.\u001b[39musecols\n\u001b[0;32m   1866\u001b[0m \u001b[38;5;66;03m# open handles\u001b[39;00m\n\u001b[1;32m-> 1867\u001b[0m \u001b[38;5;28;43mself\u001b[39;49m\u001b[38;5;241;43m.\u001b[39;49m\u001b[43m_open_handles\u001b[49m\u001b[43m(\u001b[49m\u001b[43msrc\u001b[49m\u001b[43m,\u001b[49m\u001b[43m \u001b[49m\u001b[43mkwds\u001b[49m\u001b[43m)\u001b[49m\n\u001b[0;32m   1868\u001b[0m \u001b[38;5;28;01massert\u001b[39;00m \u001b[38;5;28mself\u001b[39m\u001b[38;5;241m.\u001b[39mhandles \u001b[38;5;129;01mis\u001b[39;00m \u001b[38;5;129;01mnot\u001b[39;00m \u001b[38;5;28;01mNone\u001b[39;00m\n\u001b[0;32m   1869\u001b[0m \u001b[38;5;28;01mfor\u001b[39;00m key \u001b[38;5;129;01min\u001b[39;00m (\u001b[38;5;124m\"\u001b[39m\u001b[38;5;124mstorage_options\u001b[39m\u001b[38;5;124m\"\u001b[39m, \u001b[38;5;124m\"\u001b[39m\u001b[38;5;124mencoding\u001b[39m\u001b[38;5;124m\"\u001b[39m, \u001b[38;5;124m\"\u001b[39m\u001b[38;5;124mmemory_map\u001b[39m\u001b[38;5;124m\"\u001b[39m, \u001b[38;5;124m\"\u001b[39m\u001b[38;5;124mcompression\u001b[39m\u001b[38;5;124m\"\u001b[39m):\n",
      "File \u001b[1;32m~\\AppData\\Roaming\\Python\\Python39\\site-packages\\pandas\\io\\parsers.py:1362\u001b[0m, in \u001b[0;36mParserBase._open_handles\u001b[1;34m(self, src, kwds)\u001b[0m\n\u001b[0;32m   1358\u001b[0m \u001b[38;5;28;01mdef\u001b[39;00m \u001b[38;5;21m_open_handles\u001b[39m(\u001b[38;5;28mself\u001b[39m, src: FilePathOrBuffer, kwds: Dict[\u001b[38;5;28mstr\u001b[39m, Any]) \u001b[38;5;241m-\u001b[39m\u001b[38;5;241m>\u001b[39m \u001b[38;5;28;01mNone\u001b[39;00m:\n\u001b[0;32m   1359\u001b[0m     \u001b[38;5;124;03m\"\"\"\u001b[39;00m\n\u001b[0;32m   1360\u001b[0m \u001b[38;5;124;03m    Let the readers open IOHanldes after they are done with their potential raises.\u001b[39;00m\n\u001b[0;32m   1361\u001b[0m \u001b[38;5;124;03m    \"\"\"\u001b[39;00m\n\u001b[1;32m-> 1362\u001b[0m     \u001b[38;5;28mself\u001b[39m\u001b[38;5;241m.\u001b[39mhandles \u001b[38;5;241m=\u001b[39m \u001b[43mget_handle\u001b[49m\u001b[43m(\u001b[49m\n\u001b[0;32m   1363\u001b[0m \u001b[43m        \u001b[49m\u001b[43msrc\u001b[49m\u001b[43m,\u001b[49m\n\u001b[0;32m   1364\u001b[0m \u001b[43m        \u001b[49m\u001b[38;5;124;43m\"\u001b[39;49m\u001b[38;5;124;43mr\u001b[39;49m\u001b[38;5;124;43m\"\u001b[39;49m\u001b[43m,\u001b[49m\n\u001b[0;32m   1365\u001b[0m \u001b[43m        \u001b[49m\u001b[43mencoding\u001b[49m\u001b[38;5;241;43m=\u001b[39;49m\u001b[43mkwds\u001b[49m\u001b[38;5;241;43m.\u001b[39;49m\u001b[43mget\u001b[49m\u001b[43m(\u001b[49m\u001b[38;5;124;43m\"\u001b[39;49m\u001b[38;5;124;43mencoding\u001b[39;49m\u001b[38;5;124;43m\"\u001b[39;49m\u001b[43m,\u001b[49m\u001b[43m \u001b[49m\u001b[38;5;28;43;01mNone\u001b[39;49;00m\u001b[43m)\u001b[49m\u001b[43m,\u001b[49m\n\u001b[0;32m   1366\u001b[0m \u001b[43m        \u001b[49m\u001b[43mcompression\u001b[49m\u001b[38;5;241;43m=\u001b[39;49m\u001b[43mkwds\u001b[49m\u001b[38;5;241;43m.\u001b[39;49m\u001b[43mget\u001b[49m\u001b[43m(\u001b[49m\u001b[38;5;124;43m\"\u001b[39;49m\u001b[38;5;124;43mcompression\u001b[39;49m\u001b[38;5;124;43m\"\u001b[39;49m\u001b[43m,\u001b[49m\u001b[43m \u001b[49m\u001b[38;5;28;43;01mNone\u001b[39;49;00m\u001b[43m)\u001b[49m\u001b[43m,\u001b[49m\n\u001b[0;32m   1367\u001b[0m \u001b[43m        \u001b[49m\u001b[43mmemory_map\u001b[49m\u001b[38;5;241;43m=\u001b[39;49m\u001b[43mkwds\u001b[49m\u001b[38;5;241;43m.\u001b[39;49m\u001b[43mget\u001b[49m\u001b[43m(\u001b[49m\u001b[38;5;124;43m\"\u001b[39;49m\u001b[38;5;124;43mmemory_map\u001b[39;49m\u001b[38;5;124;43m\"\u001b[39;49m\u001b[43m,\u001b[49m\u001b[43m \u001b[49m\u001b[38;5;28;43;01mFalse\u001b[39;49;00m\u001b[43m)\u001b[49m\u001b[43m,\u001b[49m\n\u001b[0;32m   1368\u001b[0m \u001b[43m        \u001b[49m\u001b[43mstorage_options\u001b[49m\u001b[38;5;241;43m=\u001b[39;49m\u001b[43mkwds\u001b[49m\u001b[38;5;241;43m.\u001b[39;49m\u001b[43mget\u001b[49m\u001b[43m(\u001b[49m\u001b[38;5;124;43m\"\u001b[39;49m\u001b[38;5;124;43mstorage_options\u001b[39;49m\u001b[38;5;124;43m\"\u001b[39;49m\u001b[43m,\u001b[49m\u001b[43m \u001b[49m\u001b[38;5;28;43;01mNone\u001b[39;49;00m\u001b[43m)\u001b[49m\u001b[43m,\u001b[49m\n\u001b[0;32m   1369\u001b[0m \u001b[43m    \u001b[49m\u001b[43m)\u001b[49m\n",
      "File \u001b[1;32m~\\AppData\\Roaming\\Python\\Python39\\site-packages\\pandas\\io\\common.py:642\u001b[0m, in \u001b[0;36mget_handle\u001b[1;34m(path_or_buf, mode, encoding, compression, memory_map, is_text, errors, storage_options)\u001b[0m\n\u001b[0;32m    640\u001b[0m         errors \u001b[38;5;241m=\u001b[39m \u001b[38;5;124m\"\u001b[39m\u001b[38;5;124mreplace\u001b[39m\u001b[38;5;124m\"\u001b[39m\n\u001b[0;32m    641\u001b[0m     \u001b[38;5;66;03m# Encoding\u001b[39;00m\n\u001b[1;32m--> 642\u001b[0m     handle \u001b[38;5;241m=\u001b[39m \u001b[38;5;28;43mopen\u001b[39;49m\u001b[43m(\u001b[49m\n\u001b[0;32m    643\u001b[0m \u001b[43m        \u001b[49m\u001b[43mhandle\u001b[49m\u001b[43m,\u001b[49m\n\u001b[0;32m    644\u001b[0m \u001b[43m        \u001b[49m\u001b[43mioargs\u001b[49m\u001b[38;5;241;43m.\u001b[39;49m\u001b[43mmode\u001b[49m\u001b[43m,\u001b[49m\n\u001b[0;32m    645\u001b[0m \u001b[43m        \u001b[49m\u001b[43mencoding\u001b[49m\u001b[38;5;241;43m=\u001b[39;49m\u001b[43mioargs\u001b[49m\u001b[38;5;241;43m.\u001b[39;49m\u001b[43mencoding\u001b[49m\u001b[43m,\u001b[49m\n\u001b[0;32m    646\u001b[0m \u001b[43m        \u001b[49m\u001b[43merrors\u001b[49m\u001b[38;5;241;43m=\u001b[39;49m\u001b[43merrors\u001b[49m\u001b[43m,\u001b[49m\n\u001b[0;32m    647\u001b[0m \u001b[43m        \u001b[49m\u001b[43mnewline\u001b[49m\u001b[38;5;241;43m=\u001b[39;49m\u001b[38;5;124;43m\"\u001b[39;49m\u001b[38;5;124;43m\"\u001b[39;49m\u001b[43m,\u001b[49m\n\u001b[0;32m    648\u001b[0m \u001b[43m    \u001b[49m\u001b[43m)\u001b[49m\n\u001b[0;32m    649\u001b[0m \u001b[38;5;28;01melse\u001b[39;00m:\n\u001b[0;32m    650\u001b[0m     \u001b[38;5;66;03m# Binary mode\u001b[39;00m\n\u001b[0;32m    651\u001b[0m     handle \u001b[38;5;241m=\u001b[39m \u001b[38;5;28mopen\u001b[39m(handle, ioargs\u001b[38;5;241m.\u001b[39mmode)\n",
      "\u001b[1;31mFileNotFoundError\u001b[0m: [Errno 2] No such file or directory: 'archive-2/NBA Players Stats 201718.csv'"
     ]
    }
   ],
   "source": [
    "nba_2017_2018 = pd.read_csv('archive-2/NBA Players Stats 201718.csv')\n",
    "nba_2017_2018 = nba_2017_2018.drop(columns=['Rk','Tm', 'Pos'], axis=1)\n",
    "nba_2017_2018['Player'] = nba_2017_2018['Player'].str.split('\\\\').str[0]\n",
    "nba_2017_2018.fillna(0, inplace=True)\n",
    "nba_2017_2018 = nba_2017_2018[nba_2017_2018['G'] >= 20]\n",
    "cols_to_keep = ['Player', 'Age', 'G', 'GS', 'MP', 'FG', 'FGA', 'FG%', '3P',\n",
    "                '3PA', '3P%', '2P', '2PA', '2P%', 'eFG%', 'FT', 'FTA', 'FT%', 'ORB',\n",
    "                'DRB', 'TRB', 'AST', 'STL', 'BLK', 'TOV', 'PF', 'PTS']\n",
    "\n",
    "# Group the data by player and calculate the weighted average and sum of the other columns\n",
    "nba_2017_2018 = nba_2017_2018.groupby(['Player', 'Age'])[cols_to_keep].agg({'G': 'sum', 'GS': 'sum', \n",
    "                                                                                     'MP': lambda x: np.average(x, weights=nba_2017_2018.loc[x.index, 'G']), \n",
    "                                                                                     'FG': lambda x: np.average(x, weights=nba_2017_2018.loc[x.index, 'G']), \n",
    "                                                                                     'FGA': lambda x: np.average(x, weights=nba_2017_2018.loc[x.index, 'G']), \n",
    "                                                                                     'FG%': lambda x: np.average(x, weights=nba_2017_2018.loc[x.index, 'G']), \n",
    "                                                                                     '3P': lambda x: np.average(x, weights=nba_2017_2018.loc[x.index, 'G']), \n",
    "                                                                                     '3PA': lambda x: np.average(x, weights=nba_2017_2018.loc[x.index, 'G']), \n",
    "                                                                                     '3P%': lambda x: np.average(x, weights=nba_2017_2018.loc[x.index, 'G']), \n",
    "                                                                                     '2P': lambda x: np.average(x, weights=nba_2017_2018.loc[x.index, 'G']), \n",
    "                                                                                     '2PA': lambda x: np.average(x, weights=nba_2017_2018.loc[x.index, 'G']), \n",
    "                                                                                     '2P%': lambda x: np.average(x, weights=nba_2017_2018.loc[x.index, 'G']), \n",
    "                                                                                     'eFG%': lambda x: np.average(x, weights=nba_2017_2018.loc[x.index, 'G']), \n",
    "                                                                                     'FT': lambda x: np.average(x, weights=nba_2017_2018.loc[x.index, 'G']), \n",
    "                                                                                     'FTA': lambda x: np.average(x, weights=nba_2017_2018.loc[x.index, 'G']), \n",
    "                                                                                     'FT%': lambda x: np.average(x, weights=nba_2017_2018.loc[x.index, 'G']), \n",
    "                                                                                     'ORB': lambda x: np.average(x, weights=nba_2017_2018.loc[x.index, 'G']), \n",
    "                                                                                     'DRB': lambda x: np.average(x, weights=nba_2017_2018.loc[x.index, 'G']), \n",
    "                                                                                     'TRB': lambda x: np.average(x, weights=nba_2017_2018.loc[x.index, 'G']), \n",
    "                                                                                     'AST': lambda x: np.average(x, weights=nba_2017_2018.loc[x.index, 'G']), \n",
    "                                                                                     'STL': lambda x: np.average(x, weights=nba_2017_2018.loc[x.index, 'G']),\n",
    "                                                                                     'BLK': lambda x: np.average(x, weights=nba_2017_2018.loc[x.index, 'G']),\n",
    "                                                                                     'TOV': lambda x: np.average(x, weights=nba_2017_2018.loc[x.index, 'G']),\n",
    "                                                                                     'PF': lambda x: np.average(x, weights=nba_2017_2018.loc[x.index, 'G']),\n",
    "                                                                                     'PTS': lambda x: np.average(x, weights=nba_2017_2018.loc[x.index, 'G'])}).reset_index()\n",
    "\n",
    "percentage_columns = ['FG%', '3P%', '2P%', 'eFG%', 'FT%']\n",
    "for col in percentage_columns:\n",
    "    nba_2017_2018[col] = nba_2017_2018[col] * 100\n",
    "\n",
    "nba_2017_2018 = nba_2017_2018.round(2)\n",
    "\n",
    "all_star_list = ['Kemba Walker', 'Kyrie Irving', 'Kawhi Leonard', 'Giannis Antetokounmpo', \n",
    "                'Joel Embiid', 'Kyle Lowry', 'Victor Oladipo', 'Khris Middleton', 'Bradley Beal',\n",
    "                'Ben Simmons', 'Blake Griffin', 'Nikola Vučević', \"D'Angelo Russell\",\n",
    "                'Stephen Curry', 'James Harden', 'Kevin Durant', 'Paul George', 'LeBron James',\n",
    "                'Russell Westbrook', 'Damian Lillard', 'Klay Thompson', 'Anthony Davis', \n",
    "                'LaMarcus Aldridge', 'DeMarcus Cousins', 'Nikola Jokić', 'Karl-Anthony Towns']\n",
    "nba_2017_2018['AS_NY'] = nba_2017_2018['Player'].apply(lambda x: 1 if x in all_star_list else 0)"
   ]
  },
  {
   "cell_type": "code",
   "execution_count": null,
   "id": "5a5ad615",
   "metadata": {},
   "outputs": [],
   "source": [
    "nba_2017_2018"
   ]
  },
  {
   "cell_type": "code",
   "execution_count": null,
   "id": "778df609",
   "metadata": {},
   "outputs": [],
   "source": [
    "nba_2018_2019 = pd.read_csv('archive-2/NBA Players Stats 201819.csv')\n",
    "nba_2018_2019 = nba_2018_2019.drop(columns=['Rk','Tm','Pos'], axis=1)\n",
    "nba_2018_2019['Player'] = nba_2018_2019['Player'].str.split('\\\\').str[0]\n",
    "nba_2018_2019.fillna(0, inplace=True)\n",
    "nba_2018_2019 = nba_2018_2019[nba_2018_2019['G'] >= 20]\n",
    "cols_to_keep = ['Player', 'Age', 'G', 'GS', 'MP', 'FG', 'FGA', 'FG%', '3P',\n",
    "                '3PA', '3P%', '2P', '2PA', '2P%', 'eFG%', 'FT', 'FTA', 'FT%', 'ORB',\n",
    "                'DRB', 'TRB', 'AST', 'STL', 'BLK', 'TOV', 'PF', 'PTS']\n",
    "\n",
    "# Group the data by player and calculate the weighted average and sum of the other columns\n",
    "nba_2018_2019 = nba_2018_2019.groupby(['Player', 'Age'])[cols_to_keep].agg({'G': 'sum', 'GS': 'sum', \n",
    "                                                                                     'MP': lambda x: np.average(x, weights=nba_2018_2019.loc[x.index, 'G']), \n",
    "                                                                                     'FG': lambda x: np.average(x, weights=nba_2018_2019.loc[x.index, 'G']), \n",
    "                                                                                     'FGA': lambda x: np.average(x, weights=nba_2018_2019.loc[x.index, 'G']), \n",
    "                                                                                     'FG%': lambda x: np.average(x, weights=nba_2018_2019.loc[x.index, 'G']), \n",
    "                                                                                     '3P': lambda x: np.average(x, weights=nba_2018_2019.loc[x.index, 'G']), \n",
    "                                                                                     '3PA': lambda x: np.average(x, weights=nba_2018_2019.loc[x.index, 'G']), \n",
    "                                                                                     '3P%': lambda x: np.average(x, weights=nba_2018_2019.loc[x.index, 'G']), \n",
    "                                                                                     '2P': lambda x: np.average(x, weights=nba_2018_2019.loc[x.index, 'G']), \n",
    "                                                                                     '2PA': lambda x: np.average(x, weights=nba_2018_2019.loc[x.index, 'G']), \n",
    "                                                                                     '2P%': lambda x: np.average(x, weights=nba_2018_2019.loc[x.index, 'G']), \n",
    "                                                                                     'eFG%': lambda x: np.average(x, weights=nba_2018_2019.loc[x.index, 'G']), \n",
    "                                                                                     'FT': lambda x: np.average(x, weights=nba_2018_2019.loc[x.index, 'G']), \n",
    "                                                                                     'FTA': lambda x: np.average(x, weights=nba_2018_2019.loc[x.index, 'G']), \n",
    "                                                                                     'FT%': lambda x: np.average(x, weights=nba_2018_2019.loc[x.index, 'G']), \n",
    "                                                                                     'ORB': lambda x: np.average(x, weights=nba_2018_2019.loc[x.index, 'G']), \n",
    "                                                                                     'DRB': lambda x: np.average(x, weights=nba_2018_2019.loc[x.index, 'G']), \n",
    "                                                                                     'TRB': lambda x: np.average(x, weights=nba_2018_2019.loc[x.index, 'G']), \n",
    "                                                                                     'AST': lambda x: np.average(x, weights=nba_2018_2019.loc[x.index, 'G']), \n",
    "                                                                                     'STL': lambda x: np.average(x, weights=nba_2018_2019.loc[x.index, 'G']),\n",
    "                                                                                     'BLK': lambda x: np.average(x, weights=nba_2018_2019.loc[x.index, 'G']),\n",
    "                                                                                     'TOV': lambda x: np.average(x, weights=nba_2018_2019.loc[x.index, 'G']),\n",
    "                                                                                     'PF': lambda x: np.average(x, weights=nba_2018_2019.loc[x.index, 'G']),\n",
    "                                                                                     'PTS': lambda x: np.average(x, weights=nba_2018_2019.loc[x.index, 'G'])}).reset_index()\n",
    "\n",
    "percentage_columns = ['FG%', '3P%', '2P%', 'eFG%', 'FT%']\n",
    "for col in percentage_columns:\n",
    "    nba_2018_2019[col] = nba_2018_2019[col] * 100\n",
    "\n",
    "\n",
    "nba_2018_2019 = nba_2018_2019.round(2)\n",
    "\n",
    "all_star_list = ['Kemba Walker', 'Trae Young', 'Giannis Antetokounmpo', 'Pascal Siakam', 'Joel Embiid',\n",
    "                'Kyle Lowry', 'Ben Simmons', 'Jimmy Butler', 'Khris Middleton', 'Bam Adebayo', \n",
    "                'Jayson Tatum', 'Domantas Sabonis', 'James Harden', 'Luka Dončić', 'LeBron James',\n",
    "                'Kawhi Leonard', 'Anthony Davis', 'Chris Paul', 'Russell Westbrook', 'Damian Lillard', \n",
    "                'Donovan Mitchell', 'Brandon Ingram', 'Nikola Jokić', 'Rudy Gobert', 'Devin Booker']\n",
    "nba_2018_2019['AS_NY'] = nba_2018_2019['Player'].apply(lambda x: 1 if x in all_star_list else 0)"
   ]
  },
  {
   "cell_type": "code",
   "execution_count": null,
   "id": "6dff2057",
   "metadata": {},
   "outputs": [],
   "source": [
    "nba_2018_2019"
   ]
  },
  {
   "cell_type": "markdown",
   "id": "68320df5",
   "metadata": {},
   "source": [
    "**Naive Model**"
   ]
  },
  {
   "cell_type": "code",
   "execution_count": null,
   "id": "0853fad3",
   "metadata": {},
   "outputs": [],
   "source": [
    "X_train = nba_2017_2018.drop(['Player', 'AS_NY'], axis=1) \n",
    "y_train = nba_2017_2018['AS_NY']  \n",
    "\n",
    "X_test = nba_2018_2019.drop(['Player', 'AS_NY'], axis=1)  \n",
    "y_test = nba_2018_2019['AS_NY']  \n",
    "\n",
    "y_pred = [0] * len(y_test)\n",
    "\n",
    "accuracy = accuracy_score(y_test, y_pred)\n",
    "recall = recall_score(y_test, y_pred)\n",
    "precision = precision_score(y_test, y_pred)\n",
    "confusion_mat = confusion_matrix(y_test, y_pred)\n",
    "\n",
    "print(\"Accuracy:\", accuracy)\n",
    "print(\"Recall:\", recall)\n",
    "print(\"Precision:\", precision)\n",
    "print(\"Confusion Matrix:\")\n",
    "print(confusion_mat)"
   ]
  },
  {
   "cell_type": "markdown",
   "id": "19c1cb6c",
   "metadata": {},
   "source": [
    "**Base Logistic Regression Model**"
   ]
  },
  {
   "cell_type": "code",
   "execution_count": null,
   "id": "1bdc3910",
   "metadata": {},
   "outputs": [],
   "source": [
    "logreg = LogisticRegression(max_iter=10000)\n",
    "logreg.fit(X_train, y_train)\n",
    "\n",
    "y_pred = logreg.predict(X_test)\n",
    "\n",
    "accuracy = accuracy_score(y_test, y_pred)\n",
    "recall = recall_score(y_test, y_pred)\n",
    "precision = precision_score(y_test, y_pred)\n",
    "confusion_mat = confusion_matrix(y_test, y_pred)\n",
    "\n",
    "print(\"Accuracy:\", accuracy)\n",
    "print(\"Recall:\", recall)\n",
    "print(\"Precision:\", precision)\n",
    "print(\"Confusion Matrix:\")\n",
    "print(confusion_mat)"
   ]
  },
  {
   "cell_type": "markdown",
   "id": "84538fb1",
   "metadata": {},
   "source": [
    "**Feature Importances**"
   ]
  },
  {
   "cell_type": "code",
   "execution_count": null,
   "id": "15bd03c0",
   "metadata": {},
   "outputs": [],
   "source": [
    "coefficients = logreg.coef_[0]\n",
    "\n",
    "\n",
    "feature_names = X_train.columns\n",
    "\n",
    "\n",
    "feature_importance = sorted(zip(feature_names, coefficients), key=lambda x: abs(x[1]), reverse=True)\n",
    "\n",
    "\n",
    "df_feature_importance = pd.DataFrame(feature_importance, columns=['Feature', 'Coefficient'])\n",
    "\n",
    "\n",
    "df_feature_importance['Absolute Importance'] = df_feature_importance['Coefficient'].abs()\n",
    "df_feature_importance = df_feature_importance.sort_values(by='Absolute Importance', ascending=False)\n",
    "df_feature_importance"
   ]
  },
  {
   "cell_type": "code",
   "execution_count": null,
   "id": "9a7dd3e4",
   "metadata": {},
   "outputs": [],
   "source": []
  },
  {
   "cell_type": "code",
   "execution_count": null,
   "id": "a9c76d23",
   "metadata": {},
   "outputs": [],
   "source": []
  }
 ],
 "metadata": {
  "kernelspec": {
   "display_name": "Python 3 (ipykernel)",
   "language": "python",
   "name": "python3"
  },
  "language_info": {
   "codemirror_mode": {
    "name": "ipython",
    "version": 3
   },
   "file_extension": ".py",
   "mimetype": "text/x-python",
   "name": "python",
   "nbconvert_exporter": "python",
   "pygments_lexer": "ipython3",
   "version": "3.9.7"
  }
 },
 "nbformat": 4,
 "nbformat_minor": 5
}
