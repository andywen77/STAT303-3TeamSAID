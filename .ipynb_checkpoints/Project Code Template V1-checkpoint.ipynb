{
 "cells": [
  {
   "cell_type": "raw",
   "id": "33dd6c4c",
   "metadata": {
    "id": "33dd6c4c"
   },
   "source": [
    "---\n",
    "title: \"Project Code\"\n",
    "subtitle: Team name\n",
    "author: Author 1, Author 2, Author 3, and Author 4 \n",
    "date: 05/23/2023\n",
    "number-sections: true\n",
    "abstract: _This file contains the code for the project on <>, as part of the STAT303-3 course in Spring 2023_.\n",
    "format: \n",
    "  html:\n",
    "    toc: true\n",
    "    toc-title: Contents\n",
    "    self-contained: true\n",
    "    font-size: 100%\n",
    "    toc-depth: 4\n",
    "    mainfont: serif\n",
    "jupyter: python3\n",
    "---"
   ]
  },
  {
   "cell_type": "code",
   "execution_count": 1,
   "id": "qebBSbKYREkz",
   "metadata": {
    "executionInfo": {
     "elapsed": 119,
     "status": "ok",
     "timestamp": 1686017800300,
     "user": {
      "displayName": "Davis Johnson",
      "userId": "01976620845666482233"
     },
     "user_tz": 300
    },
    "id": "qebBSbKYREkz"
   },
   "outputs": [],
   "source": [
    "import pandas as pd\n",
    "import numpy as np\n",
    "import seaborn as sns\n",
    "import matplotlib.pyplot as plt\n",
    "from sklearn.metrics import mean_squared_error\n",
    "from sklearn.model_selection import cross_val_score,train_test_split, KFold, cross_val_predict\n",
    "from sklearn.metrics import mean_squared_error,r2_score,roc_curve,auc,precision_recall_curve, accuracy_score, \\\n",
    "recall_score, precision_score, confusion_matrix, make_scorer\n",
    "from sklearn.tree import DecisionTreeRegressor,DecisionTreeClassifier\n",
    "from sklearn.model_selection import GridSearchCV, ParameterGrid, StratifiedKFold, RandomizedSearchCV\n",
    "from sklearn.ensemble import VotingRegressor, VotingClassifier, StackingRegressor, StackingClassifier, GradientBoostingRegressor,GradientBoostingClassifier, BaggingRegressor,BaggingClassifier,RandomForestRegressor,RandomForestClassifier,AdaBoostRegressor,AdaBoostClassifier\n",
    "from sklearn.linear_model import LinearRegression,LogisticRegression, LassoCV, RidgeCV, ElasticNetCV\n",
    "from sklearn.neighbors import KNeighborsRegressor\n",
    "import itertools as it\n",
    "import time as time\n",
    "import xgboost as xgb"
   ]
  },
  {
   "cell_type": "markdown",
   "id": "fe7ea9bb",
   "metadata": {
    "id": "fe7ea9bb"
   },
   "source": [
    "## Data quality check / cleaning / preparation "
   ]
  },
  {
   "cell_type": "code",
   "execution_count": 2,
   "id": "3rkF2TnmWx6N",
   "metadata": {
    "executionInfo": {
     "elapsed": 455,
     "status": "ok",
     "timestamp": 1686017803043,
     "user": {
      "displayName": "Davis Johnson",
      "userId": "01976620845666482233"
     },
     "user_tz": 300
    },
    "id": "3rkF2TnmWx6N"
   },
   "outputs": [],
   "source": [
    "# reading in the data\n",
    "nba_2017 = pd.read_csv('https://raw.githubusercontent.com/Dmjohnson4/Stat-303-3-Datasets/main/NBA%20Players%20Stats%20201718.csv',\n",
    "                            encoding='latin-1')\n",
    "nba_2018 = pd.read_csv('https://raw.githubusercontent.com/Dmjohnson4/Stat-303-3-Datasets/main/NBA%20Players%20Stats%20201819.csv',\n",
    "                            encoding = 'latin-1')"
   ]
  },
  {
   "cell_type": "markdown",
   "id": "ff6b5e83",
   "metadata": {
    "id": "ff6b5e83"
   },
   "source": [
    "### Data cleaning\n",
    "*By Davis Johnson*"
   ]
  },
  {
   "cell_type": "code",
   "execution_count": 3,
   "id": "25ddf4d3",
   "metadata": {
    "executionInfo": {
     "elapsed": 128,
     "status": "ok",
     "timestamp": 1686017805205,
     "user": {
      "displayName": "Davis Johnson",
      "userId": "01976620845666482233"
     },
     "user_tz": 300
    },
    "id": "25ddf4d3"
   },
   "outputs": [],
   "source": [
    "#Train Dataset#\n",
    "\n",
    "## getting rid of '//' characters in player names\n",
    "nba_2017['Player'] = nba_2017['Player'].str.split('\\\\').str[0]\n",
    "\n",
    "## If players played for more than one team, we want to only keep the row that has their total stats for the year\n",
    "## applying boolean mask to get of rid of extra rows belonging to players and only keeping their 'TOT' rows\n",
    "duplicated_players = nba_2017['Player'].duplicated(keep=False)\n",
    "mask = duplicated_players & (nba_2017['Tm'] == 'TOT')\n",
    "filtered_df = nba_2017[mask]\n",
    "\n",
    "## creating seperate subset of players that don't have more than one row\n",
    "single_team_df = nba_2017[~duplicated_players]\n",
    "\n",
    "## combining previously created subset with players that played for more than one team and now only have one row assigned to them\n",
    "nba_2017_2018 = pd.concat([filtered_df, single_team_df])\n",
    "nba_2017_2018 = nba_2017_2018.reset_index(drop=True)\n",
    "\n",
    "## filling all N/A values with 0, since we are assuming players have no stats for these data points\n",
    "nba_2017_2018.fillna(0, inplace=True)\n"
   ]
  },
  {
   "cell_type": "code",
   "execution_count": 4,
   "id": "HWTIclj2dRmz",
   "metadata": {
    "executionInfo": {
     "elapsed": 100,
     "status": "ok",
     "timestamp": 1686017807428,
     "user": {
      "displayName": "Davis Johnson",
      "userId": "01976620845666482233"
     },
     "user_tz": 300
    },
    "id": "HWTIclj2dRmz"
   },
   "outputs": [],
   "source": [
    "## repeating the process for test dataset\n",
    "nba_2018['Player'] = nba_2018['Player'].str.split('\\\\').str[0]\n",
    "duplicated_players = nba_2018['Player'].duplicated(keep=False)\n",
    "mask = duplicated_players & (nba_2018['Tm'] == 'TOT')\n",
    "filtered_df = nba_2018[mask]\n",
    "single_team_df = nba_2018[~duplicated_players]\n",
    "nba_2018_2019 = pd.concat([filtered_df, single_team_df])\n",
    "nba_2018_2019 = nba_2018_2019.reset_index(drop=True)\n",
    "nba_2018_2019.fillna(0, inplace=True)\n"
   ]
  },
  {
   "cell_type": "markdown",
   "id": "424479b5",
   "metadata": {
    "id": "424479b5"
   },
   "source": [
    "### Data preparation\n",
    "*By Davis Johnson*\n",
    "\n",
    "The following data preparation steps helped us to prepare our data for implementing various modeling / validation techniques:\n",
    "\n",
    "1. We want to predict All-Star appearances. Thus, we manually created a response column using binary classification. A `1` in the column signifies that the player was an All-Star in the following year.\n",
    "\n",
    "2. We also performed some basic data preparation techniques (dropping non-relevant predictors, removing players from the analysis who appeared in a limited number of games)"
   ]
  },
  {
   "cell_type": "code",
   "execution_count": 5,
   "id": "bde6859d",
   "metadata": {
    "executionInfo": {
     "elapsed": 129,
     "status": "ok",
     "timestamp": 1686017810127,
     "user": {
      "displayName": "Davis Johnson",
      "userId": "01976620845666482233"
     },
     "user_tz": 300
    },
    "id": "bde6859d"
   },
   "outputs": [],
   "source": [
    "## Train dataset\n",
    "\n",
    "## dropping predictors that won't factor into our analysis, we our focusing on stats\n",
    "nba_2017_2018 = nba_2017_2018.drop(columns=['Rk','Tm', 'Pos'], axis=1)\n",
    "\n",
    "## removing players who played less than 20 games\n",
    "nba_2017_2018 = nba_2017_2018[nba_2017_2018['G'] >= 20]\n",
    "nba_2017_2018 = nba_2017_2018.reset_index(drop=True)\n",
    "\n",
    "## converting stats into percentage form\n",
    "percentage_columns = ['FG%', '3P%', '2P%', 'eFG%', 'FT%']\n",
    "for col in percentage_columns:\n",
    "    nba_2017_2018[col] = nba_2017_2018[col] * 100\n",
    "\n",
    "## creating response variable\n",
    "## manually creating list of the following year's NBA All-Stars\n",
    "all_star_list = ['Kemba Walker', 'Kyrie Irving', 'Kawhi Leonard', 'Giannis Antetokounmpo', \n",
    "                'Joel Embiid', 'Kyle Lowry', 'Victor Oladipo', 'Khris Middleton', 'Bradley Beal',\n",
    "                'Ben Simmons', 'Blake Griffin', 'Nikola Vučević', \"D'Angelo Russell\",\n",
    "                'Stephen Curry', 'James Harden', 'Kevin Durant', 'Paul George', 'LeBron James',\n",
    "                'Russell Westbrook', 'Damian Lillard', 'Klay Thompson', 'Anthony Davis', \n",
    "                'LaMarcus Aldridge', 'DeMarcus Cousins', 'Nikola Jokić', 'Karl-Anthony Towns']\n",
    "\n",
    "## assigning a 1 to rows in a new column if the player name is in the list above\n",
    "nba_2017_2018['AS_NY'] = nba_2017_2018['Player'].apply(lambda x: 1 if x in all_star_list else 0)"
   ]
  },
  {
   "cell_type": "code",
   "execution_count": 6,
   "id": "edf0986d",
   "metadata": {
    "executionInfo": {
     "elapsed": 140,
     "status": "ok",
     "timestamp": 1686017812644,
     "user": {
      "displayName": "Davis Johnson",
      "userId": "01976620845666482233"
     },
     "user_tz": 300
    },
    "id": "edf0986d"
   },
   "outputs": [],
   "source": [
    "## repeating process for test dataset\n",
    "\n",
    "nba_2018_2019 = nba_2018_2019.drop(columns=['Rk','Tm', 'Pos'], axis=1)\n",
    "nba_2018_2019 = nba_2018_2019[nba_2018_2019['G'] >= 20]\n",
    "nba_2018_2019 = nba_2018_2019.reset_index(drop=True)\n",
    "\n",
    "percentage_columns = ['FG%', '3P%', '2P%', 'eFG%', 'FT%']\n",
    "for col in percentage_columns:\n",
    "    nba_2018_2019[col] = nba_2018_2019[col] * 100\n",
    "\n",
    "all_star_list = ['Kemba Walker', 'Trae Young', 'Giannis Antetokounmpo', 'Pascal Siakam', 'Joel Embiid',\n",
    "                'Kyle Lowry', 'Ben Simmons', 'Jimmy Butler', 'Khris Middleton', 'Bam Adebayo', \n",
    "                'Jayson Tatum', 'Domantas Sabonis', 'James Harden', 'Luka Dončić', 'LeBron James',\n",
    "                'Kawhi Leonard', 'Anthony Davis', 'Chris Paul', 'Russell Westbrook', 'Damian Lillard', \n",
    "                'Donovan Mitchell', 'Brandon Ingram', 'Nikola Jokić', 'Rudy Gobert', 'Devin Booker']\n",
    "nba_2018_2019['AS_NY'] = nba_2018_2019['Player'].apply(lambda x: 1 if x in all_star_list else 0)"
   ]
  },
  {
   "cell_type": "markdown",
   "id": "371a5a4a",
   "metadata": {
    "id": "371a5a4a"
   },
   "source": [
    "### Distribution of response\n",
    "*By Davis Johnson*"
   ]
  },
  {
   "cell_type": "code",
   "execution_count": 7,
   "id": "b868f6b5",
   "metadata": {
    "colab": {
     "base_uri": "https://localhost:8080/",
     "height": 490
    },
    "executionInfo": {
     "elapsed": 400,
     "status": "ok",
     "timestamp": 1686018113778,
     "user": {
      "displayName": "Davis Johnson",
      "userId": "01976620845666482233"
     },
     "user_tz": 300
    },
    "id": "b868f6b5",
    "outputId": "d2af538e-27e8-4d95-b4a5-88eb42e6aa2f"
   },
   "outputs": [
    {
     "data": {
      "text/plain": [
       "Text(0.5, 1.0, \"Number of 0's and 1's\")"
      ]
     },
     "execution_count": 7,
     "metadata": {},
     "output_type": "execute_result"
    },
    {
     "data": {
      "image/png": "[encoded data removed]",
      "text/plain": [
       "<Figure size 640x480 with 1 Axes>"
      ]
     },
     "metadata": {},
     "output_type": "display_data"
    }
   ],
   "source": [
    "## bar plot for distribution of response for train data\n",
    "proportions = nba_2017_2018['AS_NY'].value_counts()\n",
    "plt.bar(proportions.index.astype(str), proportions.values)\n",
    "plt.xlabel('Response')\n",
    "plt.ylabel('Proportion')\n",
    "plt.title('Number of 0\\'s and 1\\'s')"
   ]
  },
  {
   "cell_type": "code",
   "execution_count": 8,
   "id": "34g685i_gpNf",
   "metadata": {
    "colab": {
     "base_uri": "https://localhost:8080/",
     "height": 490
    },
    "executionInfo": {
     "elapsed": 913,
     "status": "ok",
     "timestamp": 1686018127503,
     "user": {
      "displayName": "Davis Johnson",
      "userId": "01976620845666482233"
     },
     "user_tz": 300
    },
    "id": "34g685i_gpNf",
    "outputId": "384cf8ea-ffe9-4fdd-e279-9d80de89a8e0"
   },
   "outputs": [
    {
     "data": {
      "text/plain": [
       "Text(0.5, 1.0, \"Number of 0's and 1's\")"
      ]
     },
     "execution_count": 8,
     "metadata": {},
     "output_type": "execute_result"
    },
    {
     "data": {
      "image/png": "[encoded data removed]",
      "text/plain": [
       "<Figure size 640x480 with 1 Axes>"
      ]
     },
     "metadata": {},
     "output_type": "display_data"
    }
   ],
   "source": [
    "## bar plot for distribution of response for test data\n",
    "proportions = nba_2018_2019['AS_NY'].value_counts()\n",
    "plt.bar(proportions.index.astype(str), proportions.values)\n",
    "plt.xlabel('Response')\n",
    "plt.ylabel('Proportion')\n",
    "plt.title('Number of 0\\'s and 1\\'s')"
   ]
  },
  {
   "cell_type": "markdown",
   "id": "nC2d75KhhEJj",
   "metadata": {
    "id": "nC2d75KhhEJj"
   },
   "source": [
    "For both datasets, we see very skewed class distributions. This makes sense, as there are over 400 NBA players in a given year and only about 25 are voted as an All-Star each year. We do keep this in mind during model development by using StratifiedKFold."
   ]
  },
  {
   "cell_type": "markdown",
   "id": "fbb11c9b",
   "metadata": {
    "id": "fbb11c9b"
   },
   "source": [
    "## Exploratory data analysis"
   ]
  },
  {
   "cell_type": "markdown",
   "id": "e4bd74a9",
   "metadata": {
    "id": "e4bd74a9"
   },
   "source": [
    "Put code with comments. The comments should explain the code such that it can be easily understood. You may put text *(in a markdown cell)* before a large chunk of code to explain the overall purpose of the code, if it is not intuitive. **Put the name of the person / persons who contributed to each code chunk / set of code chunks.**"
   ]
  },
  {
   "cell_type": "markdown",
   "id": "1899c897",
   "metadata": {},
   "source": [
    "### Correlation Table (Andy)"
   ]
  },
  {
   "cell_type": "code",
   "execution_count": 9,
   "id": "5aacd943",
   "metadata": {},
   "outputs": [
    {
     "data": {
      "text/plain": [
       "<Axes: >"
      ]
     },
     "execution_count": 9,
     "metadata": {},
     "output_type": "execute_result"
    },
    {
     "data": {
      "image/png": "[encoded data removed]",
      "text/plain": [
       "<Figure size 640x480 with 2 Axes>"
      ]
     },
     "metadata": {},
     "output_type": "display_data"
    }
   ],
   "source": [
    "# developing heatmap to analyze correlations\n",
    "x_train_eda = nba_2017_2018.iloc[:, 1:-1]\n",
    "sns.heatmap(x_train_eda.corr())"
   ]
  },
  {
   "cell_type": "markdown",
   "id": "d037837d",
   "metadata": {},
   "source": [
    "### Variance Inflation Factor (Andy)"
   ]
  },
  {
   "cell_type": "code",
   "execution_count": 10,
   "id": "d74dcee7",
   "metadata": {},
   "outputs": [
    {
     "data": {
      "text/html": [
       "<div>\n",
       "<style scoped>\n",
       "    .dataframe tbody tr th:only-of-type {\n",
       "        vertical-align: middle;\n",
       "    }\n",
       "\n",
       "    .dataframe tbody tr th {\n",
       "        vertical-align: top;\n",
       "    }\n",
       "\n",
       "    .dataframe thead th {\n",
       "        text-align: right;\n",
       "    }\n",
       "</style>\n",
       "<table border=\"1\" class=\"dataframe\">\n",
       "  <thead>\n",
       "    <tr style=\"text-align: right;\">\n",
       "      <th></th>\n",
       "      <th>feature</th>\n",
       "      <th>VIF</th>\n",
       "    </tr>\n",
       "  </thead>\n",
       "  <tbody>\n",
       "    <tr>\n",
       "      <th>6</th>\n",
       "      <td>FGA</td>\n",
       "      <td>9278.338644</td>\n",
       "    </tr>\n",
       "    <tr>\n",
       "      <th>26</th>\n",
       "      <td>PTS</td>\n",
       "      <td>6855.495654</td>\n",
       "    </tr>\n",
       "    <tr>\n",
       "      <th>12</th>\n",
       "      <td>2PA</td>\n",
       "      <td>5214.888899</td>\n",
       "    </tr>\n",
       "    <tr>\n",
       "      <th>5</th>\n",
       "      <td>FG</td>\n",
       "      <td>4760.500282</td>\n",
       "    </tr>\n",
       "    <tr>\n",
       "      <th>20</th>\n",
       "      <td>TRB</td>\n",
       "      <td>2455.633794</td>\n",
       "    </tr>\n",
       "    <tr>\n",
       "      <th>9</th>\n",
       "      <td>3PA</td>\n",
       "      <td>2136.962689</td>\n",
       "    </tr>\n",
       "    <tr>\n",
       "      <th>11</th>\n",
       "      <td>2P</td>\n",
       "      <td>1669.580429</td>\n",
       "    </tr>\n",
       "    <tr>\n",
       "      <th>19</th>\n",
       "      <td>DRB</td>\n",
       "      <td>1382.304451</td>\n",
       "    </tr>\n",
       "    <tr>\n",
       "      <th>8</th>\n",
       "      <td>3P</td>\n",
       "      <td>568.795838</td>\n",
       "    </tr>\n",
       "    <tr>\n",
       "      <th>15</th>\n",
       "      <td>FT</td>\n",
       "      <td>386.671118</td>\n",
       "    </tr>\n",
       "    <tr>\n",
       "      <th>0</th>\n",
       "      <td>const</td>\n",
       "      <td>359.615994</td>\n",
       "    </tr>\n",
       "    <tr>\n",
       "      <th>18</th>\n",
       "      <td>ORB</td>\n",
       "      <td>250.011013</td>\n",
       "    </tr>\n",
       "    <tr>\n",
       "      <th>16</th>\n",
       "      <td>FTA</td>\n",
       "      <td>85.359677</td>\n",
       "    </tr>\n",
       "    <tr>\n",
       "      <th>7</th>\n",
       "      <td>FG%</td>\n",
       "      <td>23.315430</td>\n",
       "    </tr>\n",
       "    <tr>\n",
       "      <th>14</th>\n",
       "      <td>eFG%</td>\n",
       "      <td>14.742887</td>\n",
       "    </tr>\n",
       "    <tr>\n",
       "      <th>4</th>\n",
       "      <td>MP</td>\n",
       "      <td>12.792623</td>\n",
       "    </tr>\n",
       "    <tr>\n",
       "      <th>24</th>\n",
       "      <td>TOV</td>\n",
       "      <td>10.272942</td>\n",
       "    </tr>\n",
       "    <tr>\n",
       "      <th>21</th>\n",
       "      <td>AST</td>\n",
       "      <td>5.418226</td>\n",
       "    </tr>\n",
       "    <tr>\n",
       "      <th>13</th>\n",
       "      <td>2P%</td>\n",
       "      <td>4.116444</td>\n",
       "    </tr>\n",
       "    <tr>\n",
       "      <th>3</th>\n",
       "      <td>GS</td>\n",
       "      <td>3.556087</td>\n",
       "    </tr>\n",
       "    <tr>\n",
       "      <th>25</th>\n",
       "      <td>PF</td>\n",
       "      <td>3.075280</td>\n",
       "    </tr>\n",
       "    <tr>\n",
       "      <th>22</th>\n",
       "      <td>STL</td>\n",
       "      <td>2.571860</td>\n",
       "    </tr>\n",
       "    <tr>\n",
       "      <th>23</th>\n",
       "      <td>BLK</td>\n",
       "      <td>2.378908</td>\n",
       "    </tr>\n",
       "    <tr>\n",
       "      <th>17</th>\n",
       "      <td>FT%</td>\n",
       "      <td>2.192007</td>\n",
       "    </tr>\n",
       "    <tr>\n",
       "      <th>10</th>\n",
       "      <td>3P%</td>\n",
       "      <td>2.185635</td>\n",
       "    </tr>\n",
       "    <tr>\n",
       "      <th>2</th>\n",
       "      <td>G</td>\n",
       "      <td>1.627709</td>\n",
       "    </tr>\n",
       "    <tr>\n",
       "      <th>1</th>\n",
       "      <td>Age</td>\n",
       "      <td>1.119090</td>\n",
       "    </tr>\n",
       "  </tbody>\n",
       "</table>\n",
       "</div>"
      ],
      "text/plain": [
       "   feature          VIF\n",
       "6      FGA  9278.338644\n",
       "26     PTS  6855.495654\n",
       "12     2PA  5214.888899\n",
       "5       FG  4760.500282\n",
       "20     TRB  2455.633794\n",
       "9      3PA  2136.962689\n",
       "11      2P  1669.580429\n",
       "19     DRB  1382.304451\n",
       "8       3P   568.795838\n",
       "15      FT   386.671118\n",
       "0    const   359.615994\n",
       "18     ORB   250.011013\n",
       "16     FTA    85.359677\n",
       "7      FG%    23.315430\n",
       "14    eFG%    14.742887\n",
       "4       MP    12.792623\n",
       "24     TOV    10.272942\n",
       "21     AST     5.418226\n",
       "13     2P%     4.116444\n",
       "3       GS     3.556087\n",
       "25      PF     3.075280\n",
       "22     STL     2.571860\n",
       "23     BLK     2.378908\n",
       "17     FT%     2.192007\n",
       "10     3P%     2.185635\n",
       "2        G     1.627709\n",
       "1      Age     1.119090"
      ]
     },
     "execution_count": 10,
     "metadata": {},
     "output_type": "execute_result"
    }
   ],
   "source": [
    "# Analyzing Variance Inflation Factor\n",
    "from statsmodels.stats.outliers_influence import variance_inflation_factor\n",
    "from statsmodels.tools.tools import add_constant\n",
    "\n",
    "# analyze VIF for training data (2017-2018)\n",
    "x_train_vif = nba_2017_2018.iloc[:, 1:-1]\n",
    "X = add_constant(x_train_vif)\n",
    "vif_data = pd.DataFrame()\n",
    "vif_data[\"feature\"] = X.columns\n",
    "\n",
    "for i in range(len(X.columns)):\n",
    "    vif_data.loc[i,'VIF'] = variance_inflation_factor(X.values, i)\n",
    "\n",
    "# delete columns with high VIF values \n",
    "test_vif = vif_data.sort_values(by = 'VIF', ascending = False) \n",
    "test_vif"
   ]
  },
  {
   "cell_type": "code",
   "execution_count": 11,
   "id": "faed6b1f",
   "metadata": {},
   "outputs": [
    {
     "data": {
      "text/html": [
       "<div>\n",
       "<style scoped>\n",
       "    .dataframe tbody tr th:only-of-type {\n",
       "        vertical-align: middle;\n",
       "    }\n",
       "\n",
       "    .dataframe tbody tr th {\n",
       "        vertical-align: top;\n",
       "    }\n",
       "\n",
       "    .dataframe thead th {\n",
       "        text-align: right;\n",
       "    }\n",
       "</style>\n",
       "<table border=\"1\" class=\"dataframe\">\n",
       "  <thead>\n",
       "    <tr style=\"text-align: right;\">\n",
       "      <th></th>\n",
       "      <th>Player</th>\n",
       "      <th>Age</th>\n",
       "      <th>G</th>\n",
       "      <th>GS</th>\n",
       "      <th>MP</th>\n",
       "      <th>FG</th>\n",
       "      <th>FGA</th>\n",
       "      <th>FG%</th>\n",
       "      <th>3P</th>\n",
       "      <th>3PA</th>\n",
       "      <th>...</th>\n",
       "      <th>ORB</th>\n",
       "      <th>DRB</th>\n",
       "      <th>TRB</th>\n",
       "      <th>AST</th>\n",
       "      <th>STL</th>\n",
       "      <th>BLK</th>\n",
       "      <th>TOV</th>\n",
       "      <th>PF</th>\n",
       "      <th>PTS</th>\n",
       "      <th>AS_NY</th>\n",
       "    </tr>\n",
       "  </thead>\n",
       "  <tbody>\n",
       "    <tr>\n",
       "      <th>0</th>\n",
       "      <td>Luke Babbitt</td>\n",
       "      <td>28</td>\n",
       "      <td>50</td>\n",
       "      <td>14</td>\n",
       "      <td>14.3</td>\n",
       "      <td>1.8</td>\n",
       "      <td>4.3</td>\n",
       "      <td>42.3</td>\n",
       "      <td>1.2</td>\n",
       "      <td>3.1</td>\n",
       "      <td>...</td>\n",
       "      <td>0.1</td>\n",
       "      <td>1.8</td>\n",
       "      <td>1.9</td>\n",
       "      <td>0.6</td>\n",
       "      <td>0.2</td>\n",
       "      <td>0.1</td>\n",
       "      <td>0.4</td>\n",
       "      <td>1.1</td>\n",
       "      <td>5.2</td>\n",
       "      <td>0</td>\n",
       "    </tr>\n",
       "    <tr>\n",
       "      <th>1</th>\n",
       "      <td>Marco Belinelli</td>\n",
       "      <td>31</td>\n",
       "      <td>80</td>\n",
       "      <td>2</td>\n",
       "      <td>24.3</td>\n",
       "      <td>4.2</td>\n",
       "      <td>9.6</td>\n",
       "      <td>44.1</td>\n",
       "      <td>1.9</td>\n",
       "      <td>4.9</td>\n",
       "      <td>...</td>\n",
       "      <td>0.3</td>\n",
       "      <td>1.6</td>\n",
       "      <td>1.9</td>\n",
       "      <td>1.9</td>\n",
       "      <td>0.8</td>\n",
       "      <td>0.2</td>\n",
       "      <td>1.2</td>\n",
       "      <td>1.1</td>\n",
       "      <td>12.1</td>\n",
       "      <td>0</td>\n",
       "    </tr>\n",
       "    <tr>\n",
       "      <th>2</th>\n",
       "      <td>Eric Bledsoe</td>\n",
       "      <td>28</td>\n",
       "      <td>74</td>\n",
       "      <td>74</td>\n",
       "      <td>31.4</td>\n",
       "      <td>6.3</td>\n",
       "      <td>13.4</td>\n",
       "      <td>47.3</td>\n",
       "      <td>1.7</td>\n",
       "      <td>4.9</td>\n",
       "      <td>...</td>\n",
       "      <td>0.7</td>\n",
       "      <td>3.1</td>\n",
       "      <td>3.8</td>\n",
       "      <td>5.0</td>\n",
       "      <td>2.0</td>\n",
       "      <td>0.6</td>\n",
       "      <td>2.9</td>\n",
       "      <td>2.5</td>\n",
       "      <td>17.7</td>\n",
       "      <td>0</td>\n",
       "    </tr>\n",
       "    <tr>\n",
       "      <th>3</th>\n",
       "      <td>Trevor Booker</td>\n",
       "      <td>30</td>\n",
       "      <td>68</td>\n",
       "      <td>7</td>\n",
       "      <td>17.0</td>\n",
       "      <td>2.6</td>\n",
       "      <td>5.0</td>\n",
       "      <td>51.6</td>\n",
       "      <td>0.1</td>\n",
       "      <td>0.5</td>\n",
       "      <td>...</td>\n",
       "      <td>1.7</td>\n",
       "      <td>3.0</td>\n",
       "      <td>4.7</td>\n",
       "      <td>1.2</td>\n",
       "      <td>0.4</td>\n",
       "      <td>0.3</td>\n",
       "      <td>0.9</td>\n",
       "      <td>1.8</td>\n",
       "      <td>6.3</td>\n",
       "      <td>0</td>\n",
       "    </tr>\n",
       "    <tr>\n",
       "      <th>4</th>\n",
       "      <td>Avery Bradley</td>\n",
       "      <td>27</td>\n",
       "      <td>46</td>\n",
       "      <td>46</td>\n",
       "      <td>31.2</td>\n",
       "      <td>5.6</td>\n",
       "      <td>13.6</td>\n",
       "      <td>41.4</td>\n",
       "      <td>1.6</td>\n",
       "      <td>4.4</td>\n",
       "      <td>...</td>\n",
       "      <td>0.5</td>\n",
       "      <td>2.0</td>\n",
       "      <td>2.5</td>\n",
       "      <td>2.0</td>\n",
       "      <td>1.1</td>\n",
       "      <td>0.2</td>\n",
       "      <td>2.2</td>\n",
       "      <td>2.0</td>\n",
       "      <td>14.3</td>\n",
       "      <td>0</td>\n",
       "    </tr>\n",
       "    <tr>\n",
       "      <th>...</th>\n",
       "      <td>...</td>\n",
       "      <td>...</td>\n",
       "      <td>...</td>\n",
       "      <td>...</td>\n",
       "      <td>...</td>\n",
       "      <td>...</td>\n",
       "      <td>...</td>\n",
       "      <td>...</td>\n",
       "      <td>...</td>\n",
       "      <td>...</td>\n",
       "      <td>...</td>\n",
       "      <td>...</td>\n",
       "      <td>...</td>\n",
       "      <td>...</td>\n",
       "      <td>...</td>\n",
       "      <td>...</td>\n",
       "      <td>...</td>\n",
       "      <td>...</td>\n",
       "      <td>...</td>\n",
       "      <td>...</td>\n",
       "      <td>...</td>\n",
       "    </tr>\n",
       "    <tr>\n",
       "      <th>409</th>\n",
       "      <td>Thaddeus Young</td>\n",
       "      <td>29</td>\n",
       "      <td>81</td>\n",
       "      <td>81</td>\n",
       "      <td>32.2</td>\n",
       "      <td>5.2</td>\n",
       "      <td>10.7</td>\n",
       "      <td>48.7</td>\n",
       "      <td>0.7</td>\n",
       "      <td>2.2</td>\n",
       "      <td>...</td>\n",
       "      <td>2.3</td>\n",
       "      <td>4.0</td>\n",
       "      <td>6.3</td>\n",
       "      <td>1.9</td>\n",
       "      <td>1.7</td>\n",
       "      <td>0.4</td>\n",
       "      <td>1.3</td>\n",
       "      <td>2.2</td>\n",
       "      <td>11.8</td>\n",
       "      <td>0</td>\n",
       "    </tr>\n",
       "    <tr>\n",
       "      <th>410</th>\n",
       "      <td>Cody Zeller</td>\n",
       "      <td>25</td>\n",
       "      <td>33</td>\n",
       "      <td>0</td>\n",
       "      <td>19.0</td>\n",
       "      <td>2.6</td>\n",
       "      <td>4.7</td>\n",
       "      <td>54.5</td>\n",
       "      <td>0.1</td>\n",
       "      <td>0.1</td>\n",
       "      <td>...</td>\n",
       "      <td>2.0</td>\n",
       "      <td>3.3</td>\n",
       "      <td>5.4</td>\n",
       "      <td>0.9</td>\n",
       "      <td>0.4</td>\n",
       "      <td>0.6</td>\n",
       "      <td>1.0</td>\n",
       "      <td>2.5</td>\n",
       "      <td>7.1</td>\n",
       "      <td>0</td>\n",
       "    </tr>\n",
       "    <tr>\n",
       "      <th>411</th>\n",
       "      <td>Paul Zipser</td>\n",
       "      <td>23</td>\n",
       "      <td>54</td>\n",
       "      <td>12</td>\n",
       "      <td>15.3</td>\n",
       "      <td>1.5</td>\n",
       "      <td>4.3</td>\n",
       "      <td>34.6</td>\n",
       "      <td>0.7</td>\n",
       "      <td>2.0</td>\n",
       "      <td>...</td>\n",
       "      <td>0.2</td>\n",
       "      <td>2.2</td>\n",
       "      <td>2.4</td>\n",
       "      <td>0.9</td>\n",
       "      <td>0.4</td>\n",
       "      <td>0.3</td>\n",
       "      <td>0.8</td>\n",
       "      <td>1.6</td>\n",
       "      <td>4.0</td>\n",
       "      <td>0</td>\n",
       "    </tr>\n",
       "    <tr>\n",
       "      <th>412</th>\n",
       "      <td>Ante _i_ià</td>\n",
       "      <td>21</td>\n",
       "      <td>32</td>\n",
       "      <td>2</td>\n",
       "      <td>6.7</td>\n",
       "      <td>1.5</td>\n",
       "      <td>2.1</td>\n",
       "      <td>73.1</td>\n",
       "      <td>0.0</td>\n",
       "      <td>0.0</td>\n",
       "      <td>...</td>\n",
       "      <td>0.8</td>\n",
       "      <td>1.1</td>\n",
       "      <td>1.9</td>\n",
       "      <td>0.2</td>\n",
       "      <td>0.1</td>\n",
       "      <td>0.4</td>\n",
       "      <td>0.3</td>\n",
       "      <td>0.9</td>\n",
       "      <td>3.7</td>\n",
       "      <td>0</td>\n",
       "    </tr>\n",
       "    <tr>\n",
       "      <th>413</th>\n",
       "      <td>Ivica Zubac</td>\n",
       "      <td>20</td>\n",
       "      <td>43</td>\n",
       "      <td>0</td>\n",
       "      <td>9.5</td>\n",
       "      <td>1.4</td>\n",
       "      <td>2.8</td>\n",
       "      <td>50.0</td>\n",
       "      <td>0.0</td>\n",
       "      <td>0.0</td>\n",
       "      <td>...</td>\n",
       "      <td>1.0</td>\n",
       "      <td>1.8</td>\n",
       "      <td>2.9</td>\n",
       "      <td>0.6</td>\n",
       "      <td>0.2</td>\n",
       "      <td>0.3</td>\n",
       "      <td>0.6</td>\n",
       "      <td>1.1</td>\n",
       "      <td>3.7</td>\n",
       "      <td>0</td>\n",
       "    </tr>\n",
       "  </tbody>\n",
       "</table>\n",
       "<p>414 rows × 28 columns</p>\n",
       "</div>"
      ],
      "text/plain": [
       "              Player  Age   G  GS    MP   FG   FGA   FG%   3P  3PA  ...  ORB  \\\n",
       "0       Luke Babbitt   28  50  14  14.3  1.8   4.3  42.3  1.2  3.1  ...  0.1   \n",
       "1    Marco Belinelli   31  80   2  24.3  4.2   9.6  44.1  1.9  4.9  ...  0.3   \n",
       "2       Eric Bledsoe   28  74  74  31.4  6.3  13.4  47.3  1.7  4.9  ...  0.7   \n",
       "3      Trevor Booker   30  68   7  17.0  2.6   5.0  51.6  0.1  0.5  ...  1.7   \n",
       "4      Avery Bradley   27  46  46  31.2  5.6  13.6  41.4  1.6  4.4  ...  0.5   \n",
       "..               ...  ...  ..  ..   ...  ...   ...   ...  ...  ...  ...  ...   \n",
       "409   Thaddeus Young   29  81  81  32.2  5.2  10.7  48.7  0.7  2.2  ...  2.3   \n",
       "410      Cody Zeller   25  33   0  19.0  2.6   4.7  54.5  0.1  0.1  ...  2.0   \n",
       "411      Paul Zipser   23  54  12  15.3  1.5   4.3  34.6  0.7  2.0  ...  0.2   \n",
       "412    Ante _i_ià   21  32   2   6.7  1.5   2.1  73.1  0.0  0.0  ...  0.8   \n",
       "413      Ivica Zubac   20  43   0   9.5  1.4   2.8  50.0  0.0  0.0  ...  1.0   \n",
       "\n",
       "     DRB  TRB  AST  STL  BLK  TOV   PF   PTS  AS_NY  \n",
       "0    1.8  1.9  0.6  0.2  0.1  0.4  1.1   5.2      0  \n",
       "1    1.6  1.9  1.9  0.8  0.2  1.2  1.1  12.1      0  \n",
       "2    3.1  3.8  5.0  2.0  0.6  2.9  2.5  17.7      0  \n",
       "3    3.0  4.7  1.2  0.4  0.3  0.9  1.8   6.3      0  \n",
       "4    2.0  2.5  2.0  1.1  0.2  2.2  2.0  14.3      0  \n",
       "..   ...  ...  ...  ...  ...  ...  ...   ...    ...  \n",
       "409  4.0  6.3  1.9  1.7  0.4  1.3  2.2  11.8      0  \n",
       "410  3.3  5.4  0.9  0.4  0.6  1.0  2.5   7.1      0  \n",
       "411  2.2  2.4  0.9  0.4  0.3  0.8  1.6   4.0      0  \n",
       "412  1.1  1.9  0.2  0.1  0.4  0.3  0.9   3.7      0  \n",
       "413  1.8  2.9  0.6  0.2  0.3  0.6  1.1   3.7      0  \n",
       "\n",
       "[414 rows x 28 columns]"
      ]
     },
     "execution_count": 11,
     "metadata": {},
     "output_type": "execute_result"
    }
   ],
   "source": [
    "nba_2017_2018"
   ]
  },
  {
   "cell_type": "code",
   "execution_count": 26,
   "id": "c5f749bd",
   "metadata": {},
   "outputs": [
    {
     "data": {
      "text/html": [
       "<div>\n",
       "<style scoped>\n",
       "    .dataframe tbody tr th:only-of-type {\n",
       "        vertical-align: middle;\n",
       "    }\n",
       "\n",
       "    .dataframe tbody tr th {\n",
       "        vertical-align: top;\n",
       "    }\n",
       "\n",
       "    .dataframe thead th {\n",
       "        text-align: right;\n",
       "    }\n",
       "</style>\n",
       "<table border=\"1\" class=\"dataframe\">\n",
       "  <thead>\n",
       "    <tr style=\"text-align: right;\">\n",
       "      <th></th>\n",
       "      <th>feature</th>\n",
       "      <th>VIF</th>\n",
       "    </tr>\n",
       "  </thead>\n",
       "  <tbody>\n",
       "    <tr>\n",
       "      <th>0</th>\n",
       "      <td>const</td>\n",
       "      <td>170.782310</td>\n",
       "    </tr>\n",
       "    <tr>\n",
       "      <th>4</th>\n",
       "      <td>MP</td>\n",
       "      <td>12.043264</td>\n",
       "    </tr>\n",
       "    <tr>\n",
       "      <th>17</th>\n",
       "      <td>TOV</td>\n",
       "      <td>9.773210</td>\n",
       "    </tr>\n",
       "    <tr>\n",
       "      <th>7</th>\n",
       "      <td>2PA</td>\n",
       "      <td>6.726536</td>\n",
       "    </tr>\n",
       "    <tr>\n",
       "      <th>14</th>\n",
       "      <td>AST</td>\n",
       "      <td>5.237874</td>\n",
       "    </tr>\n",
       "    <tr>\n",
       "      <th>12</th>\n",
       "      <td>ORB</td>\n",
       "      <td>4.950500</td>\n",
       "    </tr>\n",
       "    <tr>\n",
       "      <th>10</th>\n",
       "      <td>FTA</td>\n",
       "      <td>4.866100</td>\n",
       "    </tr>\n",
       "    <tr>\n",
       "      <th>13</th>\n",
       "      <td>DRB</td>\n",
       "      <td>4.778829</td>\n",
       "    </tr>\n",
       "    <tr>\n",
       "      <th>5</th>\n",
       "      <td>3PA</td>\n",
       "      <td>4.620784</td>\n",
       "    </tr>\n",
       "    <tr>\n",
       "      <th>3</th>\n",
       "      <td>GS</td>\n",
       "      <td>3.395546</td>\n",
       "    </tr>\n",
       "    <tr>\n",
       "      <th>18</th>\n",
       "      <td>PF</td>\n",
       "      <td>2.944887</td>\n",
       "    </tr>\n",
       "    <tr>\n",
       "      <th>15</th>\n",
       "      <td>STL</td>\n",
       "      <td>2.553653</td>\n",
       "    </tr>\n",
       "    <tr>\n",
       "      <th>9</th>\n",
       "      <td>eFG%</td>\n",
       "      <td>2.459167</td>\n",
       "    </tr>\n",
       "    <tr>\n",
       "      <th>8</th>\n",
       "      <td>2P%</td>\n",
       "      <td>2.408303</td>\n",
       "    </tr>\n",
       "    <tr>\n",
       "      <th>16</th>\n",
       "      <td>BLK</td>\n",
       "      <td>2.317249</td>\n",
       "    </tr>\n",
       "    <tr>\n",
       "      <th>6</th>\n",
       "      <td>3P%</td>\n",
       "      <td>1.641214</td>\n",
       "    </tr>\n",
       "    <tr>\n",
       "      <th>2</th>\n",
       "      <td>G</td>\n",
       "      <td>1.589040</td>\n",
       "    </tr>\n",
       "    <tr>\n",
       "      <th>11</th>\n",
       "      <td>FT%</td>\n",
       "      <td>1.408908</td>\n",
       "    </tr>\n",
       "    <tr>\n",
       "      <th>1</th>\n",
       "      <td>Age</td>\n",
       "      <td>1.096407</td>\n",
       "    </tr>\n",
       "  </tbody>\n",
       "</table>\n",
       "</div>"
      ],
      "text/plain": [
       "   feature         VIF\n",
       "0    const  170.782310\n",
       "4       MP   12.043264\n",
       "17     TOV    9.773210\n",
       "7      2PA    6.726536\n",
       "14     AST    5.237874\n",
       "12     ORB    4.950500\n",
       "10     FTA    4.866100\n",
       "13     DRB    4.778829\n",
       "5      3PA    4.620784\n",
       "3       GS    3.395546\n",
       "18      PF    2.944887\n",
       "15     STL    2.553653\n",
       "9     eFG%    2.459167\n",
       "8      2P%    2.408303\n",
       "16     BLK    2.317249\n",
       "6      3P%    1.641214\n",
       "2        G    1.589040\n",
       "11     FT%    1.408908\n",
       "1      Age    1.096407"
      ]
     },
     "execution_count": 26,
     "metadata": {},
     "output_type": "execute_result"
    }
   ],
   "source": [
    "# Analyzing Variance Inflation Factor\n",
    "from statsmodels.stats.outliers_influence import variance_inflation_factor\n",
    "from statsmodels.tools.tools import add_constant\n",
    "\n",
    "# analyze VIF for training data (2017-2018)\n",
    "x_train_vif = nba_2017_2018.iloc[:, 1:-1]\n",
    "x_train_vif = x_train_vif.drop(['FGA', 'PTS', 'TRB', 'FG', '2P', 'FT', '3P', 'FG%'], axis = 1)\n",
    "X = add_constant(x_train_vif)\n",
    "vif_data = pd.DataFrame()\n",
    "vif_data[\"feature\"] = X.columns\n",
    "\n",
    "for i in range(len(X.columns)):\n",
    "    vif_data.loc[i,'VIF'] = variance_inflation_factor(X.values, i)\n",
    "\n",
    "# delete columns with high VIF values \n",
    "test_vif = vif_data.sort_values(by = 'VIF', ascending = False) \n",
    "test_vif"
   ]
  },
  {
   "cell_type": "markdown",
   "id": "acab331a",
   "metadata": {
    "id": "acab331a"
   },
   "source": [
    "## Developing the model: Hyperparameter tuning"
   ]
  },
  {
   "cell_type": "markdown",
   "id": "ae5ec4c9",
   "metadata": {
    "id": "ae5ec4c9"
   },
   "source": [
    "Put code with comments. The comments should explain the code such that it can be easily understood. You may put text *(in a markdown cell)* before a large chunk of code to explain the overall purpose of the code, if it is not intuitive. **Put the name of the person / persons who contributed to each code chunk / set of code chunks.**\n",
    "\n",
    "Put each model in a section of its name and mention the name of the team-member tuning the model. Below is an example:"
   ]
  },
  {
   "cell_type": "markdown",
   "id": "21bc9dcc",
   "metadata": {
    "id": "21bc9dcc"
   },
   "source": [
    "### Lasso, Ridge & Catboost\n",
    "*By Sylvia Sherwood*"
   ]
  },
  {
   "cell_type": "markdown",
   "id": "a67c9ff7",
   "metadata": {
    "id": "a67c9ff7"
   },
   "source": [
    "### MARS, AdaBoost & LightGBM\n",
    "*By Sankaranarayanan Balasubramanian*"
   ]
  },
  {
   "cell_type": "markdown",
   "id": "017ca069",
   "metadata": {
    "id": "017ca069"
   },
   "source": [
    "### Bagged trees & Random forest\n",
    "*By Fiona Fe*"
   ]
  },
  {
   "cell_type": "markdown",
   "id": "8182968b",
   "metadata": {
    "id": "8182968b"
   },
   "source": [
    "### XGBoost\n",
    "*By Ryu Kimiko*"
   ]
  },
  {
   "cell_type": "markdown",
   "id": "a221dcc6",
   "metadata": {
    "id": "a221dcc6"
   },
   "source": [
    "## Model Ensemble "
   ]
  },
  {
   "cell_type": "markdown",
   "id": "9dc8b3d9",
   "metadata": {
    "id": "9dc8b3d9"
   },
   "source": [
    "Put code with comments. The comments should explain the code such that it can be easily understood. You may put text *(in a markdown cell)* before a large chunk of code to explain the overall purpose of the code, if it is not intuitive. **Put the name of the person / persons who contributed to each code chunk / set of code chunks.**\n"
   ]
  },
  {
   "cell_type": "markdown",
   "id": "961bcb1d",
   "metadata": {
    "id": "961bcb1d"
   },
   "source": [
    "### Voting ensemble"
   ]
  },
  {
   "cell_type": "markdown",
   "id": "ca651ba0",
   "metadata": {
    "id": "ca651ba0"
   },
   "source": [
    "### Stacking ensemble(s)"
   ]
  },
  {
   "cell_type": "markdown",
   "id": "ddff3adf",
   "metadata": {
    "id": "ddff3adf"
   },
   "source": [
    "### Ensemble of ensembled models"
   ]
  },
  {
   "cell_type": "markdown",
   "id": "3668faab",
   "metadata": {
    "id": "3668faab"
   },
   "source": [
    "### Innovative ensembling methods\n",
    "*(Optional)*"
   ]
  },
  {
   "cell_type": "markdown",
   "id": "62a185cb",
   "metadata": {
    "id": "62a185cb"
   },
   "source": [
    "## Conclusions and Recommendations to stakeholder(s)\n",
    "\n",
    "You may or may not have code to put in this section. Delete this section if it is irrelevant."
   ]
  }
 ],
 "metadata": {
  "colab": {
   "provenance": []
  },
  "kernelspec": {
   "display_name": "Python 3 (ipykernel)",
   "language": "python",
   "name": "python3"
  },
  "language_info": {
   "codemirror_mode": {
    "name": "ipython",
    "version": 3
   },
   "file_extension": ".py",
   "mimetype": "text/x-python",
   "name": "python",
   "nbconvert_exporter": "python",
   "pygments_lexer": "ipython3",
   "version": "3.9.7"
  }
 },
 "nbformat": 4,
 "nbformat_minor": 5
}
