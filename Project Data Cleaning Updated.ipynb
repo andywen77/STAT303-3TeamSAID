{
 "cells": [
  {
   "cell_type": "code",
   "execution_count": 1,
   "id": "1ddc0503",
   "metadata": {},
   "outputs": [],
   "source": [
    "import pandas as pd\n",
    "import numpy as np\n",
    "import seaborn as sns\n",
    "import matplotlib.pyplot as plt\n",
    "from sklearn.metrics import mean_squared_error\n",
    "from sklearn.model_selection import cross_val_score,train_test_split, KFold, cross_val_predict\n",
    "from sklearn.metrics import mean_squared_error,r2_score,roc_curve,auc,precision_recall_curve, accuracy_score, \\\n",
    "recall_score, precision_score, confusion_matrix, make_scorer\n",
    "from sklearn.tree import DecisionTreeRegressor,DecisionTreeClassifier\n",
    "from sklearn.model_selection import GridSearchCV, ParameterGrid, StratifiedKFold, RandomizedSearchCV\n",
    "from sklearn.ensemble import VotingRegressor, VotingClassifier, StackingRegressor, StackingClassifier, GradientBoostingRegressor,GradientBoostingClassifier, BaggingRegressor,BaggingClassifier,RandomForestRegressor,RandomForestClassifier,AdaBoostRegressor,AdaBoostClassifier\n",
    "from sklearn.linear_model import LinearRegression,LogisticRegression, LassoCV, RidgeCV, ElasticNetCV\n",
    "from sklearn.neighbors import KNeighborsRegressor\n",
    "import itertools as it\n",
    "import time as time\n",
    "import xgboost as xgb\n",
    "from pyearth import Earth"
   ]
  },
  {
   "cell_type": "code",
   "execution_count": 3,
   "id": "4f5849be",
   "metadata": {},
   "outputs": [],
   "source": [
    "nba_2017_2018 = pd.read_csv('archive-2/NBA Players Stats 201718.csv')\n",
    "nba_2017_2018 = nba_2017_2018.drop(columns=['Rk','Tm', 'Pos'], axis=1)\n",
    "nba_2017_2018['Player'] = nba_2017_2018['Player'].str.split('\\\\').str[0]\n",
    "nba_2017_2018.fillna(0, inplace=True)\n",
    "nba_2017_2018 = nba_2017_2018[nba_2017_2018['G'] >= 20]\n",
    "cols_to_keep = ['Player', 'Age', 'G', 'GS', 'MP', 'FG', 'FGA', 'FG%', '3P',\n",
    "                '3PA', '3P%', '2P', '2PA', '2P%', 'eFG%', 'FT', 'FTA', 'FT%', 'ORB',\n",
    "                'DRB', 'TRB', 'AST', 'STL', 'BLK', 'TOV', 'PF', 'PTS']\n",
    "\n",
    "# Group the data by player and calculate the weighted average and sum of the other columns\n",
    "nba_2017_2018 = nba_2017_2018.groupby(['Player', 'Age'])[cols_to_keep].agg({'G': 'sum', 'GS': 'sum', \n",
    "                                                                                     'MP': lambda x: np.average(x, weights=nba_2017_2018.loc[x.index, 'G']), \n",
    "                                                                                     'FG': lambda x: np.average(x, weights=nba_2017_2018.loc[x.index, 'G']), \n",
    "                                                                                     'FGA': lambda x: np.average(x, weights=nba_2017_2018.loc[x.index, 'G']), \n",
    "                                                                                     'FG%': lambda x: np.average(x, weights=nba_2017_2018.loc[x.index, 'G']), \n",
    "                                                                                     '3P': lambda x: np.average(x, weights=nba_2017_2018.loc[x.index, 'G']), \n",
    "                                                                                     '3PA': lambda x: np.average(x, weights=nba_2017_2018.loc[x.index, 'G']), \n",
    "                                                                                     '3P%': lambda x: np.average(x, weights=nba_2017_2018.loc[x.index, 'G']), \n",
    "                                                                                     '2P': lambda x: np.average(x, weights=nba_2017_2018.loc[x.index, 'G']), \n",
    "                                                                                     '2PA': lambda x: np.average(x, weights=nba_2017_2018.loc[x.index, 'G']), \n",
    "                                                                                     '2P%': lambda x: np.average(x, weights=nba_2017_2018.loc[x.index, 'G']), \n",
    "                                                                                     'eFG%': lambda x: np.average(x, weights=nba_2017_2018.loc[x.index, 'G']), \n",
    "                                                                                     'FT': lambda x: np.average(x, weights=nba_2017_2018.loc[x.index, 'G']), \n",
    "                                                                                     'FTA': lambda x: np.average(x, weights=nba_2017_2018.loc[x.index, 'G']), \n",
    "                                                                                     'FT%': lambda x: np.average(x, weights=nba_2017_2018.loc[x.index, 'G']), \n",
    "                                                                                     'ORB': lambda x: np.average(x, weights=nba_2017_2018.loc[x.index, 'G']), \n",
    "                                                                                     'DRB': lambda x: np.average(x, weights=nba_2017_2018.loc[x.index, 'G']), \n",
    "                                                                                     'TRB': lambda x: np.average(x, weights=nba_2017_2018.loc[x.index, 'G']), \n",
    "                                                                                     'AST': lambda x: np.average(x, weights=nba_2017_2018.loc[x.index, 'G']), \n",
    "                                                                                     'STL': lambda x: np.average(x, weights=nba_2017_2018.loc[x.index, 'G']),\n",
    "                                                                                     'BLK': lambda x: np.average(x, weights=nba_2017_2018.loc[x.index, 'G']),\n",
    "                                                                                     'TOV': lambda x: np.average(x, weights=nba_2017_2018.loc[x.index, 'G']),\n",
    "                                                                                     'PF': lambda x: np.average(x, weights=nba_2017_2018.loc[x.index, 'G']),\n",
    "                                                                                     'PTS': lambda x: np.average(x, weights=nba_2017_2018.loc[x.index, 'G'])}).reset_index()\n",
    "\n",
    "percentage_columns = ['FG%', '3P%', '2P%', 'eFG%', 'FT%']\n",
    "for col in percentage_columns:\n",
    "    nba_2017_2018[col] = nba_2017_2018[col] * 100\n",
    "\n",
    "nba_2017_2018 = nba_2017_2018.round(2)\n",
    "\n",
    "all_star_list = ['Kemba Walker', 'Kyrie Irving', 'Kawhi Leonard', 'Giannis Antetokounmpo', \n",
    "                'Joel Embiid', 'Kyle Lowry', 'Victor Oladipo', 'Khris Middleton', 'Bradley Beal',\n",
    "                'Ben Simmons', 'Blake Griffin', 'Nikola Vučević', \"D'Angelo Russell\",\n",
    "                'Stephen Curry', 'James Harden', 'Kevin Durant', 'Paul George', 'LeBron James',\n",
    "                'Russell Westbrook', 'Damian Lillard', 'Klay Thompson', 'Anthony Davis', \n",
    "                'LaMarcus Aldridge', 'DeMarcus Cousins', 'Nikola Jokić', 'Karl-Anthony Towns']\n",
    "nba_2017_2018['AS_NY'] = nba_2017_2018['Player'].apply(lambda x: 1 if x in all_star_list else 0)"
   ]
  },
  {
   "cell_type": "code",
   "execution_count": null,
   "id": "5a5ad615",
   "metadata": {},
   "outputs": [],
   "source": [
    "nba_2017_2018"
   ]
  },
  {
   "cell_type": "code",
   "execution_count": 4,
   "id": "778df609",
   "metadata": {},
   "outputs": [],
   "source": [
    "nba_2018_2019 = pd.read_csv('archive-2/NBA Players Stats 201819.csv')\n",
    "nba_2018_2019 = nba_2018_2019.drop(columns=['Rk','Tm','Pos'], axis=1)\n",
    "nba_2018_2019['Player'] = nba_2018_2019['Player'].str.split('\\\\').str[0]\n",
    "nba_2018_2019.fillna(0, inplace=True)\n",
    "nba_2018_2019 = nba_2018_2019[nba_2018_2019['G'] >= 20]\n",
    "cols_to_keep = ['Player', 'Age', 'G', 'GS', 'MP', 'FG', 'FGA', 'FG%', '3P',\n",
    "                '3PA', '3P%', '2P', '2PA', '2P%', 'eFG%', 'FT', 'FTA', 'FT%', 'ORB',\n",
    "                'DRB', 'TRB', 'AST', 'STL', 'BLK', 'TOV', 'PF', 'PTS']\n",
    "\n",
    "# Group the data by player and calculate the weighted average and sum of the other columns\n",
    "nba_2018_2019 = nba_2018_2019.groupby(['Player', 'Age'])[cols_to_keep].agg({'G': 'sum', 'GS': 'sum', \n",
    "                                                                                     'MP': lambda x: np.average(x, weights=nba_2018_2019.loc[x.index, 'G']), \n",
    "                                                                                     'FG': lambda x: np.average(x, weights=nba_2018_2019.loc[x.index, 'G']), \n",
    "                                                                                     'FGA': lambda x: np.average(x, weights=nba_2018_2019.loc[x.index, 'G']), \n",
    "                                                                                     'FG%': lambda x: np.average(x, weights=nba_2018_2019.loc[x.index, 'G']), \n",
    "                                                                                     '3P': lambda x: np.average(x, weights=nba_2018_2019.loc[x.index, 'G']), \n",
    "                                                                                     '3PA': lambda x: np.average(x, weights=nba_2018_2019.loc[x.index, 'G']), \n",
    "                                                                                     '3P%': lambda x: np.average(x, weights=nba_2018_2019.loc[x.index, 'G']), \n",
    "                                                                                     '2P': lambda x: np.average(x, weights=nba_2018_2019.loc[x.index, 'G']), \n",
    "                                                                                     '2PA': lambda x: np.average(x, weights=nba_2018_2019.loc[x.index, 'G']), \n",
    "                                                                                     '2P%': lambda x: np.average(x, weights=nba_2018_2019.loc[x.index, 'G']), \n",
    "                                                                                     'eFG%': lambda x: np.average(x, weights=nba_2018_2019.loc[x.index, 'G']), \n",
    "                                                                                     'FT': lambda x: np.average(x, weights=nba_2018_2019.loc[x.index, 'G']), \n",
    "                                                                                     'FTA': lambda x: np.average(x, weights=nba_2018_2019.loc[x.index, 'G']), \n",
    "                                                                                     'FT%': lambda x: np.average(x, weights=nba_2018_2019.loc[x.index, 'G']), \n",
    "                                                                                     'ORB': lambda x: np.average(x, weights=nba_2018_2019.loc[x.index, 'G']), \n",
    "                                                                                     'DRB': lambda x: np.average(x, weights=nba_2018_2019.loc[x.index, 'G']), \n",
    "                                                                                     'TRB': lambda x: np.average(x, weights=nba_2018_2019.loc[x.index, 'G']), \n",
    "                                                                                     'AST': lambda x: np.average(x, weights=nba_2018_2019.loc[x.index, 'G']), \n",
    "                                                                                     'STL': lambda x: np.average(x, weights=nba_2018_2019.loc[x.index, 'G']),\n",
    "                                                                                     'BLK': lambda x: np.average(x, weights=nba_2018_2019.loc[x.index, 'G']),\n",
    "                                                                                     'TOV': lambda x: np.average(x, weights=nba_2018_2019.loc[x.index, 'G']),\n",
    "                                                                                     'PF': lambda x: np.average(x, weights=nba_2018_2019.loc[x.index, 'G']),\n",
    "                                                                                     'PTS': lambda x: np.average(x, weights=nba_2018_2019.loc[x.index, 'G'])}).reset_index()\n",
    "\n",
    "percentage_columns = ['FG%', '3P%', '2P%', 'eFG%', 'FT%']\n",
    "for col in percentage_columns:\n",
    "    nba_2018_2019[col] = nba_2018_2019[col] * 100\n",
    "\n",
    "\n",
    "nba_2018_2019 = nba_2018_2019.round(2)\n",
    "\n",
    "all_star_list = ['Kemba Walker', 'Trae Young', 'Giannis Antetokounmpo', 'Pascal Siakam', 'Joel Embiid',\n",
    "                'Kyle Lowry', 'Ben Simmons', 'Jimmy Butler', 'Khris Middleton', 'Bam Adebayo', \n",
    "                'Jayson Tatum', 'Domantas Sabonis', 'James Harden', 'Luka Dončić', 'LeBron James',\n",
    "                'Kawhi Leonard', 'Anthony Davis', 'Chris Paul', 'Russell Westbrook', 'Damian Lillard', \n",
    "                'Donovan Mitchell', 'Brandon Ingram', 'Nikola Jokić', 'Rudy Gobert', 'Devin Booker']\n",
    "nba_2018_2019['AS_NY'] = nba_2018_2019['Player'].apply(lambda x: 1 if x in all_star_list else 0)"
   ]
  },
  {
   "cell_type": "code",
   "execution_count": null,
   "id": "6dff2057",
   "metadata": {},
   "outputs": [],
   "source": [
    "nba_2018_2019"
   ]
  },
  {
   "cell_type": "markdown",
   "id": "68320df5",
   "metadata": {},
   "source": [
    "**Naive Model**"
   ]
  },
  {
   "cell_type": "code",
   "execution_count": null,
   "id": "0853fad3",
   "metadata": {},
   "outputs": [],
   "source": [
    "X_train = nba_2017_2018.drop(['Player', 'AS_NY'], axis=1) \n",
    "y_train = nba_2017_2018['AS_NY']  \n",
    "\n",
    "X_test = nba_2018_2019.drop(['Player', 'AS_NY'], axis=1)  \n",
    "y_test = nba_2018_2019['AS_NY']  \n",
    "\n",
    "y_pred = [0] * len(y_test)\n",
    "\n",
    "accuracy = accuracy_score(y_test, y_pred)\n",
    "recall = recall_score(y_test, y_pred)\n",
    "precision = precision_score(y_test, y_pred)\n",
    "confusion_mat = confusion_matrix(y_test, y_pred)\n",
    "\n",
    "print(\"Accuracy:\", accuracy)\n",
    "print(\"Recall:\", recall)\n",
    "print(\"Precision:\", precision)\n",
    "print(\"Confusion Matrix:\")\n",
    "print(confusion_mat)"
   ]
  },
  {
   "cell_type": "markdown",
   "id": "19c1cb6c",
   "metadata": {},
   "source": [
    "**Base Logistic Regression Model**"
   ]
  },
  {
   "cell_type": "code",
   "execution_count": null,
   "id": "1bdc3910",
   "metadata": {},
   "outputs": [],
   "source": [
    "logreg = LogisticRegression(max_iter=10000)\n",
    "logreg.fit(X_train, y_train)\n",
    "\n",
    "y_pred = logreg.predict(X_test)\n",
    "\n",
    "accuracy = accuracy_score(y_test, y_pred)\n",
    "recall = recall_score(y_test, y_pred)\n",
    "precision = precision_score(y_test, y_pred)\n",
    "confusion_mat = confusion_matrix(y_test, y_pred)\n",
    "\n",
    "print(\"Accuracy:\", accuracy)\n",
    "print(\"Recall:\", recall)\n",
    "print(\"Precision:\", precision)\n",
    "print(\"Confusion Matrix:\")\n",
    "print(confusion_mat)"
   ]
  },
  {
   "cell_type": "markdown",
   "id": "84538fb1",
   "metadata": {},
   "source": [
    "**Feature Importances**"
   ]
  },
  {
   "cell_type": "code",
   "execution_count": null,
   "id": "15bd03c0",
   "metadata": {},
   "outputs": [],
   "source": [
    "coefficients = logreg.coef_[0]\n",
    "\n",
    "\n",
    "feature_names = X_train.columns\n",
    "\n",
    "\n",
    "feature_importance = sorted(zip(feature_names, coefficients), key=lambda x: abs(x[1]), reverse=True)\n",
    "\n",
    "\n",
    "df_feature_importance = pd.DataFrame(feature_importance, columns=['Feature', 'Coefficient'])\n",
    "\n",
    "\n",
    "df_feature_importance['Absolute Importance'] = df_feature_importance['Coefficient'].abs()\n",
    "df_feature_importance = df_feature_importance.sort_values(by='Absolute Importance', ascending=False)\n",
    "df_feature_importance"
   ]
  },
  {
   "cell_type": "code",
   "execution_count": null,
   "id": "9a7dd3e4",
   "metadata": {},
   "outputs": [],
   "source": []
  },
  {
   "cell_type": "code",
   "execution_count": null,
   "id": "df7d443b",
   "metadata": {},
   "outputs": [],
   "source": []
  }
 ],
 "metadata": {
  "kernelspec": {
   "display_name": "Python 3 (ipykernel)",
   "language": "python",
   "name": "python3"
  },
  "language_info": {
   "codemirror_mode": {
    "name": "ipython",
    "version": 3
   },
   "file_extension": ".py",
   "mimetype": "text/x-python",
   "name": "python",
   "nbconvert_exporter": "python",
   "pygments_lexer": "ipython3",
   "version": "3.9.7"
  }
 },
 "nbformat": 4,
 "nbformat_minor": 5
}
