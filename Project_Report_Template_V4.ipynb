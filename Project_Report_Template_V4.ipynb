{
  "cells": [
    {
      "cell_type": "raw",
      "id": "33dd6c4c",
      "metadata": {
        "id": "33dd6c4c"
      },
      "source": [
        "---\n",
        "title: \"Project Report\"\n",
        "subtitle: Team SAID\n",
        "author: Shray Vaidya, Izzy Podolsky, Andy Wen, and Davis Johnson \n",
        "date: 05/23/2023\n",
        "number-sections: true\n",
        "abstract: _Can one year's NBA All-Stars be accurately predicted using the regular seasons's data?  This information is vital to casual fans and coaches alike, who can use these insights to shape strategy. This project develops a variety of decision-tree based models -- bagging, random forest, gradientboost, adaboost, and xgboost -- to attempt to predict NBA All-Stars based on regular-season offensive and defensive metrics. The train dataset was the 2017-18 season and the test dataset was from 2018-19. To minimize FNR, these models optimized for ROC-AUC and accuracy. The resulting models achieved similar accuracy and higher rates of recall than the naive logistic regression model. The most important predictors were offensive statistics, suggesting that being a strong offensive player is the ticket to an All-Star designation_.\n",
        "format: \n",
        "  html:\n",
        "    toc: true\n",
        "    toc-title: Contents\n",
        "    self-contained: true\n",
        "    font-size: 100%\n",
        "    toc-depth: 4\n",
        "    mainfont: serif\n",
        "jupyter: python3\n",
        "---"
      ]
    },
    {
      "cell_type": "markdown",
      "id": "0116f49b",
      "metadata": {
        "id": "0116f49b"
      },
      "source": [
        "## Background / Motivation\n"
      ]
    },
    {
      "cell_type": "markdown",
      "id": "fc3d956b",
      "metadata": {
        "id": "fc3d956b"
      },
      "source": [
        "All of the members of our team enjoy watching basketball, and we thought it would be interesting to see if we could predict which players would be All-Stars based purely on their performance statistics. It seemed like it would be an application of what we've been learning in the classroom to a topic that we find exciting."
      ]
    },
    {
      "cell_type": "markdown",
      "id": "84ff1421",
      "metadata": {
        "id": "84ff1421"
      },
      "source": [
        "## Problem statement \n",
        " "
      ]
    },
    {
      "cell_type": "markdown",
      "id": "25af4482",
      "metadata": {
        "id": "25af4482"
      },
      "source": [
        "While All-Star selections are not a completely perfect judge of the NBA’s best players, having such players on a roster is a necessary prerequisite to winning a championship. Every championship team has had at least one all-star, with 41% of title winners having two all-stars. We aim to investigate how reliable season stats are in predicting future All-Star appearances. All-Star selections are determined by voters who primarily look at stats and we wish to determine their year-to-year carryover.\n"
      ]
    },
    {
      "cell_type": "markdown",
      "id": "38c7b95f",
      "metadata": {
        "id": "38c7b95f"
      },
      "source": [
        "## Data sources\n"
      ]
    },
    {
      "cell_type": "markdown",
      "id": "2430fba6",
      "metadata": {
        "id": "2430fba6"
      },
      "source": [
        "This data provides the regular season stats (points scored, shots taken, etc) for all NBA players during the 2017-2018 (training) and 2018-2019 seasons (test). Some of the data is cumulative (games and games started) while other columns correspond to per game and season averages. \n",
        "\n",
        "Link: https://www.kaggle.com/datasets/abdurahmanmaarouf/nba-players-stats-2016-2017?select=NBA+Players+Stats+201718.csv\n"
      ]
    },
    {
      "cell_type": "markdown",
      "id": "8c255035",
      "metadata": {
        "id": "8c255035"
      },
      "source": [
        "## Stakeholders\n"
      ]
    },
    {
      "cell_type": "markdown",
      "id": "0ea599c5",
      "metadata": {
        "id": "0ea599c5"
      },
      "source": [
        "**NBA Executives:** Having an All-Star is necessary to field a winning team which will in turn create a more profitable franchise. \n",
        "\n",
        "**Agents/Players:** Players can use their stats and All-Star status to communicate their value and lobby for higher-paying contracts. Agents in turn will be able to predict which players will or will not be All-Stars and can renegotiate contracts accordingly."
      ]
    },
    {
      "cell_type": "markdown",
      "id": "fe7ea9bb",
      "metadata": {
        "id": "fe7ea9bb"
      },
      "source": [
        "## Data quality check / cleaning / preparation \n"
      ]
    },
    {
      "cell_type": "code",
      "source": [
        "#| echo: false\n",
        "\n",
        "import pandas as pd\n",
        "import io\n",
        "from google.colab import files\n",
        "uploaded = files.upload()"
      ],
      "metadata": {
        "colab": {
          "base_uri": "https://localhost:8080/",
          "height": 109
        },
        "id": "xSWM-hb_dKEc",
        "outputId": "2031f9fe-a7f5-4bf5-8cc5-ebc64bd77b2d"
      },
      "id": "xSWM-hb_dKEc",
      "execution_count": null,
      "outputs": [
        {
          "output_type": "display_data",
          "data": {
            "text/plain": [
              "<IPython.core.display.HTML object>"
            ],
            "text/html": [
              "\n",
              "     <input type=\"file\" id=\"files-ec257d2e-a86a-42a6-9b0b-394062156779\" name=\"files[]\" multiple disabled\n",
              "        style=\"border:none\" />\n",
              "     <output id=\"result-ec257d2e-a86a-42a6-9b0b-394062156779\">\n",
              "      Upload widget is only available when the cell has been executed in the\n",
              "      current browser session. Please rerun this cell to enable.\n",
              "      </output>\n",
              "      <script>// Copyright 2017 Google LLC\n",
              "//\n",
              "// Licensed under the Apache License, Version 2.0 (the \"License\");\n",
              "// you may not use this file except in compliance with the License.\n",
              "// You may obtain a copy of the License at\n",
              "//\n",
              "//      http://www.apache.org/licenses/LICENSE-2.0\n",
              "//\n",
              "// Unless required by applicable law or agreed to in writing, software\n",
              "// distributed under the License is distributed on an \"AS IS\" BASIS,\n",
              "// WITHOUT WARRANTIES OR CONDITIONS OF ANY KIND, either express or implied.\n",
              "// See the License for the specific language governing permissions and\n",
              "// limitations under the License.\n",
              "\n",
              "/**\n",
              " * @fileoverview Helpers for google.colab Python module.\n",
              " */\n",
              "(function(scope) {\n",
              "function span(text, styleAttributes = {}) {\n",
              "  const element = document.createElement('span');\n",
              "  element.textContent = text;\n",
              "  for (const key of Object.keys(styleAttributes)) {\n",
              "    element.style[key] = styleAttributes[key];\n",
              "  }\n",
              "  return element;\n",
              "}\n",
              "\n",
              "// Max number of bytes which will be uploaded at a time.\n",
              "const MAX_PAYLOAD_SIZE = 100 * 1024;\n",
              "\n",
              "function _uploadFiles(inputId, outputId) {\n",
              "  const steps = uploadFilesStep(inputId, outputId);\n",
              "  const outputElement = document.getElementById(outputId);\n",
              "  // Cache steps on the outputElement to make it available for the next call\n",
              "  // to uploadFilesContinue from Python.\n",
              "  outputElement.steps = steps;\n",
              "\n",
              "  return _uploadFilesContinue(outputId);\n",
              "}\n",
              "\n",
              "// This is roughly an async generator (not supported in the browser yet),\n",
              "// where there are multiple asynchronous steps and the Python side is going\n",
              "// to poll for completion of each step.\n",
              "// This uses a Promise to block the python side on completion of each step,\n",
              "// then passes the result of the previous step as the input to the next step.\n",
              "function _uploadFilesContinue(outputId) {\n",
              "  const outputElement = document.getElementById(outputId);\n",
              "  const steps = outputElement.steps;\n",
              "\n",
              "  const next = steps.next(outputElement.lastPromiseValue);\n",
              "  return Promise.resolve(next.value.promise).then((value) => {\n",
              "    // Cache the last promise value to make it available to the next\n",
              "    // step of the generator.\n",
              "    outputElement.lastPromiseValue = value;\n",
              "    return next.value.response;\n",
              "  });\n",
              "}\n",
              "\n",
              "/**\n",
              " * Generator function which is called between each async step of the upload\n",
              " * process.\n",
              " * @param {string} inputId Element ID of the input file picker element.\n",
              " * @param {string} outputId Element ID of the output display.\n",
              " * @return {!Iterable<!Object>} Iterable of next steps.\n",
              " */\n",
              "function* uploadFilesStep(inputId, outputId) {\n",
              "  const inputElement = document.getElementById(inputId);\n",
              "  inputElement.disabled = false;\n",
              "\n",
              "  const outputElement = document.getElementById(outputId);\n",
              "  outputElement.innerHTML = '';\n",
              "\n",
              "  const pickedPromise = new Promise((resolve) => {\n",
              "    inputElement.addEventListener('change', (e) => {\n",
              "      resolve(e.target.files);\n",
              "    });\n",
              "  });\n",
              "\n",
              "  const cancel = document.createElement('button');\n",
              "  inputElement.parentElement.appendChild(cancel);\n",
              "  cancel.textContent = 'Cancel upload';\n",
              "  const cancelPromise = new Promise((resolve) => {\n",
              "    cancel.onclick = () => {\n",
              "      resolve(null);\n",
              "    };\n",
              "  });\n",
              "\n",
              "  // Wait for the user to pick the files.\n",
              "  const files = yield {\n",
              "    promise: Promise.race([pickedPromise, cancelPromise]),\n",
              "    response: {\n",
              "      action: 'starting',\n",
              "    }\n",
              "  };\n",
              "\n",
              "  cancel.remove();\n",
              "\n",
              "  // Disable the input element since further picks are not allowed.\n",
              "  inputElement.disabled = true;\n",
              "\n",
              "  if (!files) {\n",
              "    return {\n",
              "      response: {\n",
              "        action: 'complete',\n",
              "      }\n",
              "    };\n",
              "  }\n",
              "\n",
              "  for (const file of files) {\n",
              "    const li = document.createElement('li');\n",
              "    li.append(span(file.name, {fontWeight: 'bold'}));\n",
              "    li.append(span(\n",
              "        `(${file.type || 'n/a'}) - ${file.size} bytes, ` +\n",
              "        `last modified: ${\n",
              "            file.lastModifiedDate ? file.lastModifiedDate.toLocaleDateString() :\n",
              "                                    'n/a'} - `));\n",
              "    const percent = span('0% done');\n",
              "    li.appendChild(percent);\n",
              "\n",
              "    outputElement.appendChild(li);\n",
              "\n",
              "    const fileDataPromise = new Promise((resolve) => {\n",
              "      const reader = new FileReader();\n",
              "      reader.onload = (e) => {\n",
              "        resolve(e.target.result);\n",
              "      };\n",
              "      reader.readAsArrayBuffer(file);\n",
              "    });\n",
              "    // Wait for the data to be ready.\n",
              "    let fileData = yield {\n",
              "      promise: fileDataPromise,\n",
              "      response: {\n",
              "        action: 'continue',\n",
              "      }\n",
              "    };\n",
              "\n",
              "    // Use a chunked sending to avoid message size limits. See b/62115660.\n",
              "    let position = 0;\n",
              "    do {\n",
              "      const length = Math.min(fileData.byteLength - position, MAX_PAYLOAD_SIZE);\n",
              "      const chunk = new Uint8Array(fileData, position, length);\n",
              "      position += length;\n",
              "\n",
              "      const base64 = btoa(String.fromCharCode.apply(null, chunk));\n",
              "      yield {\n",
              "        response: {\n",
              "          action: 'append',\n",
              "          file: file.name,\n",
              "          data: base64,\n",
              "        },\n",
              "      };\n",
              "\n",
              "      let percentDone = fileData.byteLength === 0 ?\n",
              "          100 :\n",
              "          Math.round((position / fileData.byteLength) * 100);\n",
              "      percent.textContent = `${percentDone}% done`;\n",
              "\n",
              "    } while (position < fileData.byteLength);\n",
              "  }\n",
              "\n",
              "  // All done.\n",
              "  yield {\n",
              "    response: {\n",
              "      action: 'complete',\n",
              "    }\n",
              "  };\n",
              "}\n",
              "\n",
              "scope.google = scope.google || {};\n",
              "scope.google.colab = scope.google.colab || {};\n",
              "scope.google.colab._files = {\n",
              "  _uploadFiles,\n",
              "  _uploadFilesContinue,\n",
              "};\n",
              "})(self);\n",
              "</script> "
            ]
          },
          "metadata": {}
        },
        {
          "output_type": "stream",
          "name": "stdout",
          "text": [
            "Saving NBA Players Stats 201718.csv to NBA Players Stats 201718.csv\n",
            "Saving NBA Players Stats 201819.csv to NBA Players Stats 201819.csv\n"
          ]
        }
      ]
    },
    {
      "cell_type": "code",
      "source": [
        "#| echo: false\n",
        "\n",
        "\n",
        "# reading in the data - train and test\n",
        "nba_2017 = pd.read_csv(io.StringIO(uploaded['NBA Players Stats 201718.csv'].decode('utf-8')))\n",
        "nba_2018 = pd.read_csv(io.StringIO(uploaded['NBA Players Stats 201819.csv'].decode('utf-8')))\n",
        "\n",
        "\n",
        "#Train Dataset#\n",
        "\n",
        "## getting rid of '//' characters in player names\n",
        "nba_2017['Player'] = nba_2017['Player'].str.split('\\\\').str[0]\n",
        "\n",
        "## If players played for more than one team, we want to only keep the row that has their total stats for the year\n",
        "## applying boolean mask to get of rid of extra rows belonging to players and only keeping their 'TOT' rows\n",
        "duplicated_players = nba_2017['Player'].duplicated(keep=False)\n",
        "mask = duplicated_players & (nba_2017['Tm'] == 'TOT')\n",
        "filtered_df = nba_2017[mask]\n",
        "\n",
        "## creating seperate subset of players that don't have more than one row\n",
        "single_team_df = nba_2017[~duplicated_players]\n",
        "\n",
        "## combining previously created subset with players that played for more than one team and now only have one row assigned to them\n",
        "nba_2017_2018 = pd.concat([filtered_df, single_team_df])\n",
        "nba_2017_2018 = nba_2017_2018.reset_index(drop=True)\n",
        "\n",
        "## filling all N/A values with 0, since we are assuming players have no stats for these data points\n",
        "nba_2017_2018.fillna(0, inplace=True)\n",
        "\n",
        "## repeating the process for test dataset\n",
        "nba_2018['Player'] = nba_2018['Player'].str.split('\\\\').str[0]\n",
        "duplicated_players = nba_2018['Player'].duplicated(keep=False)\n",
        "mask = duplicated_players & (nba_2018['Tm'] == 'TOT')\n",
        "filtered_df = nba_2018[mask]\n",
        "single_team_df = nba_2018[~duplicated_players]\n",
        "nba_2018_2019 = pd.concat([filtered_df, single_team_df])\n",
        "nba_2018_2019 = nba_2018_2019.reset_index(drop=True)\n",
        "nba_2018_2019.fillna(0, inplace=True)\n",
        "\n",
        "## Train dataset\n",
        "\n",
        "## dropping predictors that won't factor into our analysis, we our focusing on stats\n",
        "nba_2017_2018 = nba_2017_2018.drop(columns=['Rk','Tm', 'Pos'], axis=1)\n",
        "\n",
        "## removing players who played less than 20 games\n",
        "nba_2017_2018 = nba_2017_2018[nba_2017_2018['G'] >= 20]\n",
        "nba_2017_2018 = nba_2017_2018.reset_index(drop=True)\n",
        "\n",
        "## converting stats into percentage form\n",
        "percentage_columns = ['FG%', '3P%', '2P%', 'eFG%', 'FT%']\n",
        "for col in percentage_columns:\n",
        "    nba_2017_2018[col] = nba_2017_2018[col] * 100\n",
        "\n",
        "## creating response variable\n",
        "## manually creating list of the following year's NBA All-Stars\n",
        "all_star_list = ['Kemba Walker', 'Kyrie Irving', 'Kawhi Leonard', 'Giannis Antetokounmpo', \n",
        "                'Joel Embiid', 'Kyle Lowry', 'Victor Oladipo', 'Khris Middleton', 'Bradley Beal',\n",
        "                'Ben Simmons', 'Blake Griffin', 'Nikola Vučević', \"D'Angelo Russell\",\n",
        "                'Stephen Curry', 'James Harden', 'Kevin Durant', 'Paul George', 'LeBron James',\n",
        "                'Russell Westbrook', 'Damian Lillard', 'Klay Thompson', 'Anthony Davis', \n",
        "                'LaMarcus Aldridge', 'DeMarcus Cousins', 'Nikola Jokić', 'Karl-Anthony Towns']\n",
        "\n",
        "## assigning a 1 to rows in a new column if the player name is in the list above\n",
        "nba_2017_2018['AS_NY'] = nba_2017_2018['Player'].apply(lambda x: 1 if x in all_star_list else 0)\n",
        "\n",
        "## repeating process for test dataset\n",
        "\n",
        "nba_2018_2019 = nba_2018_2019.drop(columns=['Rk','Tm', 'Pos'], axis=1)\n",
        "nba_2018_2019 = nba_2018_2019[nba_2018_2019['G'] >= 20]\n",
        "nba_2018_2019 = nba_2018_2019.reset_index(drop=True)\n",
        "\n",
        "percentage_columns = ['FG%', '3P%', '2P%', 'eFG%', 'FT%']\n",
        "for col in percentage_columns:\n",
        "    nba_2018_2019[col] = nba_2018_2019[col] * 100\n",
        "\n",
        "all_star_list = ['Kemba Walker', 'Trae Young', 'Giannis Antetokounmpo', 'Pascal Siakam', 'Joel Embiid',\n",
        "                'Kyle Lowry', 'Ben Simmons', 'Jimmy Butler', 'Khris Middleton', 'Bam Adebayo', \n",
        "                'Jayson Tatum', 'Domantas Sabonis', 'James Harden', 'Luka Dončić', 'LeBron James',\n",
        "                'Kawhi Leonard', 'Anthony Davis', 'Chris Paul', 'Russell Westbrook', 'Damian Lillard', \n",
        "                'Donovan Mitchell', 'Brandon Ingram', 'Nikola Jokić', 'Rudy Gobert', 'Devin Booker']\n",
        "nba_2018_2019['AS_NY'] = nba_2018_2019['Player'].apply(lambda x: 1 if x in all_star_list else 0)\n",
        "\n",
        "X_train = nba_2017_2018.drop(['Player', 'AS_NY'], axis=1) \n",
        "y_train = nba_2017_2018['AS_NY']  \n",
        "\n",
        "X_test = nba_2018_2019.drop(['Player', 'AS_NY'], axis=1)  \n",
        "y_test = nba_2018_2019['AS_NY']  "
      ],
      "metadata": {
        "id": "FIqCQLzHanoG"
      },
      "id": "FIqCQLzHanoG",
      "execution_count": null,
      "outputs": []
    },
    {
      "cell_type": "markdown",
      "source": [
        "**Reponse Variable Proportions for Train Data**"
      ],
      "metadata": {
        "id": "8sLKFvY4dqdi"
      },
      "id": "8sLKFvY4dqdi"
    },
    {
      "cell_type": "code",
      "source": [
        "#| echo: false\n",
        "\n",
        "response_counts = nba_2017_2018['AS_NY'].value_counts()\n",
        "proportions = response_counts / response_counts.sum()\n",
        "\n",
        "print(proportions)"
      ],
      "metadata": {
        "colab": {
          "base_uri": "https://localhost:8080/"
        },
        "id": "nZ4MmrD0dVPn",
        "outputId": "a98665f0-c025-4f03-f8a4-7e19b20f5911"
      },
      "id": "nZ4MmrD0dVPn",
      "execution_count": null,
      "outputs": [
        {
          "output_type": "stream",
          "name": "stdout",
          "text": [
            "0    0.939614\n",
            "1    0.060386\n",
            "Name: AS_NY, dtype: float64\n"
          ]
        }
      ]
    },
    {
      "cell_type": "markdown",
      "source": [
        "**Reponse Variable Proportions for Train Data**"
      ],
      "metadata": {
        "id": "QlGsRcgxdxe6"
      },
      "id": "QlGsRcgxdxe6"
    },
    {
      "cell_type": "code",
      "source": [
        "#| echo: false\n",
        "\n",
        "response_counts = nba_2018_2019['AS_NY'].value_counts()\n",
        "proportions = response_counts / response_counts.sum()\n",
        "\n",
        "print(proportions)"
      ],
      "metadata": {
        "colab": {
          "base_uri": "https://localhost:8080/"
        },
        "id": "z5D68wMGdzzf",
        "outputId": "7e2e8705-362e-46a0-8bd5-5de5ad8dba2e"
      },
      "id": "z5D68wMGdzzf",
      "execution_count": null,
      "outputs": [
        {
          "output_type": "stream",
          "name": "stdout",
          "text": [
            "0    0.940898\n",
            "1    0.059102\n",
            "Name: AS_NY, dtype: float64\n"
          ]
        }
      ]
    },
    {
      "cell_type": "markdown",
      "source": [
        "We gleaned no major insights from the data cleaning process. We observered that there is a large imbalance in the proportion of 0s and 1s but that is expected because only a select few players get named as an All-Star in a given year. \n",
        "\n",
        "The values themselves were correct and clean. The only column that needed cleaning was the `player` column as the original CSV file included \"\\\\\" in the player names. Additionally, we removed any players that played less than 20 games. In our inital modeling, some players were captured that had inflated stats due to a limited amount of games played.\n",
        "\n",
        "In the data preparation process, we dropped every non-statistical predictor (except age) as the stats are what this project is focused on. The hardest step in this process was removing rows for players that played for more than one team. For these players, they had a row of stats consisting for each team they played with as well as a cumulative row that had their overall season statistics. We used a boolean mask to get rid of the individual team rows. The players that played for only one team did not have this issue.\n",
        "\n",
        "We also manually added our response column (1s for players who appeared in the following year's All-Star game and 0s for those who did not.)\n",
        "\n",
        "****Tabular Data is located in the appendix****\n",
        "\n"
      ],
      "metadata": {
        "id": "1B24fDg2eI5p"
      },
      "id": "1B24fDg2eI5p"
    },
    {
      "cell_type": "markdown",
      "id": "fbb11c9b",
      "metadata": {
        "id": "fbb11c9b"
      },
      "source": [
        "## Exploratory data analysis"
      ]
    },
    {
      "cell_type": "markdown",
      "id": "e4bd74a9",
      "metadata": {
        "id": "e4bd74a9"
      },
      "source": [
        "If there is any EDA that helped with model development, put it here. If EDA didn't help then mention that, and you may show your EDA effort *(if any)* in the appendix.\n",
        "\n",
        "List the insights (as bullet points), if any, you got from EDA  that ended up being useful towards developing your final model. \n",
        "\n",
        "If there are too many plots / tables, you may put them into appendix, and just mention the insights you got from them."
      ]
    },
    {
      "cell_type": "markdown",
      "id": "d1f12d5d",
      "metadata": {
        "id": "d1f12d5d"
      },
      "source": [
        "Note that you can write code to publish the results of the code, but hide the code using the yaml setting `#|echo: false`. For example, the code below makes a plot, but the code itself is not published with Quarto in the report."
      ]
    },
    {
      "cell_type": "markdown",
      "source": [
        "**VIF Table and Heatmap located in Appendix**"
      ],
      "metadata": {
        "id": "QtOxBEp2hKJ0"
      },
      "id": "QtOxBEp2hKJ0"
    },
    {
      "cell_type": "markdown",
      "source": [
        "\n",
        "\n",
        "*   The only major insight we gleaned from our EDA process is that multicollinearity is prevalent in the datasets. However, we are using tree-based models so this did not impact model performance. Our conclusions from feature importances are limited however. \n",
        "\n",
        "\n"
      ],
      "metadata": {
        "id": "4H6QxzSHhTDT"
      },
      "id": "4H6QxzSHhTDT"
    },
    {
      "cell_type": "markdown",
      "id": "d39c782c",
      "metadata": {
        "id": "d39c782c"
      },
      "source": [
        "## Approach"
      ]
    },
    {
      "cell_type": "markdown",
      "id": "bd47dec0",
      "metadata": {
        "id": "bd47dec0"
      },
      "source": [
        "We used a variety of different models in our project -- Bagging, Random Forest, AdaBoost, Gradient Boost, and XGBoost. We also used a base logistic regression model as our baseline to compare subsequent model performances. We expected that multicollinearity could be an issue due to the nature of basketball statistics (more shots generally equals more points for example) and thus decided to utilize mostly tree-based models. \n",
        "\n",
        "We initially chose to optimize recall, because we wanted to minimize the number of false negatives in our predictions. We felt that this was the most harmful outcome for our stakeholders because it would cause confusion, so we wanted to eliminate as many false negatives as possible. However, we realized that optimizing for ROC-AUC was a more efficient way to do this and also improved our accuracy, so we switched to that instead. \n",
        "\n",
        "There were no solutions for our problem that we found on Kaggle. That was part of why we wanted to choose this problem of predicting NBA All-Stars -- it provided an exciting opportunity to work on something that others had not yet already solved. While others have worked on this data, we did not find anybody who manually imported an All-Stars column into the data."
      ]
    },
    {
      "cell_type": "markdown",
      "id": "acab331a",
      "metadata": {
        "id": "acab331a"
      },
      "source": [
        "## Developing the model: Hyperparameter tuning"
      ]
    },
    {
      "cell_type": "markdown",
      "id": "ae5ec4c9",
      "metadata": {
        "id": "ae5ec4c9"
      },
      "source": [
        "Every person must describe their hyperparameter tuning procedure. Show the grid of hyperparameter values over which the initial search was done *(you may paste your grid search / random search / any other search code)*, and the optimal hyperparameter values obtained. After getting the initial search results, how did you make decisions *(if any)* to further fine-tune your model. Did you do another grid / random search or did you tune hyperparameters sequentially? If you think you didn't need any fine tuning after the initial results, then mention that and explain why.\n",
        "\n",
        "Put each model in a section of its name and mention the name of the team-member tuning the model. Below is an example:"
      ]
    },
    {
      "cell_type": "markdown",
      "id": "ea422beb",
      "metadata": {
        "id": "ea422beb"
      },
      "source": [
        "### Lasso, Ridge & Catboost\n",
        "*By Sylvia Sherwood*"
      ]
    },
    {
      "cell_type": "markdown",
      "id": "b78fbd0e",
      "metadata": {
        "id": "b78fbd0e"
      },
      "source": [
        "### Random Forest\n",
        "*By Izzy Podolsky*\n",
        "\n",
        "Based on the work with Random Forest models that we did in class, I chose to tune two parameters: max_features and n_estimators. My grid search values for max_features were all odd numbers in the range between 1 and 19, and were 250, 500, and 750 for n_estimators. I used roc_auc and accuracy as my scoring metrics and refit the model to optimize roc_auc. 13 was the optimal value for max_features, while 750 was the optimal value for n_estimators. Because I used numbers in max_features that were close to each other to tune, I decided that a fine gridsearch would not likely yield different results.\n",
        "\n",
        "I next tuned the decision threshold by plotting accuracy against roc_auc and identified their intersection point, which was 0.09. I set this as the decision threshold when I ran my predictions on the test data."
      ]
    },
    {
      "cell_type": "markdown",
      "id": "2916849c",
      "metadata": {
        "id": "2916849c"
      },
      "source": [
        "### Bagged trees \n",
        "*By Shray Vaidya*\n",
        "\n",
        "The initial grid search is as follows:\n",
        "\n",
        "params = {'base_estimator': [DecisionTreeClassifier(random_state = 1)],\n",
        "          'n_estimators': [250,300,350,400,450,500,550],\n",
        "          'max_samples': [0.5, 0.6, 0.7, 0.8, 0.9, 1.0],\n",
        "          'max_features': [0.5, 0.6, 0.7, 0.8, 0.9, 1.0],\n",
        "          'bootstrap': [True, False],\n",
        "          'bootstrap_features': [True, False]}\n",
        "\n",
        "The optimal hyperparameter values from this search were: {'bootstrap': False, 'bootstrap_features': False, 'max_features': 0.9, 'max_samples': 0.8, 'n_estimators': 250}. I then tuned the model again with a smaller grid as follows:\n",
        "\n",
        "params = {'base_estimator': [DecisionTreeClassifier(random_state = 1)],\n",
        "          'n_estimators': [200, 210, 220, 230, 240, 250, 260, 270, 280, 290, 300],\n",
        "          'max_samples': [0.7, 0.75, 0.8, 0.85, 0.9],\n",
        "          'max_features': [0.8, 0.85, 0.9, 0.95, 1.0],}\n",
        "\n",
        "However, I found that the optimal hyperparameters did not change."
      ]
    },
    {
      "cell_type": "markdown",
      "id": "37f552ef",
      "metadata": {
        "id": "37f552ef"
      },
      "source": [
        "### XGBoost\n",
        "*By Davis Johnson*"
      ]
    },
    {
      "cell_type": "code",
      "source": [
        "## Initial hyperparameter grid\n",
        "\n",
        "scale_pos_weight = np.sum(y_train == 0) / np.sum(y_train == 1)\n",
        "\n",
        "param_grid = {\n",
        "    'n_estimators': [35,40,45,50,55,60],\n",
        "    'max_depth': [3,4,5],\n",
        "    'learning_rate': [0.01,0.2,0.3,0.4,0.5,0.6,0.7,0.8,0.9,1.0],\n",
        "    'gamma': np.arange(0,21,1),\n",
        "    'reg_lambda': [30,40,60,80,90,100,150,200],\n",
        "    'subsample': [0.1,0.2,0.3,0.4,0.5,0.6,0.7,0.8,0.9,1.0],\n",
        "    'scale_pos_weight': [scale_pos_weight],\n",
        "    'colsample_bytree': [0.1,0.2,0.3,0.4,0.5,0.6,0.7,0.8,0.9,1.0]}\n",
        "\n",
        "## After some modification - final hyperparam grid\n",
        "\n",
        "scale_pos_weight = np.sum(y_train == 0) / np.sum(y_train == 1)\n",
        "\n",
        "param_grid = {\n",
        "    'n_estimators': [21,22,23,24,25,26,27],\n",
        "    'max_depth': [4,5,6],\n",
        "    'learning_rate': [0.06,0.07,0.08,0.09,0.1,0.2,0.3,0.4,0.5,0.6,0.7,0.8,0.9,1.0],\n",
        "    'gamma': [0,1,2,3],\n",
        "    'reg_lambda': [30,40,60,80,90,100,150,200],\n",
        "    'subsample': [0.1,0.2,0.3,0.4,0.5,0.6,0.7,0.8,0.9,1.0],\n",
        "    'scale_pos_weight': [scale_pos_weight],\n",
        "    'colsample_bytree': [0.1,0.2,0.3,0.4,0.5,0.6,0.7,0.8,0.9,1.0]}"
      ],
      "metadata": {
        "id": "0i-QHhN7ilMx"
      },
      "id": "0i-QHhN7ilMx",
      "execution_count": null,
      "outputs": []
    },
    {
      "cell_type": "markdown",
      "source": [
        "Through use of the optimal hyperparameters and input from the `cv_results` table, I landed on the following model:"
      ],
      "metadata": {
        "id": "4GMtz-k7jdyQ"
      },
      "id": "4GMtz-k7jdyQ"
    },
    {
      "cell_type": "code",
      "source": [
        "model = xgb.XGBClassifier(objective='binary:logistic', use_label_encoder=False, max_depth=5, \n",
        "                          n_estimators=26, learning_rate=0.1, scale_pos_weight=scale_pos_weight, \n",
        "                          subsample=1.0, gamma=0, reg_lambda=40, colsample_bytree=0.3, random_state=1).fit(X_train, y_train)"
      ],
      "metadata": {
        "id": "w5IKMXX_jnZn"
      },
      "id": "w5IKMXX_jnZn",
      "execution_count": null,
      "outputs": []
    },
    {
      "cell_type": "markdown",
      "source": [
        "As shown above - I did some modifications on my initial grid search and alos used the CV results to identify any more optimal combinations. After landing on the above model. I tuned the optimal threshold probability to be equal to **0.28927049** and assessed the model score from there."
      ],
      "metadata": {
        "id": "jotPF2qtj0Q5"
      },
      "id": "jotPF2qtj0Q5"
    },
    {
      "cell_type": "markdown",
      "id": "be2594f1",
      "metadata": {
        "id": "be2594f1"
      },
      "source": [
        "## Model Ensemble "
      ]
    },
    {
      "cell_type": "markdown",
      "id": "fa68b0a5",
      "metadata": {
        "id": "fa68b0a5"
      },
      "source": [
        "Put the results of enembling individual models. Feel free to add subsections in this section to add more innovative ensembling methods."
      ]
    },
    {
      "cell_type": "markdown",
      "id": "66c5924a",
      "metadata": {
        "id": "66c5924a"
      },
      "source": [
        "### Voting ensemble"
      ]
    },
    {
      "cell_type": "markdown",
      "id": "78a31cb2",
      "metadata": {
        "id": "78a31cb2"
      },
      "source": [
        "The simplest voting ensemble will be the model where all models have equal weights.\n",
        "\n",
        "You may come up with innovative methods of estimating weights of the individual models, such as based on their cross-val error. Sometimes, these methods may work better than stacking ensembles, as stacking ensembles tend to overfit."
      ]
    },
    {
      "cell_type": "markdown",
      "id": "bcff4cda",
      "metadata": {
        "id": "bcff4cda"
      },
      "source": [
        "### Stacking ensemble\n",
        "Try out different models as the metamodel. You may split work as follows. The person who worked on certain types of models *(say AdaBoost and MARS)* also uses those models as a metamodel in the stacking ensemble."
      ]
    },
    {
      "cell_type": "markdown",
      "id": "2b22a5f3",
      "metadata": {
        "id": "2b22a5f3"
      },
      "source": [
        "### Ensemble of ensembled models\n",
        "\n",
        "If you are creating multiple stacking ensembles *(based on different metamodels)*, you may ensemble them."
      ]
    },
    {
      "cell_type": "markdown",
      "id": "36fe5f5f",
      "metadata": {
        "id": "36fe5f5f"
      },
      "source": [
        "### Innovative ensembling methods\n",
        "*(Optional)*\n",
        "\n",
        "Some models may do better on certain subsets of the predictor space. You may find that out, and given a data point, choose the model(s) that will best predict for that data point. This is similar to the idea of developing a decision tree metamodel. However, decision tree is prone to overfitting.\n",
        "\n",
        "Another idea may be to correct the individual models with the intercept and slope *(note the tree-based models don't have an intercept and may suffer from a constant bias)*, and then ensemble them. This is equivalent to having a simple linear regression meta-model for each of the individual models, and then ensembling the meta-models with a meta-metamodel or a voting ensemble."
      ]
    },
    {
      "cell_type": "markdown",
      "id": "1b46343d",
      "metadata": {
        "id": "1b46343d"
      },
      "source": [
        "## Limitations of the model with regard to prediction"
      ]
    },
    {
      "cell_type": "markdown",
      "id": "c85ead90",
      "metadata": {
        "id": "c85ead90"
      },
      "source": [
        "Though we all comprehensively tuned our models, it is likely that there is more work that could be done. Had we had more time, we could have attempted to tune additional hyperparameters, tuned the ensemble models using a non-greedy approach, or added additional models such as catboost and lightgbm.\n",
        "\n",
        "The data used in this model is openly accessible to stakeholders through online resources such as websites featuring sports data or media. Because our model uses data from a prior year to make predictions for the next year, it can be utilized as soon as the regular season is over to make predictions for the next year.\n",
        "\n",
        "This model will not become obsolete unless the way that professional basketball is played radically changes, which is not an event that we can predict but is highly unlikely given modern precedent.\n",
        "\n"
      ]
    },
    {
      "cell_type": "markdown",
      "id": "62a185cb",
      "metadata": {
        "id": "62a185cb"
      },
      "source": [
        "## Conclusions and Recommendations to stakeholder(s)\n",
        "\n",
        "What conclusions do you draw based on your model? You may draw conclusions based on prediction accuracy, or other performance metrics.\n",
        "\n",
        "How do you use those conclusions to come up with meaningful recommendations for stakeholders? The recommendations must be action-items for stakeholders that they can directly implement without any further analysis. Be as precise as possible. The stakeholder(s) are depending on you to come up with practically implementable recommendations, instead of having to think for themselves.\n",
        "\n",
        "If your recommendations are not practically implementable by stakeholders, how will they help them? Is there some additional data / analysis / domain expertise you need to do to make the recommendations implementable? \n",
        "\n",
        "Do the stakeholder(s) need to be aware about some limitations of your model? Is your model only good for one-time use, or is it possible to update your model at a certain frequency (based on recent data) to keep using it in the future? If it can be used in the future, then for how far into the future?"
      ]
    },
    {
      "cell_type": "markdown",
      "id": "0ca45613",
      "metadata": {
        "id": "0ca45613"
      },
      "source": [
        "Add details of each team member's contribution, other than the models contributed, in the table below."
      ]
    },
    {
      "cell_type": "markdown",
      "id": "5505da5c",
      "metadata": {
        "id": "5505da5c"
      },
      "source": [
        "<html>\n",
        "<style>\n",
        "table, td, th {\n",
        "  border: 1px solid black;\n",
        "}\n",
        "\n",
        "table {\n",
        "  border-collapse: collapse;\n",
        "  width: 100%;\n",
        "}\n",
        "\n",
        "th {\n",
        "  text-align: left;\n",
        "}\n",
        "    \n",
        "\n",
        "</style>\n",
        "<body>\n",
        "\n",
        "<h2>Individual contribution</h2>\n",
        "\n",
        "<table style=\"width:100%\">\n",
        "     <colgroup>\n",
        "       <col span=\"1\" style=\"width: 15%;\">\n",
        "       <col span=\"1\" style=\"width: 20%;\">\n",
        "       <col span=\"1\" style=\"width: 25%;\">\n",
        "       <col span=\"1\" style=\"width: 40%;\">\n",
        "    </colgroup>\n",
        "  <tr>\n",
        "    <th>Team member</th>\n",
        "    <th>Individual Model</th>\n",
        "    <th>Work other than individual model</th>    \n",
        "    <th>Details of work other than individual model</th>\n",
        "  </tr>\n",
        "  <tr>\n",
        "    <td>Shray Vaidya</td>\n",
        "    <td>Bagged Trees</td>\n",
        "    <td></td>    \n",
        "    <td></td>\n",
        "  </tr>\n",
        "  <tr>\n",
        "    <td>Andy Wen</td>\n",
        "    <td>AdaBoost, GradBoost</td>\n",
        "    <td>EDA</td>    \n",
        "    <td></td>\n",
        "  </tr>\n",
        "    <tr>\n",
        "    <td>Izzy Podolsky</td>\n",
        "    <td>Random Forest</td>\n",
        "    <td>Ensembling</td>    \n",
        "    <td></td>\n",
        "  </tr>\n",
        "    <tr>\n",
        "    <td>Davis Johnson</td>\n",
        "    <td>XGBoost</td>\n",
        "    <td>Data Cleaning and Preparation</td>    \n",
        "    <td>Project Code Template and Report</td> \n",
        "  </tr>\n",
        "</table>"
      ]
    },
    {
      "cell_type": "markdown",
      "id": "5831751c",
      "metadata": {
        "id": "5831751c"
      },
      "source": [
        "## Appendix {-}"
      ]
    },
    {
      "cell_type": "markdown",
      "source": [
        "**Distribution of Train Dataset Predictors**"
      ],
      "metadata": {
        "id": "wOJGk_xmguNS"
      },
      "id": "wOJGk_xmguNS"
    },
    {
      "cell_type": "code",
      "source": [
        "#| echo: false\n",
        "\n",
        "from tabulate import tabulate\n",
        "\n",
        "summary_stats = X_train.describe()\n",
        "\n",
        "df_summary = pd.DataFrame(summary_stats)\n",
        "\n",
        "table = tabulate(df_summary, headers='keys', tablefmt='psql')\n",
        "\n",
        "print(table)\n"
      ],
      "metadata": {
        "colab": {
          "base_uri": "https://localhost:8080/"
        },
        "id": "QY22qJNcgGNc",
        "outputId": "4110b999-3b34-48c0-e21a-e2fd7b628d39"
      },
      "id": "QY22qJNcgGNc",
      "execution_count": null,
      "outputs": [
        {
          "output_type": "stream",
          "name": "stdout",
          "text": [
            "+-------+-----------+----------+----------+-----------+-----------+-----------+-----------+------------+-----------+----------+-----------+----------+-----------+-----------+-----------+-----------+----------+------------+-----------+-----------+-----------+------------+------------+------------+-----------+-----------+\n",
            "|       |       Age |        G |       GS |        MP |        FG |       FGA |       FG% |         3P |       3PA |      3P% |        2P |      2PA |       2P% |      eFG% |        FT |       FTA |      FT% |        ORB |       DRB |       TRB |       AST |        STL |        BLK |        TOV |        PF |       PTS |\n",
            "|-------+-----------+----------+----------+-----------+-----------+-----------+-----------+------------+-----------+----------+-----------+----------+-----------+-----------+-----------+-----------+----------+------------+-----------+-----------+-----------+------------+------------+------------+-----------+-----------|\n",
            "| count | 414       | 414      | 414      | 414       | 414       | 414       | 414       | 414        | 414       | 414      | 414       | 414      | 414       | 414       | 414       | 414       | 414      | 414        | 414       | 414       | 414       | 414        | 414        | 414        | 414       | 414       |\n",
            "| mean  |  26.3406  |  60.4444 |  29.4952 |  21.9751  |   3.57319 |   7.7942  |  45.9628  |   0.942512 |   2.6256  |  30.5778 |   2.63043 |   5.1715 |  50.4309  |  51.8442  |   1.5058  |   1.95797 |  74.9444 |   0.892029 |   3.06473 |   3.9558  |   2.11763 |   0.707246 |   0.44058  |   1.24879  |   1.82657 |   9.59058 |\n",
            "| std   |   4.29397 |  18.5564 |  28.8094 |   8.06529 |   2.06977 |   4.40801 |   7.04903 |   0.807759 |   2.09321 |  12.9071 |   1.73921 |   3.3108 |   7.51504 |   5.76322 |   1.28473 |   1.58179 |  11.5686 |   0.754717 |   1.80078 |   2.40514 |   1.7756  |   0.407016 |   0.402048 |   0.795499 |   0.62403 |   5.75934 |\n",
            "| min   |  19       |  20      |   0      |   2.3     |   0.2     |   0.6     |  28.6     |   0        |   0       |   0      |   0       |   0      |   0       |  31.6     |   0       |   0       |   0      |   0        |   0.2     |   0.4     |   0.1     |   0.1      |   0        |   0        |   0.3     |   0.6     |\n",
            "| 25%   |  23       |  50      |   3      |  15.525   |   2       |   4.3     |  41.4     |   0.3      |   0.9     |  28.6    |   1.4     |   2.7    |  45.9     |  48.2     |   0.6     |   0.8     |  69.6    |   0.4      |   1.8     |   2.3     |   0.9     |   0.4      |   0.2      |   0.7      |   1.4     |   5.225   |\n",
            "| 50%   |  26       |  66      |  17      |  21.85    |   3.1     |   6.8     |  44.7     |   0.8      |   2.3     |  34.35   |   2.2     |   4.45   |  50.35    |  51.75    |   1.1     |   1.5     |  76.9    |   0.7      |   2.7     |   3.4     |   1.5     |   0.6      |   0.3      |   1.1      |   1.8     |   8.25    |\n",
            "| 75%   |  29       |  75      |  58      |  28.2     |   4.975   |  10.575   |  49.5     |   1.475    |   3.975   |  37.8    |   3.6     |   7.1    |  54.775   |  55.55    |   1.9     |   2.6     |  82.8    |   1.2      |   3.975   |   5       |   2.8     |   0.9      |   0.6      |   1.675    |   2.2     |  12.875   |\n",
            "| max   |  41       |  82      |  82      |  36.9     |  10.5     |  21.1     |  73.1     |   4.2      |  10       | 100      |   9.7     |  17.3    |  80       |  73.1     |   8.7     |  10.1     | 100      |   5.1      |  10.9     |  16       |  10.3     |   2.4      |   2.6      |   5        |   3.8     |  30.4     |\n",
            "+-------+-----------+----------+----------+-----------+-----------+-----------+-----------+------------+-----------+----------+-----------+----------+-----------+-----------+-----------+-----------+----------+------------+-----------+-----------+-----------+------------+------------+------------+-----------+-----------+\n"
          ]
        }
      ]
    },
    {
      "cell_type": "markdown",
      "source": [
        "**Distribution of Test Dataset Predictors**"
      ],
      "metadata": {
        "id": "zxKQm4qJg4FJ"
      },
      "id": "zxKQm4qJg4FJ"
    },
    {
      "cell_type": "code",
      "source": [
        "#| echo: false\n",
        "\n",
        "\n",
        "summary_stats = X_test.describe()\n",
        "\n",
        "df_summary = pd.DataFrame(summary_stats)\n",
        "\n",
        "table = tabulate(df_summary, headers='keys', tablefmt='psql')\n",
        "\n",
        "print(table)\n"
      ],
      "metadata": {
        "colab": {
          "base_uri": "https://localhost:8080/"
        },
        "id": "L9g4ZUYDgzjf",
        "outputId": "d9953000-19f4-47b1-b87a-771e42310c8f"
      },
      "id": "L9g4ZUYDgzjf",
      "execution_count": null,
      "outputs": [
        {
          "output_type": "stream",
          "name": "stdout",
          "text": [
            "+-------+-----------+----------+----------+----------+-----------+-----------+-----------+------------+-----------+----------+-----------+-----------+-----------+-----------+-----------+-----------+----------+------------+-----------+-----------+-----------+------------+------------+------------+------------+-----------+\n",
            "|       |       Age |        G |       GS |       MP |        FG |       FGA |       FG% |         3P |       3PA |      3P% |        2P |       2PA |       2P% |      eFG% |        FT |       FTA |      FT% |        ORB |       DRB |       TRB |       AST |        STL |        BLK |        TOV |         PF |       PTS |\n",
            "|-------+-----------+----------+----------+----------+-----------+-----------+-----------+------------+-----------+----------+-----------+-----------+-----------+-----------+-----------+-----------+----------+------------+-----------+-----------+-----------+------------+------------+------------+------------+-----------|\n",
            "| count | 423       | 423      | 423      | 423      | 423       | 423       | 423       | 423        | 423       | 423      | 423       | 423       | 423       | 423       | 423       | 423       | 423      | 423        | 423       | 423       | 423       | 423        | 423        | 423        | 423        | 423       |\n",
            "| mean  |  26.1797  |  59.5556 |  28.9243 |  21.8333 |   3.65721 |   7.98061 |  45.6288  |   1.01087  |   2.86738 |  30.7277 |   2.64704 |   5.11348 |  51.1317  |  51.9083  |   1.56903 |   2.05745 |  74.905  |   0.937116 |   3.14586 |   4.08156 |   2.21489 |   0.690307 |   0.452719 |   1.22364  |   1.92222  |   9.89173 |\n",
            "| std   |   4.24553 |  17.7264 |  28.6144 |   7.9711 |   2.15101 |   4.49276 |   7.07764 |   0.808588 |   2.11653 |  11.0551 |   1.83008 |   3.3688  |   7.12473 |   5.78766 |   1.35259 |   1.67702 |  10.3582 |   0.807176 |   1.846   |   2.4947  |   1.83057 |   0.399022 |   0.417151 |   0.787617 |   0.679125 |   5.98245 |\n",
            "| min   |  19       |  20      |   0      |   3.8    |   0.2     |   0.7     |  15.2     |   0        |   0       |   0      |   0       |   0.2     |  20       |  15.2     |   0       |   0       |   0      |   0.1      |   0.4     |   0.6     |   0       |   0        |   0        |   0.1      |   0.4      |   0.9     |\n",
            "| 25%   |  23       |  46      |   3      |  15.55   |   2.1     |   4.5     |  41.2     |   0.4      |   1.3     |  29.45   |   1.3     |   2.6     |  46.8     |  48.35    |   0.7     |   0.9     |  69.4    |   0.4      |   1.85    |   2.4     |   1       |   0.4      |   0.2      |   0.6      |   1.5      |   5.65    |\n",
            "| 50%   |  26       |  64      |  18      |  21.7    |   3       |   6.9     |  44.4     |   0.9      |   2.6     |  33.5    |   2.1     |   4.1     |  51       |  51.8     |   1.1     |   1.5     |  76.3    |   0.7      |   2.7     |   3.6     |   1.6     |   0.6      |   0.4      |   1        |   1.9      |   8.3     |\n",
            "| 75%   |  29       |  75      |  55      |  28      |   4.9     |  10.6     |  48.9     |   1.5      |   4.15    |  36.7    |   3.6     |   7.05    |  55.3     |  55.4     |   2       |   2.7     |  82.2    |   1.2      |   3.9     |   5.05    |   2.9     |   0.9      |   0.6      |   1.5      |   2.4      |  13       |\n",
            "| max   |  42       |  82      |  82      |  36.9    |  10.8     |  24.5     |  71.6     |   5.1      |  13.2     |  52.9    |   9.3     |  16.5     |  71.6     |  71.6     |   9.7     |  11       | 100      |   5.4      |  11.1     |  15.6     |  10.7     |   2.2      |   2.7      |   5        |   3.8      |  36.1     |\n",
            "+-------+-----------+----------+----------+----------+-----------+-----------+-----------+------------+-----------+----------+-----------+-----------+-----------+-----------+-----------+-----------+----------+------------+-----------+-----------+-----------+------------+------------+------------+------------+-----------+\n"
          ]
        }
      ]
    },
    {
      "cell_type": "markdown",
      "source": [
        "**EDA Heatmap**"
      ],
      "metadata": {
        "id": "KKu6n1STh1J0"
      },
      "id": "KKu6n1STh1J0"
    },
    {
      "cell_type": "code",
      "source": [
        "#| echo: false\n",
        "\n",
        "import seaborn as sns\n",
        "\n",
        "x_train_eda = nba_2017_2018.iloc[:, 1:-1]\n",
        "sns.heatmap(x_train_eda.corr())"
      ],
      "metadata": {
        "colab": {
          "base_uri": "https://localhost:8080/",
          "height": 480
        },
        "id": "lDDHXMi6h0jD",
        "outputId": "d944a5f9-10fc-4139-88c1-451cc300798d"
      },
      "id": "lDDHXMi6h0jD",
      "execution_count": null,
      "outputs": [
        {
          "output_type": "execute_result",
          "data": {
            "text/plain": [
              "<Axes: >"
            ]
          },
          "metadata": {},
          "execution_count": 10
        },
        {
          "output_type": "display_data",
          "data": {
            "text/plain": [
              "<Figure size 640x480 with 2 Axes>"
            ],
            "image/png": "[encoded data removed]"
          },
          "metadata": {}
        }
      ]
    },
    {
      "cell_type": "markdown",
      "source": [
        "**VIF Table from EDA**"
      ],
      "metadata": {
        "id": "bkIMTeMph_TZ"
      },
      "id": "bkIMTeMph_TZ"
    },
    {
      "cell_type": "code",
      "source": [
        "#| echo: false\n",
        "\n",
        "# Analyzing Variance Inflation Factor\n",
        "from statsmodels.stats.outliers_influence import variance_inflation_factor\n",
        "from statsmodels.tools.tools import add_constant\n",
        "\n",
        "# analyze VIF for training data (2017-2018)\n",
        "x_train_vif = nba_2017_2018.iloc[:, 1:-1]\n",
        "X = add_constant(x_train_vif)\n",
        "vif_data = pd.DataFrame()\n",
        "vif_data[\"feature\"] = X.columns\n",
        "\n",
        "for i in range(len(X.columns)):\n",
        "    vif_data.loc[i,'VIF'] = variance_inflation_factor(X.values, i)\n",
        "\n",
        "# delete columns with high VIF values \n",
        "test_vif = vif_data.sort_values(by = 'VIF', ascending = False) \n",
        "test_vif"
      ],
      "metadata": {
        "id": "gwbLjFwSh4IX",
        "colab": {
          "base_uri": "https://localhost:8080/",
          "height": 896
        },
        "outputId": "0e8af5b7-160b-4eeb-d73e-fdf0332f604e"
      },
      "id": "gwbLjFwSh4IX",
      "execution_count": null,
      "outputs": [
        {
          "output_type": "execute_result",
          "data": {
            "text/plain": [
              "   feature          VIF\n",
              "6      FGA  9278.338644\n",
              "26     PTS  6855.495654\n",
              "12     2PA  5214.888899\n",
              "5       FG  4760.500282\n",
              "20     TRB  2455.633794\n",
              "9      3PA  2136.962689\n",
              "11      2P  1669.580429\n",
              "19     DRB  1382.304451\n",
              "8       3P   568.795838\n",
              "15      FT   386.671118\n",
              "0    const   359.615994\n",
              "18     ORB   250.011013\n",
              "16     FTA    85.359677\n",
              "7      FG%    23.315430\n",
              "14    eFG%    14.742887\n",
              "4       MP    12.792623\n",
              "24     TOV    10.272942\n",
              "21     AST     5.418226\n",
              "13     2P%     4.116444\n",
              "3       GS     3.556087\n",
              "25      PF     3.075280\n",
              "22     STL     2.571860\n",
              "23     BLK     2.378908\n",
              "17     FT%     2.192007\n",
              "10     3P%     2.185635\n",
              "2        G     1.627709\n",
              "1      Age     1.119090"
            ],
            "text/html": [
              "\n",
              "  <div id=\"df-a507f3c3-602b-478e-8426-9c53ab32709b\">\n",
              "    <div class=\"colab-df-container\">\n",
              "      <div>\n",
              "<style scoped>\n",
              "    .dataframe tbody tr th:only-of-type {\n",
              "        vertical-align: middle;\n",
              "    }\n",
              "\n",
              "    .dataframe tbody tr th {\n",
              "        vertical-align: top;\n",
              "    }\n",
              "\n",
              "    .dataframe thead th {\n",
              "        text-align: right;\n",
              "    }\n",
              "</style>\n",
              "<table border=\"1\" class=\"dataframe\">\n",
              "  <thead>\n",
              "    <tr style=\"text-align: right;\">\n",
              "      <th></th>\n",
              "      <th>feature</th>\n",
              "      <th>VIF</th>\n",
              "    </tr>\n",
              "  </thead>\n",
              "  <tbody>\n",
              "    <tr>\n",
              "      <th>6</th>\n",
              "      <td>FGA</td>\n",
              "      <td>9278.338644</td>\n",
              "    </tr>\n",
              "    <tr>\n",
              "      <th>26</th>\n",
              "      <td>PTS</td>\n",
              "      <td>6855.495654</td>\n",
              "    </tr>\n",
              "    <tr>\n",
              "      <th>12</th>\n",
              "      <td>2PA</td>\n",
              "      <td>5214.888899</td>\n",
              "    </tr>\n",
              "    <tr>\n",
              "      <th>5</th>\n",
              "      <td>FG</td>\n",
              "      <td>4760.500282</td>\n",
              "    </tr>\n",
              "    <tr>\n",
              "      <th>20</th>\n",
              "      <td>TRB</td>\n",
              "      <td>2455.633794</td>\n",
              "    </tr>\n",
              "    <tr>\n",
              "      <th>9</th>\n",
              "      <td>3PA</td>\n",
              "      <td>2136.962689</td>\n",
              "    </tr>\n",
              "    <tr>\n",
              "      <th>11</th>\n",
              "      <td>2P</td>\n",
              "      <td>1669.580429</td>\n",
              "    </tr>\n",
              "    <tr>\n",
              "      <th>19</th>\n",
              "      <td>DRB</td>\n",
              "      <td>1382.304451</td>\n",
              "    </tr>\n",
              "    <tr>\n",
              "      <th>8</th>\n",
              "      <td>3P</td>\n",
              "      <td>568.795838</td>\n",
              "    </tr>\n",
              "    <tr>\n",
              "      <th>15</th>\n",
              "      <td>FT</td>\n",
              "      <td>386.671118</td>\n",
              "    </tr>\n",
              "    <tr>\n",
              "      <th>0</th>\n",
              "      <td>const</td>\n",
              "      <td>359.615994</td>\n",
              "    </tr>\n",
              "    <tr>\n",
              "      <th>18</th>\n",
              "      <td>ORB</td>\n",
              "      <td>250.011013</td>\n",
              "    </tr>\n",
              "    <tr>\n",
              "      <th>16</th>\n",
              "      <td>FTA</td>\n",
              "      <td>85.359677</td>\n",
              "    </tr>\n",
              "    <tr>\n",
              "      <th>7</th>\n",
              "      <td>FG%</td>\n",
              "      <td>23.315430</td>\n",
              "    </tr>\n",
              "    <tr>\n",
              "      <th>14</th>\n",
              "      <td>eFG%</td>\n",
              "      <td>14.742887</td>\n",
              "    </tr>\n",
              "    <tr>\n",
              "      <th>4</th>\n",
              "      <td>MP</td>\n",
              "      <td>12.792623</td>\n",
              "    </tr>\n",
              "    <tr>\n",
              "      <th>24</th>\n",
              "      <td>TOV</td>\n",
              "      <td>10.272942</td>\n",
              "    </tr>\n",
              "    <tr>\n",
              "      <th>21</th>\n",
              "      <td>AST</td>\n",
              "      <td>5.418226</td>\n",
              "    </tr>\n",
              "    <tr>\n",
              "      <th>13</th>\n",
              "      <td>2P%</td>\n",
              "      <td>4.116444</td>\n",
              "    </tr>\n",
              "    <tr>\n",
              "      <th>3</th>\n",
              "      <td>GS</td>\n",
              "      <td>3.556087</td>\n",
              "    </tr>\n",
              "    <tr>\n",
              "      <th>25</th>\n",
              "      <td>PF</td>\n",
              "      <td>3.075280</td>\n",
              "    </tr>\n",
              "    <tr>\n",
              "      <th>22</th>\n",
              "      <td>STL</td>\n",
              "      <td>2.571860</td>\n",
              "    </tr>\n",
              "    <tr>\n",
              "      <th>23</th>\n",
              "      <td>BLK</td>\n",
              "      <td>2.378908</td>\n",
              "    </tr>\n",
              "    <tr>\n",
              "      <th>17</th>\n",
              "      <td>FT%</td>\n",
              "      <td>2.192007</td>\n",
              "    </tr>\n",
              "    <tr>\n",
              "      <th>10</th>\n",
              "      <td>3P%</td>\n",
              "      <td>2.185635</td>\n",
              "    </tr>\n",
              "    <tr>\n",
              "      <th>2</th>\n",
              "      <td>G</td>\n",
              "      <td>1.627709</td>\n",
              "    </tr>\n",
              "    <tr>\n",
              "      <th>1</th>\n",
              "      <td>Age</td>\n",
              "      <td>1.119090</td>\n",
              "    </tr>\n",
              "  </tbody>\n",
              "</table>\n",
              "</div>\n",
              "      <button class=\"colab-df-convert\" onclick=\"convertToInteractive('df-a507f3c3-602b-478e-8426-9c53ab32709b')\"\n",
              "              title=\"Convert this dataframe to an interactive table.\"\n",
              "              style=\"display:none;\">\n",
              "        \n",
              "  <svg xmlns=\"http://www.w3.org/2000/svg\" height=\"24px\"viewBox=\"0 0 24 24\"\n",
              "       width=\"24px\">\n",
              "    <path d=\"M0 0h24v24H0V0z\" fill=\"none\"/>\n",
              "    <path d=\"M18.56 5.44l.94 2.06.94-2.06 2.06-.94-2.06-.94-.94-2.06-.94 2.06-2.06.94zm-11 1L8.5 8.5l.94-2.06 2.06-.94-2.06-.94L8.5 2.5l-.94 2.06-2.06.94zm10 10l.94 2.06.94-2.06 2.06-.94-2.06-.94-.94-2.06-.94 2.06-2.06.94z\"/><path d=\"M17.41 7.96l-1.37-1.37c-.4-.4-.92-.59-1.43-.59-.52 0-1.04.2-1.43.59L10.3 9.45l-7.72 7.72c-.78.78-.78 2.05 0 2.83L4 21.41c.39.39.9.59 1.41.59.51 0 1.02-.2 1.41-.59l7.78-7.78 2.81-2.81c.8-.78.8-2.07 0-2.86zM5.41 20L4 18.59l7.72-7.72 1.47 1.35L5.41 20z\"/>\n",
              "  </svg>\n",
              "      </button>\n",
              "      \n",
              "  <style>\n",
              "    .colab-df-container {\n",
              "      display:flex;\n",
              "      flex-wrap:wrap;\n",
              "      gap: 12px;\n",
              "    }\n",
              "\n",
              "    .colab-df-convert {\n",
              "      background-color: #E8F0FE;\n",
              "      border: none;\n",
              "      border-radius: 50%;\n",
              "      cursor: pointer;\n",
              "      display: none;\n",
              "      fill: #1967D2;\n",
              "      height: 32px;\n",
              "      padding: 0 0 0 0;\n",
              "      width: 32px;\n",
              "    }\n",
              "\n",
              "    .colab-df-convert:hover {\n",
              "      background-color: #E2EBFA;\n",
              "      box-shadow: 0px 1px 2px rgba(60, 64, 67, 0.3), 0px 1px 3px 1px rgba(60, 64, 67, 0.15);\n",
              "      fill: #174EA6;\n",
              "    }\n",
              "\n",
              "    [theme=dark] .colab-df-convert {\n",
              "      background-color: #3B4455;\n",
              "      fill: #D2E3FC;\n",
              "    }\n",
              "\n",
              "    [theme=dark] .colab-df-convert:hover {\n",
              "      background-color: #434B5C;\n",
              "      box-shadow: 0px 1px 3px 1px rgba(0, 0, 0, 0.15);\n",
              "      filter: drop-shadow(0px 1px 2px rgba(0, 0, 0, 0.3));\n",
              "      fill: #FFFFFF;\n",
              "    }\n",
              "  </style>\n",
              "\n",
              "      <script>\n",
              "        const buttonEl =\n",
              "          document.querySelector('#df-a507f3c3-602b-478e-8426-9c53ab32709b button.colab-df-convert');\n",
              "        buttonEl.style.display =\n",
              "          google.colab.kernel.accessAllowed ? 'block' : 'none';\n",
              "\n",
              "        async function convertToInteractive(key) {\n",
              "          const element = document.querySelector('#df-a507f3c3-602b-478e-8426-9c53ab32709b');\n",
              "          const dataTable =\n",
              "            await google.colab.kernel.invokeFunction('convertToInteractive',\n",
              "                                                     [key], {});\n",
              "          if (!dataTable) return;\n",
              "\n",
              "          const docLinkHtml = 'Like what you see? Visit the ' +\n",
              "            '<a target=\"_blank\" href=https://colab.research.google.com/notebooks/data_table.ipynb>data table notebook</a>'\n",
              "            + ' to learn more about interactive tables.';\n",
              "          element.innerHTML = '';\n",
              "          dataTable['output_type'] = 'display_data';\n",
              "          await google.colab.output.renderOutput(dataTable, element);\n",
              "          const docLink = document.createElement('div');\n",
              "          docLink.innerHTML = docLinkHtml;\n",
              "          element.appendChild(docLink);\n",
              "        }\n",
              "      </script>\n",
              "    </div>\n",
              "  </div>\n",
              "  "
            ]
          },
          "metadata": {},
          "execution_count": 11
        }
      ]
    }
  ],
  "metadata": {
    "kernelspec": {
      "display_name": "Python 3",
      "language": "python",
      "name": "python3"
    },
    "language_info": {
      "codemirror_mode": {
        "name": "ipython",
        "version": 3
      },
      "file_extension": ".py",
      "mimetype": "text/x-python",
      "name": "python",
      "nbconvert_exporter": "python",
      "pygments_lexer": "ipython3",
      "version": "3.8.8"
    },
    "colab": {
      "provenance": []
    }
  },
  "nbformat": 4,
  "nbformat_minor": 5
}